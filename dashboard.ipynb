{
 "cells": [
  {
   "cell_type": "code",
   "execution_count": 111,
   "metadata": {},
   "outputs": [],
   "source": [
    "import numpy as np\n",
    "\n",
    "with open('./coef_model2.npy', 'rb') as f:\n",
    "    coef = np.load(f)\n",
    "\n",
    "coef_NKI = coef[:, 0]\n",
    "coef_share = coef[:, 1]"
   ]
  },
  {
   "cell_type": "code",
   "execution_count": 112,
   "metadata": {},
   "outputs": [],
   "source": [
    "import gzip\n",
    "import pickle\n",
    "\n",
    "filename = './slider_values.pkl.gz'\n",
    "\n",
    "with gzip.open(filename, 'rb') as f:\n",
    "    X_df = pickle.load(f)\n",
    "    \n",
    "filename = './outcomes.pkl.gz'\n",
    "\n",
    "with gzip.open(filename, 'rb') as f:\n",
    "    Y_df = pickle.load(f)"
   ]
  },
  {
   "cell_type": "code",
   "execution_count": 113,
   "metadata": {},
   "outputs": [],
   "source": [
    "import ipywidgets as widgets\n",
    "\n",
    "knowledge_init = X_df.loc['knowledge', 2019]\n",
    "punctuality_init = X_df.loc['punctuality', 2019]\n",
    "relevance_init = X_df.loc['relevance', 2019]\n",
    "value_init = X_df.loc['value', 2019]\n",
    "\n",
    "knowledge = widgets.FloatSlider(\n",
    "    value=knowledge_init,\n",
    "    min=knowledge_init - 0.1,\n",
    "    max=knowledge_init + 0.1,\n",
    "    step=0.01,\n",
    "    description='knowledge',\n",
    "    disabled=False,\n",
    "    continuous_update=False,\n",
    "    orientation='horizontal',\n",
    "    readout=True,\n",
    "    readout_format='.2f',\n",
    ")\n",
    "\n",
    "punctuality = widgets.FloatSlider(\n",
    "    value=punctuality_init,\n",
    "    min=punctuality_init - 0.1,\n",
    "    max=punctuality_init + 0.1,\n",
    "    step=0.01,\n",
    "    description='punctuality',\n",
    "    disabled=False,\n",
    "    continuous_update=False,\n",
    "    orientation='horizontal',\n",
    "    readout=True,\n",
    "    readout_format='.2f',\n",
    ")\n",
    "\n",
    "relevance = widgets.FloatSlider(\n",
    "    value=relevance_init,\n",
    "    min=relevance_init - 0.1,\n",
    "    max=relevance_init + 0.1,\n",
    "    step=0.01,\n",
    "    description='relevance',\n",
    "    disabled=False,\n",
    "    continuous_update=False,\n",
    "    orientation='horizontal',\n",
    "    readout=True,\n",
    "    readout_format='.2f',\n",
    ")\n",
    "\n",
    "value = widgets.FloatSlider(\n",
    "    value=value_init,\n",
    "    min=value_init - 0.1,\n",
    "    max=value_init + 0.1,\n",
    "    step=0.01,\n",
    "    description='value',\n",
    "    disabled=False,\n",
    "    continuous_update=False,\n",
    "    orientation='horizontal',\n",
    "    readout=True,\n",
    "    readout_format='.2f',\n",
    ")\n",
    "\n",
    "slider_layout = widgets.VBox([knowledge, punctuality, relevance, value])"
   ]
  },
  {
   "cell_type": "code",
   "execution_count": 114,
   "metadata": {},
   "outputs": [],
   "source": [
    "# import bqplot.pyplot as plt\n",
    "# import pandas as pd\n",
    "\n",
    "# X = np.array([\n",
    "# 1,\n",
    "# knowledge.value,\n",
    "# punctuality.value,\n",
    "# relevance.value,\n",
    "# value.value\n",
    "# ])\n",
    "\n",
    "# outputs = pd.DataFrame({\n",
    "# 'outcomes':['NKI', 'market_share'],\n",
    "# 'value':[round(X@coef_NKI, 3), round(X@coef_share, 3)]\n",
    "# })\n",
    "\n",
    "# title = f'''\n",
    "# What-if\\n\n",
    "# original NKI = {Y_df.loc['Nöjd Kund Index (NKI) allmänheten', 2019]}, \n",
    "# original market share = {Y_df.loc['Kollektivtrafikens marknadsandel', 2019]}\\n\n",
    "# estimated NKI = {outputs.iloc[0,1]},\n",
    "# estimated market share = {outputs.iloc[1,1]})\n",
    "# '''\n",
    "\n",
    "# fig = px.bar(outputs, x='outcomes', y='value',\n",
    "#              width=500, height=300, range_y = [0, 0.8], text='value', title=title)"
   ]
  },
  {
   "cell_type": "markdown",
   "metadata": {},
   "source": [
    "# <center>Example Dashboard</center>"
   ]
  },
  {
   "cell_type": "markdown",
   "metadata": {},
   "source": [
    "### Original values in 2019: \n",
    "#### NKI = **0.54**, Market share = **0.32**"
   ]
  },
  {
   "cell_type": "code",
   "execution_count": 117,
   "metadata": {},
   "outputs": [
    {
     "data": {
      "application/vnd.jupyter.widget-view+json": {
       "model_id": "8ed8d067647849849f96f0579fcdb8b6",
       "version_major": 2,
       "version_minor": 0
      },
      "text/plain": [
       "HBox(children=(VBox(children=(FloatSlider(value=0.63, continuous_update=False, description='knowledge', max=0.…"
      ]
     },
     "metadata": {},
     "output_type": "display_data"
    }
   ],
   "source": [
    "from ipywidgets import interact, HBox, VBox, interactive_output\n",
    "import pandas as pd\n",
    "import plotly.express as px\n",
    "\n",
    "def plot(knowledge, punctuality, relevance, value):\n",
    "    X = np.array([\n",
    "    1,\n",
    "    knowledge,\n",
    "    punctuality,\n",
    "    relevance,\n",
    "    value\n",
    "    ])\n",
    "    \n",
    "    outputs = pd.DataFrame({\n",
    "    'outcomes':['NKI', 'market_share'],\n",
    "    'value':[round(X@coef_NKI, 3), round(X@coef_share, 3)]\n",
    "    })\n",
    "    \n",
    "    fig = px.bar(outputs, x='outcomes', y='value',\n",
    "                width=400, height=300, range_y = [0, 0.8], text='value',\n",
    "                title='Estimated outcomes')\n",
    "\n",
    "    return fig.show()\n",
    "\n",
    "out = widgets.interactive_output(plot, \n",
    "                                 {'knowledge': knowledge, 'punctuality': punctuality, 'relevance': relevance, 'value':value})\n",
    "\n",
    "layout = widgets.Layout(display='flex',\n",
    "                flex_flow='raw',\n",
    "                align_items='center',\n",
    "                width='100%')\n",
    "display(HBox([VBox([knowledge, punctuality, relevance, value]), out], layout=layout))"
   ]
  },
  {
   "cell_type": "markdown",
   "metadata": {},
   "source": [
    "knowledge = For most trips I make, I know how to go with the company.\n",
    "\n",
    "punctuality = I can trust that I will arrive on time with the company.\n",
    "\n",
    "relevance = I can use the company for most trips I make.\n",
    "\n",
    "value (for money) = It is affordable to travel with the company."
   ]
  },
  {
   "cell_type": "code",
   "execution_count": null,
   "metadata": {},
   "outputs": [],
   "source": []
  }
 ],
 "metadata": {
  "kernelspec": {
   "display_name": "Python 3",
   "language": "python",
   "name": "python3"
  },
  "language_info": {
   "codemirror_mode": {
    "name": "ipython",
    "version": 3
   },
   "file_extension": ".py",
   "mimetype": "text/x-python",
   "name": "python",
   "nbconvert_exporter": "python",
   "pygments_lexer": "ipython3",
   "version": "3.8.5"
  }
 },
 "nbformat": 4,
 "nbformat_minor": 4
}
