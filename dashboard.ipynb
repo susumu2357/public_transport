{
 "cells": [
  {
   "cell_type": "code",
   "execution_count": 113,
   "metadata": {},
   "outputs": [],
   "source": [
    "import numpy as np\n",
    "\n",
    "with open('./data/coef_model2.npy', 'rb') as f:\n",
    "    coef = np.load(f)\n",
    "\n",
    "coef_NKI = coef[:, 0]\n",
    "coef_share = coef[:, 1]"
   ]
  },
  {
   "cell_type": "code",
   "execution_count": 114,
   "metadata": {},
   "outputs": [],
   "source": [
    "import gzip\n",
    "import pickle\n",
    "\n",
    "filename = './data/slider_values.pkl.gz'\n",
    "\n",
    "with gzip.open(filename, 'rb') as f:\n",
    "    X_df = pickle.load(f)\n",
    "    \n",
    "filename = './data/outcomes.pkl.gz'\n",
    "\n",
    "with gzip.open(filename, 'rb') as f:\n",
    "    Y_df = pickle.load(f)"
   ]
  },
  {
   "cell_type": "code",
   "execution_count": 115,
   "metadata": {},
   "outputs": [],
   "source": [
    "import ipywidgets as widgets\n",
    "\n",
    "knowledge_init = X_df.loc['knowledge', 2019]\n",
    "punctuality_init = X_df.loc['punctuality', 2019]\n",
    "relevance_init = X_df.loc['relevance', 2019]\n",
    "value_init = X_df.loc['value', 2019]\n",
    "\n",
    "knowledge = widgets.FloatSlider(\n",
    "    value=knowledge_init,\n",
    "    min=knowledge_init - 0.1,\n",
    "    max=knowledge_init + 0.1,\n",
    "    step=0.01,\n",
    "    description='knowledge',\n",
    "    disabled=False,\n",
    "    continuous_update=False,\n",
    "    orientation='horizontal',\n",
    "    readout=True,\n",
    "    readout_format='.2f',\n",
    ")\n",
    "\n",
    "punctuality = widgets.FloatSlider(\n",
    "    value=punctuality_init,\n",
    "    min=punctuality_init - 0.1,\n",
    "    max=punctuality_init + 0.1,\n",
    "    step=0.01,\n",
    "    description='punctuality',\n",
    "    disabled=False,\n",
    "    continuous_update=False,\n",
    "    orientation='horizontal',\n",
    "    readout=True,\n",
    "    readout_format='.2f',\n",
    ")\n",
    "\n",
    "relevance = widgets.FloatSlider(\n",
    "    value=relevance_init,\n",
    "    min=relevance_init - 0.1,\n",
    "    max=relevance_init + 0.1,\n",
    "    step=0.01,\n",
    "    description='relevance',\n",
    "    disabled=False,\n",
    "    continuous_update=False,\n",
    "    orientation='horizontal',\n",
    "    readout=True,\n",
    "    readout_format='.2f',\n",
    ")\n",
    "\n",
    "value = widgets.FloatSlider(\n",
    "    value=value_init,\n",
    "    min=value_init - 0.1,\n",
    "    max=value_init + 0.1,\n",
    "    step=0.01,\n",
    "    description='value',\n",
    "    disabled=False,\n",
    "    continuous_update=False,\n",
    "    orientation='horizontal',\n",
    "    readout=True,\n",
    "    readout_format='.2f',\n",
    ")\n",
    "\n",
    "# slider_layout = widgets.VBox([knowledge, punctuality, relevance, value])"
   ]
  },
  {
   "cell_type": "code",
   "execution_count": 116,
   "metadata": {},
   "outputs": [],
   "source": [
    "# import bqplot.pyplot as plt\n",
    "# import pandas as pd\n",
    "\n",
    "# X = np.array([\n",
    "# 1,\n",
    "# knowledge.value,\n",
    "# punctuality.value,\n",
    "# relevance.value,\n",
    "# value.value\n",
    "# ])\n",
    "\n",
    "# outputs = pd.DataFrame({\n",
    "# 'outcomes':['NKI', 'market_share'],\n",
    "# 'value':[round(X@coef_NKI, 3), round(X@coef_share, 3)]\n",
    "# })\n",
    "\n",
    "# title = f'''\n",
    "# What-if\\n\n",
    "# original NKI = {Y_df.loc['Nöjd Kund Index (NKI) allmänheten', 2019]}, \n",
    "# original market share = {Y_df.loc['Kollektivtrafikens marknadsandel', 2019]}\\n\n",
    "# estimated NKI = {outputs.iloc[0,1]},\n",
    "# estimated market share = {outputs.iloc[1,1]})\n",
    "# '''\n",
    "\n",
    "# fig = px.bar(outputs, x='outcomes', y='value',\n",
    "#              width=500, height=300, range_y = [0, 0.8], text='value', title=title)"
   ]
  },
  {
   "cell_type": "markdown",
   "metadata": {},
   "source": [
    "# <center>Example Dashboard</center>"
   ]
  },
  {
   "cell_type": "code",
   "execution_count": 117,
   "metadata": {},
   "outputs": [],
   "source": [
    "from ipywidgets import interact, HBox, VBox, interactive_output\n",
    "import pandas as pd\n",
    "import plotly.express as px\n",
    "\n",
    "y_df = Y_df.loc[['Nöjd Kund Index (NKI) allmänheten', 'Kollektivtrafikens marknadsandel'],:]\n",
    "y_df.index = ['NKI', 'market_share']\n",
    "\n",
    "data_df = pd.concat([X_df, y_df], axis=0).unstack().reset_index()\n",
    "data_df.columns = ['year', 'variable', 'value']\n",
    "data_df['type'] = (['driver']*4 + ['outcome']*2 )*10\n",
    "data_df['value'] = data_df['value'].apply(lambda x:round(x, 2))"
   ]
  },
  {
   "cell_type": "code",
   "execution_count": 118,
   "metadata": {},
   "outputs": [
    {
     "data": {
      "application/vnd.plotly.v1+json": {
       "config": {
        "plotlyServerURL": "https://plot.ly"
       },
       "data": [
        {
         "hovertemplate": "variable=NKI<br>type=outcome<br>year=%{x}<br>value=%{y}<extra></extra>",
         "legendgroup": "NKI",
         "line": {
          "color": "#636efa",
          "dash": "solid"
         },
         "mode": "lines",
         "name": "NKI",
         "orientation": "v",
         "showlegend": true,
         "type": "scatter",
         "x": [
          2010,
          2011,
          2012,
          2013,
          2014,
          2015,
          2016,
          2017,
          2018,
          2019
         ],
         "xaxis": "x2",
         "y": [
          0.53,
          0.5,
          0.51,
          0.5,
          0.52,
          0.52,
          0.49,
          0.51,
          0.53,
          0.54
         ],
         "yaxis": "y2"
        },
        {
         "hovertemplate": "variable=market_share<br>type=outcome<br>year=%{x}<br>value=%{y}<extra></extra>",
         "legendgroup": "market_share",
         "line": {
          "color": "#EF553B",
          "dash": "solid"
         },
         "mode": "lines",
         "name": "market_share",
         "orientation": "v",
         "showlegend": true,
         "type": "scatter",
         "x": [
          2010,
          2011,
          2012,
          2013,
          2014,
          2015,
          2016,
          2017,
          2018,
          2019
         ],
         "xaxis": "x2",
         "y": [
          0.24,
          0.26,
          0.27,
          0.27,
          0.28,
          0.27,
          0.19,
          0.27,
          0.31,
          0.32
         ],
         "yaxis": "y2"
        },
        {
         "hovertemplate": "variable=knowledge<br>type=driver<br>year=%{x}<br>value=%{y}<extra></extra>",
         "legendgroup": "knowledge",
         "line": {
          "color": "#00cc96",
          "dash": "solid"
         },
         "mode": "lines",
         "name": "knowledge",
         "orientation": "v",
         "showlegend": true,
         "type": "scatter",
         "x": [
          2010,
          2011,
          2012,
          2013,
          2014,
          2015,
          2016,
          2017,
          2018,
          2019
         ],
         "xaxis": "x",
         "y": [
          0.56,
          0.56,
          0.57,
          0.56,
          0.58,
          0.59,
          0.59,
          0.6,
          0.62,
          0.63
         ],
         "yaxis": "y"
        },
        {
         "hovertemplate": "variable=punctuality<br>type=driver<br>year=%{x}<br>value=%{y}<extra></extra>",
         "legendgroup": "punctuality",
         "line": {
          "color": "#ab63fa",
          "dash": "solid"
         },
         "mode": "lines",
         "name": "punctuality",
         "orientation": "v",
         "showlegend": true,
         "type": "scatter",
         "x": [
          2010,
          2011,
          2012,
          2013,
          2014,
          2015,
          2016,
          2017,
          2018,
          2019
         ],
         "xaxis": "x",
         "y": [
          0.46,
          0.42,
          0.44,
          0.44,
          0.44,
          0.44,
          0.42,
          0.46,
          0.45,
          0.46
         ],
         "yaxis": "y"
        },
        {
         "hovertemplate": "variable=relevance<br>type=driver<br>year=%{x}<br>value=%{y}<extra></extra>",
         "legendgroup": "relevance",
         "line": {
          "color": "#FFA15A",
          "dash": "solid"
         },
         "mode": "lines",
         "name": "relevance",
         "orientation": "v",
         "showlegend": true,
         "type": "scatter",
         "x": [
          2010,
          2011,
          2012,
          2013,
          2014,
          2015,
          2016,
          2017,
          2018,
          2019
         ],
         "xaxis": "x",
         "y": [
          0.4,
          0.4,
          0.39,
          0.39,
          0.38,
          0.38,
          0.38,
          0.51,
          0.54,
          0.54
         ],
         "yaxis": "y"
        },
        {
         "hovertemplate": "variable=value<br>type=driver<br>year=%{x}<br>value=%{y}<extra></extra>",
         "legendgroup": "value",
         "line": {
          "color": "#19d3f3",
          "dash": "solid"
         },
         "mode": "lines",
         "name": "value",
         "orientation": "v",
         "showlegend": true,
         "type": "scatter",
         "x": [
          2010,
          2011,
          2012,
          2013,
          2014,
          2015,
          2016,
          2017,
          2018,
          2019
         ],
         "xaxis": "x",
         "y": [
          0.37,
          0.38,
          0.37,
          0.37,
          0.34,
          0.35,
          0.35,
          0.39,
          0.39,
          0.39
         ],
         "yaxis": "y"
        }
       ],
       "layout": {
        "annotations": [
         {
          "font": {},
          "showarrow": false,
          "text": "type=driver",
          "textangle": 90,
          "x": 0.98,
          "xanchor": "left",
          "xref": "paper",
          "y": 0.2425,
          "yanchor": "middle",
          "yref": "paper"
         },
         {
          "font": {},
          "showarrow": false,
          "text": "type=outcome",
          "textangle": 90,
          "x": 0.98,
          "xanchor": "left",
          "xref": "paper",
          "y": 0.7575000000000001,
          "yanchor": "middle",
          "yref": "paper"
         }
        ],
        "height": 500,
        "legend": {
         "title": {
          "text": "variable"
         },
         "tracegroupgap": 0
        },
        "template": {
         "data": {
          "bar": [
           {
            "error_x": {
             "color": "#2a3f5f"
            },
            "error_y": {
             "color": "#2a3f5f"
            },
            "marker": {
             "line": {
              "color": "#E5ECF6",
              "width": 0.5
             }
            },
            "type": "bar"
           }
          ],
          "barpolar": [
           {
            "marker": {
             "line": {
              "color": "#E5ECF6",
              "width": 0.5
             }
            },
            "type": "barpolar"
           }
          ],
          "carpet": [
           {
            "aaxis": {
             "endlinecolor": "#2a3f5f",
             "gridcolor": "white",
             "linecolor": "white",
             "minorgridcolor": "white",
             "startlinecolor": "#2a3f5f"
            },
            "baxis": {
             "endlinecolor": "#2a3f5f",
             "gridcolor": "white",
             "linecolor": "white",
             "minorgridcolor": "white",
             "startlinecolor": "#2a3f5f"
            },
            "type": "carpet"
           }
          ],
          "choropleth": [
           {
            "colorbar": {
             "outlinewidth": 0,
             "ticks": ""
            },
            "type": "choropleth"
           }
          ],
          "contour": [
           {
            "colorbar": {
             "outlinewidth": 0,
             "ticks": ""
            },
            "colorscale": [
             [
              0,
              "#0d0887"
             ],
             [
              0.1111111111111111,
              "#46039f"
             ],
             [
              0.2222222222222222,
              "#7201a8"
             ],
             [
              0.3333333333333333,
              "#9c179e"
             ],
             [
              0.4444444444444444,
              "#bd3786"
             ],
             [
              0.5555555555555556,
              "#d8576b"
             ],
             [
              0.6666666666666666,
              "#ed7953"
             ],
             [
              0.7777777777777778,
              "#fb9f3a"
             ],
             [
              0.8888888888888888,
              "#fdca26"
             ],
             [
              1,
              "#f0f921"
             ]
            ],
            "type": "contour"
           }
          ],
          "contourcarpet": [
           {
            "colorbar": {
             "outlinewidth": 0,
             "ticks": ""
            },
            "type": "contourcarpet"
           }
          ],
          "heatmap": [
           {
            "colorbar": {
             "outlinewidth": 0,
             "ticks": ""
            },
            "colorscale": [
             [
              0,
              "#0d0887"
             ],
             [
              0.1111111111111111,
              "#46039f"
             ],
             [
              0.2222222222222222,
              "#7201a8"
             ],
             [
              0.3333333333333333,
              "#9c179e"
             ],
             [
              0.4444444444444444,
              "#bd3786"
             ],
             [
              0.5555555555555556,
              "#d8576b"
             ],
             [
              0.6666666666666666,
              "#ed7953"
             ],
             [
              0.7777777777777778,
              "#fb9f3a"
             ],
             [
              0.8888888888888888,
              "#fdca26"
             ],
             [
              1,
              "#f0f921"
             ]
            ],
            "type": "heatmap"
           }
          ],
          "heatmapgl": [
           {
            "colorbar": {
             "outlinewidth": 0,
             "ticks": ""
            },
            "colorscale": [
             [
              0,
              "#0d0887"
             ],
             [
              0.1111111111111111,
              "#46039f"
             ],
             [
              0.2222222222222222,
              "#7201a8"
             ],
             [
              0.3333333333333333,
              "#9c179e"
             ],
             [
              0.4444444444444444,
              "#bd3786"
             ],
             [
              0.5555555555555556,
              "#d8576b"
             ],
             [
              0.6666666666666666,
              "#ed7953"
             ],
             [
              0.7777777777777778,
              "#fb9f3a"
             ],
             [
              0.8888888888888888,
              "#fdca26"
             ],
             [
              1,
              "#f0f921"
             ]
            ],
            "type": "heatmapgl"
           }
          ],
          "histogram": [
           {
            "marker": {
             "colorbar": {
              "outlinewidth": 0,
              "ticks": ""
             }
            },
            "type": "histogram"
           }
          ],
          "histogram2d": [
           {
            "colorbar": {
             "outlinewidth": 0,
             "ticks": ""
            },
            "colorscale": [
             [
              0,
              "#0d0887"
             ],
             [
              0.1111111111111111,
              "#46039f"
             ],
             [
              0.2222222222222222,
              "#7201a8"
             ],
             [
              0.3333333333333333,
              "#9c179e"
             ],
             [
              0.4444444444444444,
              "#bd3786"
             ],
             [
              0.5555555555555556,
              "#d8576b"
             ],
             [
              0.6666666666666666,
              "#ed7953"
             ],
             [
              0.7777777777777778,
              "#fb9f3a"
             ],
             [
              0.8888888888888888,
              "#fdca26"
             ],
             [
              1,
              "#f0f921"
             ]
            ],
            "type": "histogram2d"
           }
          ],
          "histogram2dcontour": [
           {
            "colorbar": {
             "outlinewidth": 0,
             "ticks": ""
            },
            "colorscale": [
             [
              0,
              "#0d0887"
             ],
             [
              0.1111111111111111,
              "#46039f"
             ],
             [
              0.2222222222222222,
              "#7201a8"
             ],
             [
              0.3333333333333333,
              "#9c179e"
             ],
             [
              0.4444444444444444,
              "#bd3786"
             ],
             [
              0.5555555555555556,
              "#d8576b"
             ],
             [
              0.6666666666666666,
              "#ed7953"
             ],
             [
              0.7777777777777778,
              "#fb9f3a"
             ],
             [
              0.8888888888888888,
              "#fdca26"
             ],
             [
              1,
              "#f0f921"
             ]
            ],
            "type": "histogram2dcontour"
           }
          ],
          "mesh3d": [
           {
            "colorbar": {
             "outlinewidth": 0,
             "ticks": ""
            },
            "type": "mesh3d"
           }
          ],
          "parcoords": [
           {
            "line": {
             "colorbar": {
              "outlinewidth": 0,
              "ticks": ""
             }
            },
            "type": "parcoords"
           }
          ],
          "pie": [
           {
            "automargin": true,
            "type": "pie"
           }
          ],
          "scatter": [
           {
            "marker": {
             "colorbar": {
              "outlinewidth": 0,
              "ticks": ""
             }
            },
            "type": "scatter"
           }
          ],
          "scatter3d": [
           {
            "line": {
             "colorbar": {
              "outlinewidth": 0,
              "ticks": ""
             }
            },
            "marker": {
             "colorbar": {
              "outlinewidth": 0,
              "ticks": ""
             }
            },
            "type": "scatter3d"
           }
          ],
          "scattercarpet": [
           {
            "marker": {
             "colorbar": {
              "outlinewidth": 0,
              "ticks": ""
             }
            },
            "type": "scattercarpet"
           }
          ],
          "scattergeo": [
           {
            "marker": {
             "colorbar": {
              "outlinewidth": 0,
              "ticks": ""
             }
            },
            "type": "scattergeo"
           }
          ],
          "scattergl": [
           {
            "marker": {
             "colorbar": {
              "outlinewidth": 0,
              "ticks": ""
             }
            },
            "type": "scattergl"
           }
          ],
          "scattermapbox": [
           {
            "marker": {
             "colorbar": {
              "outlinewidth": 0,
              "ticks": ""
             }
            },
            "type": "scattermapbox"
           }
          ],
          "scatterpolar": [
           {
            "marker": {
             "colorbar": {
              "outlinewidth": 0,
              "ticks": ""
             }
            },
            "type": "scatterpolar"
           }
          ],
          "scatterpolargl": [
           {
            "marker": {
             "colorbar": {
              "outlinewidth": 0,
              "ticks": ""
             }
            },
            "type": "scatterpolargl"
           }
          ],
          "scatterternary": [
           {
            "marker": {
             "colorbar": {
              "outlinewidth": 0,
              "ticks": ""
             }
            },
            "type": "scatterternary"
           }
          ],
          "surface": [
           {
            "colorbar": {
             "outlinewidth": 0,
             "ticks": ""
            },
            "colorscale": [
             [
              0,
              "#0d0887"
             ],
             [
              0.1111111111111111,
              "#46039f"
             ],
             [
              0.2222222222222222,
              "#7201a8"
             ],
             [
              0.3333333333333333,
              "#9c179e"
             ],
             [
              0.4444444444444444,
              "#bd3786"
             ],
             [
              0.5555555555555556,
              "#d8576b"
             ],
             [
              0.6666666666666666,
              "#ed7953"
             ],
             [
              0.7777777777777778,
              "#fb9f3a"
             ],
             [
              0.8888888888888888,
              "#fdca26"
             ],
             [
              1,
              "#f0f921"
             ]
            ],
            "type": "surface"
           }
          ],
          "table": [
           {
            "cells": {
             "fill": {
              "color": "#EBF0F8"
             },
             "line": {
              "color": "white"
             }
            },
            "header": {
             "fill": {
              "color": "#C8D4E3"
             },
             "line": {
              "color": "white"
             }
            },
            "type": "table"
           }
          ]
         },
         "layout": {
          "annotationdefaults": {
           "arrowcolor": "#2a3f5f",
           "arrowhead": 0,
           "arrowwidth": 1
          },
          "autotypenumbers": "strict",
          "coloraxis": {
           "colorbar": {
            "outlinewidth": 0,
            "ticks": ""
           }
          },
          "colorscale": {
           "diverging": [
            [
             0,
             "#8e0152"
            ],
            [
             0.1,
             "#c51b7d"
            ],
            [
             0.2,
             "#de77ae"
            ],
            [
             0.3,
             "#f1b6da"
            ],
            [
             0.4,
             "#fde0ef"
            ],
            [
             0.5,
             "#f7f7f7"
            ],
            [
             0.6,
             "#e6f5d0"
            ],
            [
             0.7,
             "#b8e186"
            ],
            [
             0.8,
             "#7fbc41"
            ],
            [
             0.9,
             "#4d9221"
            ],
            [
             1,
             "#276419"
            ]
           ],
           "sequential": [
            [
             0,
             "#0d0887"
            ],
            [
             0.1111111111111111,
             "#46039f"
            ],
            [
             0.2222222222222222,
             "#7201a8"
            ],
            [
             0.3333333333333333,
             "#9c179e"
            ],
            [
             0.4444444444444444,
             "#bd3786"
            ],
            [
             0.5555555555555556,
             "#d8576b"
            ],
            [
             0.6666666666666666,
             "#ed7953"
            ],
            [
             0.7777777777777778,
             "#fb9f3a"
            ],
            [
             0.8888888888888888,
             "#fdca26"
            ],
            [
             1,
             "#f0f921"
            ]
           ],
           "sequentialminus": [
            [
             0,
             "#0d0887"
            ],
            [
             0.1111111111111111,
             "#46039f"
            ],
            [
             0.2222222222222222,
             "#7201a8"
            ],
            [
             0.3333333333333333,
             "#9c179e"
            ],
            [
             0.4444444444444444,
             "#bd3786"
            ],
            [
             0.5555555555555556,
             "#d8576b"
            ],
            [
             0.6666666666666666,
             "#ed7953"
            ],
            [
             0.7777777777777778,
             "#fb9f3a"
            ],
            [
             0.8888888888888888,
             "#fdca26"
            ],
            [
             1,
             "#f0f921"
            ]
           ]
          },
          "colorway": [
           "#636efa",
           "#EF553B",
           "#00cc96",
           "#ab63fa",
           "#FFA15A",
           "#19d3f3",
           "#FF6692",
           "#B6E880",
           "#FF97FF",
           "#FECB52"
          ],
          "font": {
           "color": "#2a3f5f"
          },
          "geo": {
           "bgcolor": "white",
           "lakecolor": "white",
           "landcolor": "#E5ECF6",
           "showlakes": true,
           "showland": true,
           "subunitcolor": "white"
          },
          "hoverlabel": {
           "align": "left"
          },
          "hovermode": "closest",
          "mapbox": {
           "style": "light"
          },
          "paper_bgcolor": "white",
          "plot_bgcolor": "#E5ECF6",
          "polar": {
           "angularaxis": {
            "gridcolor": "white",
            "linecolor": "white",
            "ticks": ""
           },
           "bgcolor": "#E5ECF6",
           "radialaxis": {
            "gridcolor": "white",
            "linecolor": "white",
            "ticks": ""
           }
          },
          "scene": {
           "xaxis": {
            "backgroundcolor": "#E5ECF6",
            "gridcolor": "white",
            "gridwidth": 2,
            "linecolor": "white",
            "showbackground": true,
            "ticks": "",
            "zerolinecolor": "white"
           },
           "yaxis": {
            "backgroundcolor": "#E5ECF6",
            "gridcolor": "white",
            "gridwidth": 2,
            "linecolor": "white",
            "showbackground": true,
            "ticks": "",
            "zerolinecolor": "white"
           },
           "zaxis": {
            "backgroundcolor": "#E5ECF6",
            "gridcolor": "white",
            "gridwidth": 2,
            "linecolor": "white",
            "showbackground": true,
            "ticks": "",
            "zerolinecolor": "white"
           }
          },
          "shapedefaults": {
           "line": {
            "color": "#2a3f5f"
           }
          },
          "ternary": {
           "aaxis": {
            "gridcolor": "white",
            "linecolor": "white",
            "ticks": ""
           },
           "baxis": {
            "gridcolor": "white",
            "linecolor": "white",
            "ticks": ""
           },
           "bgcolor": "#E5ECF6",
           "caxis": {
            "gridcolor": "white",
            "linecolor": "white",
            "ticks": ""
           }
          },
          "title": {
           "x": 0.05
          },
          "xaxis": {
           "automargin": true,
           "gridcolor": "white",
           "linecolor": "white",
           "ticks": "",
           "title": {
            "standoff": 15
           },
           "zerolinecolor": "white",
           "zerolinewidth": 2
          },
          "yaxis": {
           "automargin": true,
           "gridcolor": "white",
           "linecolor": "white",
           "ticks": "",
           "title": {
            "standoff": 15
           },
           "zerolinecolor": "white",
           "zerolinewidth": 2
          }
         }
        },
        "title": {
         "text": "Data history"
        },
        "width": 800,
        "xaxis": {
         "anchor": "y",
         "autorange": true,
         "domain": [
          0,
          0.98
         ],
         "nticks": 10,
         "range": [
          2010,
          2019
         ],
         "title": {
          "text": "year"
         },
         "type": "linear"
        },
        "xaxis2": {
         "anchor": "y2",
         "autorange": true,
         "domain": [
          0,
          0.98
         ],
         "matches": "x",
         "range": [
          2010,
          2019
         ],
         "showticklabels": false,
         "type": "linear"
        },
        "yaxis": {
         "anchor": "x",
         "domain": [
          0,
          0.485
         ],
         "range": [
          0,
          0.8
         ],
         "title": {
          "text": "value"
         },
         "type": "linear"
        },
        "yaxis2": {
         "anchor": "x2",
         "domain": [
          0.515,
          1
         ],
         "matches": "y",
         "range": [
          0,
          0.8
         ],
         "title": {
          "text": "value"
         },
         "type": "linear"
        }
       }
      },
      "image/png": "[encoded data removed]",
      "text/html": [
       "<div>                            <div id=\"8b2464b7-23ef-4957-9d4b-11d3b2839a37\" class=\"plotly-graph-div\" style=\"height:500px; width:800px;\"></div>            <script type=\"text/javascript\">                require([\"plotly\"], function(Plotly) {                    window.PLOTLYENV=window.PLOTLYENV || {};                                    if (document.getElementById(\"8b2464b7-23ef-4957-9d4b-11d3b2839a37\")) {                    Plotly.newPlot(                        \"8b2464b7-23ef-4957-9d4b-11d3b2839a37\",                        [{\"hovertemplate\": \"variable=NKI<br>type=outcome<br>year=%{x}<br>value=%{y}<extra></extra>\", \"legendgroup\": \"NKI\", \"line\": {\"color\": \"#636efa\", \"dash\": \"solid\"}, \"mode\": \"lines\", \"name\": \"NKI\", \"orientation\": \"v\", \"showlegend\": true, \"type\": \"scatter\", \"x\": [2010, 2011, 2012, 2013, 2014, 2015, 2016, 2017, 2018, 2019], \"xaxis\": \"x2\", \"y\": [0.53, 0.5, 0.51, 0.5, 0.52, 0.52, 0.49, 0.51, 0.53, 0.54], \"yaxis\": \"y2\"}, {\"hovertemplate\": \"variable=market_share<br>type=outcome<br>year=%{x}<br>value=%{y}<extra></extra>\", \"legendgroup\": \"market_share\", \"line\": {\"color\": \"#EF553B\", \"dash\": \"solid\"}, \"mode\": \"lines\", \"name\": \"market_share\", \"orientation\": \"v\", \"showlegend\": true, \"type\": \"scatter\", \"x\": [2010, 2011, 2012, 2013, 2014, 2015, 2016, 2017, 2018, 2019], \"xaxis\": \"x2\", \"y\": [0.24, 0.26, 0.27, 0.27, 0.28, 0.27, 0.19, 0.27, 0.31, 0.32], \"yaxis\": \"y2\"}, {\"hovertemplate\": \"variable=knowledge<br>type=driver<br>year=%{x}<br>value=%{y}<extra></extra>\", \"legendgroup\": \"knowledge\", \"line\": {\"color\": \"#00cc96\", \"dash\": \"solid\"}, \"mode\": \"lines\", \"name\": \"knowledge\", \"orientation\": \"v\", \"showlegend\": true, \"type\": \"scatter\", \"x\": [2010, 2011, 2012, 2013, 2014, 2015, 2016, 2017, 2018, 2019], \"xaxis\": \"x\", \"y\": [0.56, 0.56, 0.57, 0.56, 0.58, 0.59, 0.59, 0.6, 0.62, 0.63], \"yaxis\": \"y\"}, {\"hovertemplate\": \"variable=punctuality<br>type=driver<br>year=%{x}<br>value=%{y}<extra></extra>\", \"legendgroup\": \"punctuality\", \"line\": {\"color\": \"#ab63fa\", \"dash\": \"solid\"}, \"mode\": \"lines\", \"name\": \"punctuality\", \"orientation\": \"v\", \"showlegend\": true, \"type\": \"scatter\", \"x\": [2010, 2011, 2012, 2013, 2014, 2015, 2016, 2017, 2018, 2019], \"xaxis\": \"x\", \"y\": [0.46, 0.42, 0.44, 0.44, 0.44, 0.44, 0.42, 0.46, 0.45, 0.46], \"yaxis\": \"y\"}, {\"hovertemplate\": \"variable=relevance<br>type=driver<br>year=%{x}<br>value=%{y}<extra></extra>\", \"legendgroup\": \"relevance\", \"line\": {\"color\": \"#FFA15A\", \"dash\": \"solid\"}, \"mode\": \"lines\", \"name\": \"relevance\", \"orientation\": \"v\", \"showlegend\": true, \"type\": \"scatter\", \"x\": [2010, 2011, 2012, 2013, 2014, 2015, 2016, 2017, 2018, 2019], \"xaxis\": \"x\", \"y\": [0.4, 0.4, 0.39, 0.39, 0.38, 0.38, 0.38, 0.51, 0.54, 0.54], \"yaxis\": \"y\"}, {\"hovertemplate\": \"variable=value<br>type=driver<br>year=%{x}<br>value=%{y}<extra></extra>\", \"legendgroup\": \"value\", \"line\": {\"color\": \"#19d3f3\", \"dash\": \"solid\"}, \"mode\": \"lines\", \"name\": \"value\", \"orientation\": \"v\", \"showlegend\": true, \"type\": \"scatter\", \"x\": [2010, 2011, 2012, 2013, 2014, 2015, 2016, 2017, 2018, 2019], \"xaxis\": \"x\", \"y\": [0.37, 0.38, 0.37, 0.37, 0.34, 0.35, 0.35, 0.39, 0.39, 0.39], \"yaxis\": \"y\"}],                        {\"annotations\": [{\"font\": {}, \"showarrow\": false, \"text\": \"type=driver\", \"textangle\": 90, \"x\": 0.98, \"xanchor\": \"left\", \"xref\": \"paper\", \"y\": 0.2425, \"yanchor\": \"middle\", \"yref\": \"paper\"}, {\"font\": {}, \"showarrow\": false, \"text\": \"type=outcome\", \"textangle\": 90, \"x\": 0.98, \"xanchor\": \"left\", \"xref\": \"paper\", \"y\": 0.7575000000000001, \"yanchor\": \"middle\", \"yref\": \"paper\"}], \"height\": 500, \"legend\": {\"title\": {\"text\": \"variable\"}, \"tracegroupgap\": 0}, \"template\": {\"data\": {\"bar\": [{\"error_x\": {\"color\": \"#2a3f5f\"}, \"error_y\": {\"color\": \"#2a3f5f\"}, \"marker\": {\"line\": {\"color\": \"#E5ECF6\", \"width\": 0.5}}, \"type\": \"bar\"}], \"barpolar\": [{\"marker\": {\"line\": {\"color\": \"#E5ECF6\", \"width\": 0.5}}, \"type\": \"barpolar\"}], \"carpet\": [{\"aaxis\": {\"endlinecolor\": \"#2a3f5f\", \"gridcolor\": \"white\", \"linecolor\": \"white\", \"minorgridcolor\": \"white\", \"startlinecolor\": \"#2a3f5f\"}, \"baxis\": {\"endlinecolor\": \"#2a3f5f\", \"gridcolor\": \"white\", \"linecolor\": \"white\", \"minorgridcolor\": \"white\", \"startlinecolor\": \"#2a3f5f\"}, \"type\": \"carpet\"}], \"choropleth\": [{\"colorbar\": {\"outlinewidth\": 0, \"ticks\": \"\"}, \"type\": \"choropleth\"}], \"contour\": [{\"colorbar\": {\"outlinewidth\": 0, \"ticks\": \"\"}, \"colorscale\": [[0.0, \"#0d0887\"], [0.1111111111111111, \"#46039f\"], [0.2222222222222222, \"#7201a8\"], [0.3333333333333333, \"#9c179e\"], [0.4444444444444444, \"#bd3786\"], [0.5555555555555556, \"#d8576b\"], [0.6666666666666666, \"#ed7953\"], [0.7777777777777778, \"#fb9f3a\"], [0.8888888888888888, \"#fdca26\"], [1.0, \"#f0f921\"]], \"type\": \"contour\"}], \"contourcarpet\": [{\"colorbar\": {\"outlinewidth\": 0, \"ticks\": \"\"}, \"type\": \"contourcarpet\"}], \"heatmap\": [{\"colorbar\": {\"outlinewidth\": 0, \"ticks\": \"\"}, \"colorscale\": [[0.0, \"#0d0887\"], [0.1111111111111111, \"#46039f\"], [0.2222222222222222, \"#7201a8\"], [0.3333333333333333, \"#9c179e\"], [0.4444444444444444, \"#bd3786\"], [0.5555555555555556, \"#d8576b\"], [0.6666666666666666, \"#ed7953\"], [0.7777777777777778, \"#fb9f3a\"], [0.8888888888888888, \"#fdca26\"], [1.0, \"#f0f921\"]], \"type\": \"heatmap\"}], \"heatmapgl\": [{\"colorbar\": {\"outlinewidth\": 0, \"ticks\": \"\"}, \"colorscale\": [[0.0, \"#0d0887\"], [0.1111111111111111, \"#46039f\"], [0.2222222222222222, \"#7201a8\"], [0.3333333333333333, \"#9c179e\"], [0.4444444444444444, \"#bd3786\"], [0.5555555555555556, \"#d8576b\"], [0.6666666666666666, \"#ed7953\"], [0.7777777777777778, \"#fb9f3a\"], [0.8888888888888888, \"#fdca26\"], [1.0, \"#f0f921\"]], \"type\": \"heatmapgl\"}], \"histogram\": [{\"marker\": {\"colorbar\": {\"outlinewidth\": 0, \"ticks\": \"\"}}, \"type\": \"histogram\"}], \"histogram2d\": [{\"colorbar\": {\"outlinewidth\": 0, \"ticks\": \"\"}, \"colorscale\": [[0.0, \"#0d0887\"], [0.1111111111111111, \"#46039f\"], [0.2222222222222222, \"#7201a8\"], [0.3333333333333333, \"#9c179e\"], [0.4444444444444444, \"#bd3786\"], [0.5555555555555556, \"#d8576b\"], [0.6666666666666666, \"#ed7953\"], [0.7777777777777778, \"#fb9f3a\"], [0.8888888888888888, \"#fdca26\"], [1.0, \"#f0f921\"]], \"type\": \"histogram2d\"}], \"histogram2dcontour\": [{\"colorbar\": {\"outlinewidth\": 0, \"ticks\": \"\"}, \"colorscale\": [[0.0, \"#0d0887\"], [0.1111111111111111, \"#46039f\"], [0.2222222222222222, \"#7201a8\"], [0.3333333333333333, \"#9c179e\"], [0.4444444444444444, \"#bd3786\"], [0.5555555555555556, \"#d8576b\"], [0.6666666666666666, \"#ed7953\"], [0.7777777777777778, \"#fb9f3a\"], [0.8888888888888888, \"#fdca26\"], [1.0, \"#f0f921\"]], \"type\": \"histogram2dcontour\"}], \"mesh3d\": [{\"colorbar\": {\"outlinewidth\": 0, \"ticks\": \"\"}, \"type\": \"mesh3d\"}], \"parcoords\": [{\"line\": {\"colorbar\": {\"outlinewidth\": 0, \"ticks\": \"\"}}, \"type\": \"parcoords\"}], \"pie\": [{\"automargin\": true, \"type\": \"pie\"}], \"scatter\": [{\"marker\": {\"colorbar\": {\"outlinewidth\": 0, \"ticks\": \"\"}}, \"type\": \"scatter\"}], \"scatter3d\": [{\"line\": {\"colorbar\": {\"outlinewidth\": 0, \"ticks\": \"\"}}, \"marker\": {\"colorbar\": {\"outlinewidth\": 0, \"ticks\": \"\"}}, \"type\": \"scatter3d\"}], \"scattercarpet\": [{\"marker\": {\"colorbar\": {\"outlinewidth\": 0, \"ticks\": \"\"}}, \"type\": \"scattercarpet\"}], \"scattergeo\": [{\"marker\": {\"colorbar\": {\"outlinewidth\": 0, \"ticks\": \"\"}}, \"type\": \"scattergeo\"}], \"scattergl\": [{\"marker\": {\"colorbar\": {\"outlinewidth\": 0, \"ticks\": \"\"}}, \"type\": \"scattergl\"}], \"scattermapbox\": [{\"marker\": {\"colorbar\": {\"outlinewidth\": 0, \"ticks\": \"\"}}, \"type\": \"scattermapbox\"}], \"scatterpolar\": [{\"marker\": {\"colorbar\": {\"outlinewidth\": 0, \"ticks\": \"\"}}, \"type\": \"scatterpolar\"}], \"scatterpolargl\": [{\"marker\": {\"colorbar\": {\"outlinewidth\": 0, \"ticks\": \"\"}}, \"type\": \"scatterpolargl\"}], \"scatterternary\": [{\"marker\": {\"colorbar\": {\"outlinewidth\": 0, \"ticks\": \"\"}}, \"type\": \"scatterternary\"}], \"surface\": [{\"colorbar\": {\"outlinewidth\": 0, \"ticks\": \"\"}, \"colorscale\": [[0.0, \"#0d0887\"], [0.1111111111111111, \"#46039f\"], [0.2222222222222222, \"#7201a8\"], [0.3333333333333333, \"#9c179e\"], [0.4444444444444444, \"#bd3786\"], [0.5555555555555556, \"#d8576b\"], [0.6666666666666666, \"#ed7953\"], [0.7777777777777778, \"#fb9f3a\"], [0.8888888888888888, \"#fdca26\"], [1.0, \"#f0f921\"]], \"type\": \"surface\"}], \"table\": [{\"cells\": {\"fill\": {\"color\": \"#EBF0F8\"}, \"line\": {\"color\": \"white\"}}, \"header\": {\"fill\": {\"color\": \"#C8D4E3\"}, \"line\": {\"color\": \"white\"}}, \"type\": \"table\"}]}, \"layout\": {\"annotationdefaults\": {\"arrowcolor\": \"#2a3f5f\", \"arrowhead\": 0, \"arrowwidth\": 1}, \"autotypenumbers\": \"strict\", \"coloraxis\": {\"colorbar\": {\"outlinewidth\": 0, \"ticks\": \"\"}}, \"colorscale\": {\"diverging\": [[0, \"#8e0152\"], [0.1, \"#c51b7d\"], [0.2, \"#de77ae\"], [0.3, \"#f1b6da\"], [0.4, \"#fde0ef\"], [0.5, \"#f7f7f7\"], [0.6, \"#e6f5d0\"], [0.7, \"#b8e186\"], [0.8, \"#7fbc41\"], [0.9, \"#4d9221\"], [1, \"#276419\"]], \"sequential\": [[0.0, \"#0d0887\"], [0.1111111111111111, \"#46039f\"], [0.2222222222222222, \"#7201a8\"], [0.3333333333333333, \"#9c179e\"], [0.4444444444444444, \"#bd3786\"], [0.5555555555555556, \"#d8576b\"], [0.6666666666666666, \"#ed7953\"], [0.7777777777777778, \"#fb9f3a\"], [0.8888888888888888, \"#fdca26\"], [1.0, \"#f0f921\"]], \"sequentialminus\": [[0.0, \"#0d0887\"], [0.1111111111111111, \"#46039f\"], [0.2222222222222222, \"#7201a8\"], [0.3333333333333333, \"#9c179e\"], [0.4444444444444444, \"#bd3786\"], [0.5555555555555556, \"#d8576b\"], [0.6666666666666666, \"#ed7953\"], [0.7777777777777778, \"#fb9f3a\"], [0.8888888888888888, \"#fdca26\"], [1.0, \"#f0f921\"]]}, \"colorway\": [\"#636efa\", \"#EF553B\", \"#00cc96\", \"#ab63fa\", \"#FFA15A\", \"#19d3f3\", \"#FF6692\", \"#B6E880\", \"#FF97FF\", \"#FECB52\"], \"font\": {\"color\": \"#2a3f5f\"}, \"geo\": {\"bgcolor\": \"white\", \"lakecolor\": \"white\", \"landcolor\": \"#E5ECF6\", \"showlakes\": true, \"showland\": true, \"subunitcolor\": \"white\"}, \"hoverlabel\": {\"align\": \"left\"}, \"hovermode\": \"closest\", \"mapbox\": {\"style\": \"light\"}, \"paper_bgcolor\": \"white\", \"plot_bgcolor\": \"#E5ECF6\", \"polar\": {\"angularaxis\": {\"gridcolor\": \"white\", \"linecolor\": \"white\", \"ticks\": \"\"}, \"bgcolor\": \"#E5ECF6\", \"radialaxis\": {\"gridcolor\": \"white\", \"linecolor\": \"white\", \"ticks\": \"\"}}, \"scene\": {\"xaxis\": {\"backgroundcolor\": \"#E5ECF6\", \"gridcolor\": \"white\", \"gridwidth\": 2, \"linecolor\": \"white\", \"showbackground\": true, \"ticks\": \"\", \"zerolinecolor\": \"white\"}, \"yaxis\": {\"backgroundcolor\": \"#E5ECF6\", \"gridcolor\": \"white\", \"gridwidth\": 2, \"linecolor\": \"white\", \"showbackground\": true, \"ticks\": \"\", \"zerolinecolor\": \"white\"}, \"zaxis\": {\"backgroundcolor\": \"#E5ECF6\", \"gridcolor\": \"white\", \"gridwidth\": 2, \"linecolor\": \"white\", \"showbackground\": true, \"ticks\": \"\", \"zerolinecolor\": \"white\"}}, \"shapedefaults\": {\"line\": {\"color\": \"#2a3f5f\"}}, \"ternary\": {\"aaxis\": {\"gridcolor\": \"white\", \"linecolor\": \"white\", \"ticks\": \"\"}, \"baxis\": {\"gridcolor\": \"white\", \"linecolor\": \"white\", \"ticks\": \"\"}, \"bgcolor\": \"#E5ECF6\", \"caxis\": {\"gridcolor\": \"white\", \"linecolor\": \"white\", \"ticks\": \"\"}}, \"title\": {\"x\": 0.05}, \"xaxis\": {\"automargin\": true, \"gridcolor\": \"white\", \"linecolor\": \"white\", \"ticks\": \"\", \"title\": {\"standoff\": 15}, \"zerolinecolor\": \"white\", \"zerolinewidth\": 2}, \"yaxis\": {\"automargin\": true, \"gridcolor\": \"white\", \"linecolor\": \"white\", \"ticks\": \"\", \"title\": {\"standoff\": 15}, \"zerolinecolor\": \"white\", \"zerolinewidth\": 2}}}, \"title\": {\"text\": \"Data history\"}, \"width\": 800, \"xaxis\": {\"anchor\": \"y\", \"domain\": [0.0, 0.98], \"nticks\": 10, \"title\": {\"text\": \"year\"}}, \"xaxis2\": {\"anchor\": \"y2\", \"domain\": [0.0, 0.98], \"matches\": \"x\", \"showticklabels\": false}, \"yaxis\": {\"anchor\": \"x\", \"domain\": [0.0, 0.485], \"range\": [0, 0.8], \"title\": {\"text\": \"value\"}}, \"yaxis2\": {\"anchor\": \"x2\", \"domain\": [0.515, 1.0], \"matches\": \"y\", \"range\": [0, 0.8], \"title\": {\"text\": \"value\"}}},                        {\"responsive\": true}                    ).then(function(){\n",
       "                            \n",
       "var gd = document.getElementById('8b2464b7-23ef-4957-9d4b-11d3b2839a37');\n",
       "var x = new MutationObserver(function (mutations, observer) {{\n",
       "        var display = window.getComputedStyle(gd).display;\n",
       "        if (!display || display === 'none') {{\n",
       "            console.log([gd, 'removed!']);\n",
       "            Plotly.purge(gd);\n",
       "            observer.disconnect();\n",
       "        }}\n",
       "}});\n",
       "\n",
       "// Listen for the removal of the full notebook cells\n",
       "var notebookContainer = gd.closest('#notebook-container');\n",
       "if (notebookContainer) {{\n",
       "    x.observe(notebookContainer, {childList: true});\n",
       "}}\n",
       "\n",
       "// Listen for the clearing of the current output cell\n",
       "var outputEl = gd.closest('.output');\n",
       "if (outputEl) {{\n",
       "    x.observe(outputEl, {childList: true});\n",
       "}}\n",
       "\n",
       "                        })                };                });            </script>        </div>"
      ]
     },
     "metadata": {},
     "output_type": "display_data"
    }
   ],
   "source": [
    "# fig = px.line(data_df, x='year', y='value', color='variable',\n",
    "#               width=800, height=500, range_y = [0, 0.8], line_dash='type',\n",
    "#               category_orders={'variable':['NKI', 'market_share', 'knowledge', 'punctuality', 'relevance', 'value'],\n",
    "#                               'type':['outcome', 'driver']},\n",
    "#               title='Data history')\n",
    "fig = px.line(data_df, x='year', y='value', color='variable',\n",
    "              width=800, height=500, range_y = [0, 0.8], facet_row='type',\n",
    "              category_orders={'variable':['NKI', 'market_share', 'knowledge', 'punctuality', 'relevance', 'value'],\n",
    "                              'type':['outcome', 'driver']},\n",
    "              title='Data history')\n",
    "\n",
    "fig.update_layout(xaxis = {'nticks':10})\n",
    "fig.show()"
   ]
  },
  {
   "cell_type": "code",
   "execution_count": 119,
   "metadata": {},
   "outputs": [
    {
     "data": {
      "application/vnd.jupyter.widget-view+json": {
       "model_id": "f82a272cfd6040de8dbbdda4958450ac",
       "version_major": 2,
       "version_minor": 0
      },
      "text/plain": [
       "HBox(children=(VBox(children=(FloatSlider(value=0.63, continuous_update=False, description='knowledge', max=0.…"
      ]
     },
     "metadata": {},
     "output_type": "display_data"
    }
   ],
   "source": [
    "\n",
    "def plot(knowledge, punctuality, relevance, value):\n",
    "    X = np.array([\n",
    "    1,\n",
    "    knowledge,\n",
    "    punctuality,\n",
    "    relevance,\n",
    "    value\n",
    "    ])\n",
    "    \n",
    "    outputs = pd.DataFrame({\n",
    "    'outcomes':['NKI', 'market_share'],\n",
    "    'value':[round(X@coef_NKI, 3), round(X@coef_share, 3)]\n",
    "    })\n",
    "    \n",
    "    fig = px.bar(outputs, x='outcomes', y='value',\n",
    "                width=500, height=400, range_y = [0, 0.8], text='value',\n",
    "                title='Estimated outcomes')\n",
    "\n",
    "    return fig.show()\n",
    "\n",
    "out = widgets.interactive_output(plot, \n",
    "                                 {'knowledge': knowledge, 'punctuality': punctuality, 'relevance': relevance, 'value':value})\n",
    "\n",
    "layout = widgets.Layout(display='flex',\n",
    "                flex_flow='raw',\n",
    "                align_items='center',\n",
    "                width='100%')\n",
    "display(HBox([VBox([knowledge, punctuality, relevance, value]), out], layout=layout))"
   ]
  },
  {
   "cell_type": "markdown",
   "metadata": {},
   "source": [
    "knowledge = For most trips I make, I know how to go with the company.\n",
    "\n",
    "punctuality = I can trust that I will arrive on time with the company.\n",
    "\n",
    "relevance = I can use the company for most trips I make.\n",
    "\n",
    "value (for money) = It is affordable to travel with the company."
   ]
  },
  {
   "cell_type": "code",
   "execution_count": null,
   "metadata": {},
   "outputs": [],
   "source": []
  },
  {
   "cell_type": "markdown",
   "metadata": {},
   "source": [
    "----"
   ]
  },
  {
   "cell_type": "markdown",
   "metadata": {},
   "source": [
    "## Experimental function\n",
    "### From goal of outcomes, inversely estimate drivers to be achieved."
   ]
  },
  {
   "cell_type": "code",
   "execution_count": 120,
   "metadata": {},
   "outputs": [],
   "source": [
    "NKI_init = y_df.loc['NKI', 2019]\n",
    "share_init = y_df.loc['market_share', 2019]\n",
    "\n",
    "NKI = widgets.FloatSlider(\n",
    "    value=NKI_init,\n",
    "    min=NKI_init - 0.1,\n",
    "    max=NKI_init + 0.2,\n",
    "    step=0.01,\n",
    "    description='NKI',\n",
    "    disabled=False,\n",
    "    continuous_update=False,\n",
    "    orientation='horizontal',\n",
    "    readout=True,\n",
    "    readout_format='.2f',\n",
    ")\n",
    "\n",
    "share = widgets.FloatSlider(\n",
    "    value=share_init,\n",
    "    min=share_init - 0.1,\n",
    "    max=share_init + 0.1,\n",
    "    step=0.01,\n",
    "    description='market share',\n",
    "    disabled=False,\n",
    "    continuous_update=False,\n",
    "    orientation='horizontal',\n",
    "    readout=True,\n",
    "    readout_format='.2f',\n",
    ")"
   ]
  },
  {
   "cell_type": "code",
   "execution_count": 121,
   "metadata": {},
   "outputs": [],
   "source": [
    "\n",
    "# def plot2(NKI, share):\n",
    "#     y = np.array([\n",
    "#     NKI,\n",
    "#     share\n",
    "#     ])\n",
    "\n",
    "#     inv = np.linalg.inv(coef.T @ coef) @ coef.T\n",
    "\n",
    "#     outputs = pd.DataFrame({\n",
    "#     'drivers':['knowledge', 'punctuality', 'relevance', 'value'],\n",
    "#     'value':(y@inv)[1:]\n",
    "#     })\n",
    "#     outputs['value'] = outputs['value'].apply(lambda x:round(x,3))\n",
    "#     outputs['value'] = outputs['value'].apply(lambda x:min(x,1.0))\n",
    "    \n",
    "#     fig = px.bar(outputs, x='drivers', y='value',\n",
    "#                 width=500, height=400, range_y = [0, 1.0], text='value',\n",
    "#                 title='Drivers to be achieved')\n",
    "\n",
    "#     return fig.show()\n",
    "\n",
    "# out = widgets.interactive_output(plot2, \n",
    "#                                  {'NKI': NKI, 'share': share})\n",
    "\n",
    "# layout = widgets.Layout(display='flex',\n",
    "#                 flex_flow='raw',\n",
    "#                 align_items='center',\n",
    "#                 width='100%')\n",
    "# display(HBox([VBox([NKI, share]), out], layout=layout))"
   ]
  },
  {
   "cell_type": "code",
   "execution_count": 134,
   "metadata": {},
   "outputs": [
    {
     "data": {
      "application/vnd.jupyter.widget-view+json": {
       "model_id": "4b4bf4d8a68046babacf9eda1d9d1612",
       "version_major": 2,
       "version_minor": 0
      },
      "text/plain": [
       "HBox(children=(VBox(children=(FloatSlider(value=0.71, continuous_update=False, description='NKI', max=0.74, mi…"
      ]
     },
     "metadata": {},
     "output_type": "display_data"
    }
   ],
   "source": [
    "# Solve quadratic programming to find NKI and market_share, subject to the given driver values.\n",
    "\n",
    "from scipy import optimize\n",
    "\n",
    "def loss(x):\n",
    "    X = x - np.array([1, knowledge_init, punctuality_init, relevance_init, value_init])\n",
    "    return 0.5 * (X.T @ X)\n",
    "\n",
    "def jac(x):\n",
    "    X = x - np.array([1, knowledge_init, punctuality_init, relevance_init, value_init])\n",
    "    return X\n",
    "\n",
    "x0 = np.array([1, knowledge_init, punctuality_init, relevance_init, value_init])\n",
    "\n",
    "def solve(y):\n",
    "    cons = {'type':'ineq',\n",
    "            'fun':lambda x: coef.T @ x - y,\n",
    "            'jac':lambda x: coef.T}\n",
    "    res = optimize.minimize(loss, x0, jac=jac, constraints=cons, method='SLSQP')\n",
    "    return res['x']\n",
    "\n",
    "def plot2(NKI, share):\n",
    "    y = np.array([\n",
    "    NKI,\n",
    "    share\n",
    "    ])\n",
    "\n",
    "    x = solve(y)\n",
    "\n",
    "    outputs = pd.DataFrame({\n",
    "    'drivers':['knowledge', 'punctuality', 'relevance', 'value'],\n",
    "    'value':x[1:]\n",
    "    })\n",
    "    outputs['value'] = outputs['value'].apply(lambda x:round(x,3))\n",
    "    outputs['value'] = outputs['value'].apply(lambda x:min(x,1.0))\n",
    "    \n",
    "    fig = px.bar(outputs, x='drivers', y='value',\n",
    "                width=500, height=400, range_y = [0, 1.0], text='value',\n",
    "                title='Drivers to be achieved')\n",
    "\n",
    "    return fig.show()\n",
    "\n",
    "out = widgets.interactive_output(plot2, \n",
    "                                 {'NKI': NKI, 'share': share})\n",
    "\n",
    "layout = widgets.Layout(display='flex',\n",
    "                flex_flow='raw',\n",
    "                align_items='center',\n",
    "                width='100%')\n",
    "display(HBox([VBox([NKI, share]), out], layout=layout))"
   ]
  },
  {
   "cell_type": "code",
   "execution_count": null,
   "metadata": {},
   "outputs": [],
   "source": []
  },
  {
   "cell_type": "markdown",
   "metadata": {},
   "source": [
    "----"
   ]
  },
  {
   "cell_type": "markdown",
   "metadata": {},
   "source": [
    "## Model for all PTAs\n",
    "\n",
    "### Estimation of NKI"
   ]
  },
  {
   "cell_type": "code",
   "execution_count": 123,
   "metadata": {},
   "outputs": [],
   "source": [
    "import gzip\n",
    "import pickle\n",
    "\n",
    "with open('./data/coef_NKI_model3.npy', 'rb') as f:\n",
    "    coef2 = np.load(f)\n",
    "\n",
    "with open('./data/coef_share_model3.npy', 'rb') as f:\n",
    "    coef3 = np.load(f)\n",
    "\n",
    "with gzip.open('./data/NKI_PTAs_df.pkl.gz', 'rb') as f:\n",
    "    df1 = pickle.load(f)\n",
    "\n",
    "with gzip.open('./data/share_PTAs_df.pkl.gz', 'rb') as f:\n",
    "    df2 = pickle.load(f)\n",
    "\n",
    "with gzip.open('./data/sliders_df.pkl.gz', 'rb') as f:\n",
    "    df3 = pickle.load(f)\n",
    "\n",
    "with gzip.open('./data/weights_df.pkl.gz', 'rb') as f:\n",
    "    df4 = pickle.load(f)"
   ]
  },
  {
   "cell_type": "code",
   "execution_count": 124,
   "metadata": {},
   "outputs": [],
   "source": [
    "import pandas as pd\n",
    "\n",
    "a = coef2[-4:].reshape(-1,1)\n",
    "b = coef2[:-4]\n",
    "pred = df1.sort_values(by=['year', 'PTA']).copy().drop(columns='Allmänheten')\n",
    "pred['Kunder'] = 0\n",
    "tmp = []\n",
    "for year in [2019, 2018, 2017]:\n",
    "    x = df3[df3['year']==year].sort_values(by='name')[df3.columns[1:-3]].values\n",
    "    w = df4[df4['year']==year].sort_values(by='PTA')[df4.columns[1:-2]].values\n",
    "    tmp += list(b + w@np.sum(a*x, axis=0))\n",
    "    \n",
    "pred['Kunder'] = tmp\n",
    "pred['Kunder'] = pred['Kunder'].apply(lambda x:round(x, 3))"
   ]
  },
  {
   "cell_type": "code",
   "execution_count": 125,
   "metadata": {},
   "outputs": [],
   "source": [
    "tmp1 = df1[['PTA', 'year', 'Kunder']].sort_values(by=['year', 'PTA']).copy()\n",
    "tmp1['type'] = 'recorded'\n",
    "\n",
    "tmp2 = pred[['PTA', 'year', 'Kunder']].copy()\n",
    "tmp2['type'] = 'estimated'\n",
    "\n",
    "concat_df = pd.concat([tmp1,tmp2], axis=0)"
   ]
  },
  {
   "cell_type": "code",
   "execution_count": 126,
   "metadata": {},
   "outputs": [
    {
     "data": {
      "application/vnd.plotly.v1+json": {
       "config": {
        "plotlyServerURL": "https://plot.ly"
       },
       "data": [
        {
         "hovertemplate": "PTA=Blekingetrafiken<br>type=recorded<br>year=%{x}<br>Kunder=%{y}<extra></extra>",
         "legendgroup": "Blekingetrafiken, recorded",
         "line": {
          "color": "#636efa",
          "dash": "solid"
         },
         "mode": "lines",
         "name": "Blekingetrafiken, recorded",
         "orientation": "v",
         "showlegend": true,
         "type": "scatter",
         "x": [
          2017,
          2018,
          2019
         ],
         "xaxis": "x",
         "y": [
          0.63,
          0.7,
          0.68
         ],
         "yaxis": "y"
        },
        {
         "hovertemplate": "PTA=Blekingetrafiken<br>type=estimated<br>year=%{x}<br>Kunder=%{y}<extra></extra>",
         "legendgroup": "Blekingetrafiken, estimated",
         "line": {
          "color": "#636efa",
          "dash": "dot"
         },
         "mode": "lines",
         "name": "Blekingetrafiken, estimated",
         "orientation": "v",
         "showlegend": true,
         "type": "scatter",
         "x": [
          2017,
          2018,
          2019
         ],
         "xaxis": "x",
         "y": [
          0.678,
          0.674,
          0.659
         ],
         "yaxis": "y"
        },
        {
         "hovertemplate": "PTA=Dalatrafik<br>type=recorded<br>year=%{x}<br>Kunder=%{y}<extra></extra>",
         "legendgroup": "Dalatrafik, recorded",
         "line": {
          "color": "#EF553B",
          "dash": "solid"
         },
         "mode": "lines",
         "name": "Dalatrafik, recorded",
         "orientation": "v",
         "showlegend": true,
         "type": "scatter",
         "x": [
          2017,
          2018,
          2019
         ],
         "xaxis": "x",
         "y": [
          0.52,
          0.58,
          0.53
         ],
         "yaxis": "y"
        },
        {
         "hovertemplate": "PTA=Dalatrafik<br>type=estimated<br>year=%{x}<br>Kunder=%{y}<extra></extra>",
         "legendgroup": "Dalatrafik, estimated",
         "line": {
          "color": "#EF553B",
          "dash": "dot"
         },
         "mode": "lines",
         "name": "Dalatrafik, estimated",
         "orientation": "v",
         "showlegend": true,
         "type": "scatter",
         "x": [
          2017,
          2018,
          2019
         ],
         "xaxis": "x",
         "y": [
          0.531,
          0.533,
          0.523
         ],
         "yaxis": "y"
        },
        {
         "hovertemplate": "PTA=Din Tur<br>type=recorded<br>year=%{x}<br>Kunder=%{y}<extra></extra>",
         "legendgroup": "Din Tur, recorded",
         "line": {
          "color": "#00cc96",
          "dash": "solid"
         },
         "mode": "lines",
         "name": "Din Tur, recorded",
         "orientation": "v",
         "showlegend": true,
         "type": "scatter",
         "x": [
          2017,
          2018,
          2019
         ],
         "xaxis": "x",
         "y": [
          0.53,
          0.53,
          0.54
         ],
         "yaxis": "y"
        },
        {
         "hovertemplate": "PTA=Din Tur<br>type=estimated<br>year=%{x}<br>Kunder=%{y}<extra></extra>",
         "legendgroup": "Din Tur, estimated",
         "line": {
          "color": "#00cc96",
          "dash": "dot"
         },
         "mode": "lines",
         "name": "Din Tur, estimated",
         "orientation": "v",
         "showlegend": true,
         "type": "scatter",
         "x": [
          2017,
          2018,
          2019
         ],
         "xaxis": "x",
         "y": [
          0.538,
          0.544,
          0.522
         ],
         "yaxis": "y"
        },
        {
         "hovertemplate": "PTA=Hallandstrafiken<br>type=recorded<br>year=%{x}<br>Kunder=%{y}<extra></extra>",
         "legendgroup": "Hallandstrafiken, recorded",
         "line": {
          "color": "#ab63fa",
          "dash": "solid"
         },
         "mode": "lines",
         "name": "Hallandstrafiken, recorded",
         "orientation": "v",
         "showlegend": true,
         "type": "scatter",
         "x": [
          2017,
          2018,
          2019
         ],
         "xaxis": "x",
         "y": [
          0.63,
          0.66,
          0.63
         ],
         "yaxis": "y"
        },
        {
         "hovertemplate": "PTA=Hallandstrafiken<br>type=estimated<br>year=%{x}<br>Kunder=%{y}<extra></extra>",
         "legendgroup": "Hallandstrafiken, estimated",
         "line": {
          "color": "#ab63fa",
          "dash": "dot"
         },
         "mode": "lines",
         "name": "Hallandstrafiken, estimated",
         "orientation": "v",
         "showlegend": true,
         "type": "scatter",
         "x": [
          2017,
          2018,
          2019
         ],
         "xaxis": "x",
         "y": [
          0.64,
          0.65,
          0.63
         ],
         "yaxis": "y"
        },
        {
         "hovertemplate": "PTA=Jönköpings Länstrafik<br>type=recorded<br>year=%{x}<br>Kunder=%{y}<extra></extra>",
         "legendgroup": "Jönköpings Länstrafik, recorded",
         "line": {
          "color": "#FFA15A",
          "dash": "solid"
         },
         "mode": "lines",
         "name": "Jönköpings Länstrafik, recorded",
         "orientation": "v",
         "showlegend": true,
         "type": "scatter",
         "x": [
          2017,
          2018,
          2019
         ],
         "xaxis": "x",
         "y": [
          0.59,
          0.63,
          0.59
         ],
         "yaxis": "y"
        },
        {
         "hovertemplate": "PTA=Jönköpings Länstrafik<br>type=estimated<br>year=%{x}<br>Kunder=%{y}<extra></extra>",
         "legendgroup": "Jönköpings Länstrafik, estimated",
         "line": {
          "color": "#FFA15A",
          "dash": "dot"
         },
         "mode": "lines",
         "name": "Jönköpings Länstrafik, estimated",
         "orientation": "v",
         "showlegend": true,
         "type": "scatter",
         "x": [
          2017,
          2018,
          2019
         ],
         "xaxis": "x",
         "y": [
          0.608,
          0.611,
          0.597
         ],
         "yaxis": "y"
        },
        {
         "hovertemplate": "PTA=Kalmar Länstrafik<br>type=recorded<br>year=%{x}<br>Kunder=%{y}<extra></extra>",
         "legendgroup": "Kalmar Länstrafik, recorded",
         "line": {
          "color": "#19d3f3",
          "dash": "solid"
         },
         "mode": "lines",
         "name": "Kalmar Länstrafik, recorded",
         "orientation": "v",
         "showlegend": true,
         "type": "scatter",
         "x": [
          2017,
          2018,
          2019
         ],
         "xaxis": "x",
         "y": [
          0.5,
          0.65,
          0.66
         ],
         "yaxis": "y"
        },
        {
         "hovertemplate": "PTA=Kalmar Länstrafik<br>type=estimated<br>year=%{x}<br>Kunder=%{y}<extra></extra>",
         "legendgroup": "Kalmar Länstrafik, estimated",
         "line": {
          "color": "#19d3f3",
          "dash": "dot"
         },
         "mode": "lines",
         "name": "Kalmar Länstrafik, estimated",
         "orientation": "v",
         "showlegend": true,
         "type": "scatter",
         "x": [
          2017,
          2018,
          2019
         ],
         "xaxis": "x",
         "y": [
          0.603,
          0.613,
          0.594
         ],
         "yaxis": "y"
        },
        {
         "hovertemplate": "PTA=Karlstadsbuss<br>type=recorded<br>year=%{x}<br>Kunder=%{y}<extra></extra>",
         "legendgroup": "Karlstadsbuss, recorded",
         "line": {
          "color": "#FF6692",
          "dash": "solid"
         },
         "mode": "lines",
         "name": "Karlstadsbuss, recorded",
         "orientation": "v",
         "showlegend": true,
         "type": "scatter",
         "x": [
          2017,
          2018,
          2019
         ],
         "xaxis": "x",
         "y": [
          0.84,
          0.83,
          0.81
         ],
         "yaxis": "y"
        },
        {
         "hovertemplate": "PTA=Karlstadsbuss<br>type=estimated<br>year=%{x}<br>Kunder=%{y}<extra></extra>",
         "legendgroup": "Karlstadsbuss, estimated",
         "line": {
          "color": "#FF6692",
          "dash": "dot"
         },
         "mode": "lines",
         "name": "Karlstadsbuss, estimated",
         "orientation": "v",
         "showlegend": true,
         "type": "scatter",
         "x": [
          2017,
          2018,
          2019
         ],
         "xaxis": "x",
         "y": [
          0.827,
          0.839,
          0.819
         ],
         "yaxis": "y"
        },
        {
         "hovertemplate": "PTA=Kollektivtrafiken Gotland<br>type=recorded<br>year=%{x}<br>Kunder=%{y}<extra></extra>",
         "legendgroup": "Kollektivtrafiken Gotland, recorded",
         "line": {
          "color": "#B6E880",
          "dash": "solid"
         },
         "mode": "lines",
         "name": "Kollektivtrafiken Gotland, recorded",
         "orientation": "v",
         "showlegend": true,
         "type": "scatter",
         "x": [
          2017,
          2018,
          2019
         ],
         "xaxis": "x",
         "y": [
          0.54,
          0.51,
          0.56
         ],
         "yaxis": "y"
        },
        {
         "hovertemplate": "PTA=Kollektivtrafiken Gotland<br>type=estimated<br>year=%{x}<br>Kunder=%{y}<extra></extra>",
         "legendgroup": "Kollektivtrafiken Gotland, estimated",
         "line": {
          "color": "#B6E880",
          "dash": "dot"
         },
         "mode": "lines",
         "name": "Kollektivtrafiken Gotland, estimated",
         "orientation": "v",
         "showlegend": true,
         "type": "scatter",
         "x": [
          2017,
          2018,
          2019
         ],
         "xaxis": "x",
         "y": [
          0.542,
          0.549,
          0.527
         ],
         "yaxis": "y"
        },
        {
         "hovertemplate": "PTA=Luleå Lokaltrafik<br>type=recorded<br>year=%{x}<br>Kunder=%{y}<extra></extra>",
         "legendgroup": "Luleå Lokaltrafik, recorded",
         "line": {
          "color": "#FF97FF",
          "dash": "solid"
         },
         "mode": "lines",
         "name": "Luleå Lokaltrafik, recorded",
         "orientation": "v",
         "showlegend": true,
         "type": "scatter",
         "x": [
          2017,
          2018,
          2019
         ],
         "xaxis": "x",
         "y": [
          0.75,
          0.79,
          0.79
         ],
         "yaxis": "y"
        },
        {
         "hovertemplate": "PTA=Luleå Lokaltrafik<br>type=estimated<br>year=%{x}<br>Kunder=%{y}<extra></extra>",
         "legendgroup": "Luleå Lokaltrafik, estimated",
         "line": {
          "color": "#FF97FF",
          "dash": "dot"
         },
         "mode": "lines",
         "name": "Luleå Lokaltrafik, estimated",
         "orientation": "v",
         "showlegend": true,
         "type": "scatter",
         "x": [
          2017,
          2018,
          2019
         ],
         "xaxis": "x",
         "y": [
          0.786,
          0.784,
          0.764
         ],
         "yaxis": "y"
        },
        {
         "hovertemplate": "PTA=Länstrafiken Kronoberg<br>type=recorded<br>year=%{x}<br>Kunder=%{y}<extra></extra>",
         "legendgroup": "Länstrafiken Kronoberg, recorded",
         "line": {
          "color": "#FECB52",
          "dash": "solid"
         },
         "mode": "lines",
         "name": "Länstrafiken Kronoberg, recorded",
         "orientation": "v",
         "showlegend": true,
         "type": "scatter",
         "x": [
          2017,
          2018,
          2019
         ],
         "xaxis": "x",
         "y": [
          0.68,
          0.68,
          0.7
         ],
         "yaxis": "y"
        },
        {
         "hovertemplate": "PTA=Länstrafiken Kronoberg<br>type=estimated<br>year=%{x}<br>Kunder=%{y}<extra></extra>",
         "legendgroup": "Länstrafiken Kronoberg, estimated",
         "line": {
          "color": "#FECB52",
          "dash": "dot"
         },
         "mode": "lines",
         "name": "Länstrafiken Kronoberg, estimated",
         "orientation": "v",
         "showlegend": true,
         "type": "scatter",
         "x": [
          2017,
          2018,
          2019
         ],
         "xaxis": "x",
         "y": [
          0.692,
          0.697,
          0.673
         ],
         "yaxis": "y"
        },
        {
         "hovertemplate": "PTA=Länstrafiken Västerbotten<br>type=recorded<br>year=%{x}<br>Kunder=%{y}<extra></extra>",
         "legendgroup": "Länstrafiken Västerbotten, recorded",
         "line": {
          "color": "#636efa",
          "dash": "solid"
         },
         "mode": "lines",
         "name": "Länstrafiken Västerbotten, recorded",
         "orientation": "v",
         "showlegend": true,
         "type": "scatter",
         "x": [
          2017,
          2018,
          2019
         ],
         "xaxis": "x",
         "y": [
          0.67,
          0.68,
          0.66
         ],
         "yaxis": "y"
        },
        {
         "hovertemplate": "PTA=Länstrafiken Västerbotten<br>type=estimated<br>year=%{x}<br>Kunder=%{y}<extra></extra>",
         "legendgroup": "Länstrafiken Västerbotten, estimated",
         "line": {
          "color": "#636efa",
          "dash": "dot"
         },
         "mode": "lines",
         "name": "Länstrafiken Västerbotten, estimated",
         "orientation": "v",
         "showlegend": true,
         "type": "scatter",
         "x": [
          2017,
          2018,
          2019
         ],
         "xaxis": "x",
         "y": [
          0.673,
          0.674,
          0.665
         ],
         "yaxis": "y"
        },
        {
         "hovertemplate": "PTA=Länstrafiken i Jämtlands län<br>type=recorded<br>year=%{x}<br>Kunder=%{y}<extra></extra>",
         "legendgroup": "Länstrafiken i Jämtlands län, recorded",
         "line": {
          "color": "#EF553B",
          "dash": "solid"
         },
         "mode": "lines",
         "name": "Länstrafiken i Jämtlands län, recorded",
         "orientation": "v",
         "showlegend": true,
         "type": "scatter",
         "x": [
          2017,
          2018,
          2019
         ],
         "xaxis": "x",
         "y": [
          0.59,
          0.67,
          0.61
         ],
         "yaxis": "y"
        },
        {
         "hovertemplate": "PTA=Länstrafiken i Jämtlands län<br>type=estimated<br>year=%{x}<br>Kunder=%{y}<extra></extra>",
         "legendgroup": "Länstrafiken i Jämtlands län, estimated",
         "line": {
          "color": "#EF553B",
          "dash": "dot"
         },
         "mode": "lines",
         "name": "Länstrafiken i Jämtlands län, estimated",
         "orientation": "v",
         "showlegend": true,
         "type": "scatter",
         "x": [
          2017,
          2018,
          2019
         ],
         "xaxis": "x",
         "y": [
          0.63,
          0.624,
          0.617
         ],
         "yaxis": "y"
        },
        {
         "hovertemplate": "PTA=Länstrafiken i Norrbotten<br>type=recorded<br>year=%{x}<br>Kunder=%{y}<extra></extra>",
         "legendgroup": "Länstrafiken i Norrbotten, recorded",
         "line": {
          "color": "#00cc96",
          "dash": "solid"
         },
         "mode": "lines",
         "name": "Länstrafiken i Norrbotten, recorded",
         "orientation": "v",
         "showlegend": true,
         "type": "scatter",
         "x": [
          2017,
          2018,
          2019
         ],
         "xaxis": "x",
         "y": [
          0.65,
          0.61,
          0.65
         ],
         "yaxis": "y"
        },
        {
         "hovertemplate": "PTA=Länstrafiken i Norrbotten<br>type=estimated<br>year=%{x}<br>Kunder=%{y}<extra></extra>",
         "legendgroup": "Länstrafiken i Norrbotten, estimated",
         "line": {
          "color": "#00cc96",
          "dash": "dot"
         },
         "mode": "lines",
         "name": "Länstrafiken i Norrbotten, estimated",
         "orientation": "v",
         "showlegend": true,
         "type": "scatter",
         "x": [
          2017,
          2018,
          2019
         ],
         "xaxis": "x",
         "y": [
          0.636,
          0.654,
          0.623
         ],
         "yaxis": "y"
        },
        {
         "hovertemplate": "PTA=Länstrafiken Örebro<br>type=recorded<br>year=%{x}<br>Kunder=%{y}<extra></extra>",
         "legendgroup": "Länstrafiken Örebro, recorded",
         "line": {
          "color": "#ab63fa",
          "dash": "solid"
         },
         "mode": "lines",
         "name": "Länstrafiken Örebro, recorded",
         "orientation": "v",
         "showlegend": true,
         "type": "scatter",
         "x": [
          2017,
          2018,
          2019
         ],
         "xaxis": "x",
         "y": [
          0.59,
          0.65,
          0.61
         ],
         "yaxis": "y"
        },
        {
         "hovertemplate": "PTA=Länstrafiken Örebro<br>type=estimated<br>year=%{x}<br>Kunder=%{y}<extra></extra>",
         "legendgroup": "Länstrafiken Örebro, estimated",
         "line": {
          "color": "#ab63fa",
          "dash": "dot"
         },
         "mode": "lines",
         "name": "Länstrafiken Örebro, estimated",
         "orientation": "v",
         "showlegend": true,
         "type": "scatter",
         "x": [
          2017,
          2018,
          2019
         ],
         "xaxis": "x",
         "y": [
          0.622,
          0.629,
          0.599
         ],
         "yaxis": "y"
        },
        {
         "hovertemplate": "PTA=Nationellt snitt<br>type=recorded<br>year=%{x}<br>Kunder=%{y}<extra></extra>",
         "legendgroup": "Nationellt snitt, recorded",
         "line": {
          "color": "#FFA15A",
          "dash": "solid"
         },
         "mode": "lines",
         "name": "Nationellt snitt, recorded",
         "orientation": "v",
         "showlegend": true,
         "type": "scatter",
         "x": [
          2017,
          2018,
          2019
         ],
         "xaxis": "x",
         "y": [
          0.58,
          0.59,
          0.6
         ],
         "yaxis": "y"
        },
        {
         "hovertemplate": "PTA=Nationellt snitt<br>type=estimated<br>year=%{x}<br>Kunder=%{y}<extra></extra>",
         "legendgroup": "Nationellt snitt, estimated",
         "line": {
          "color": "#FFA15A",
          "dash": "dot"
         },
         "mode": "lines",
         "name": "Nationellt snitt, estimated",
         "orientation": "v",
         "showlegend": true,
         "type": "scatter",
         "x": [
          2017,
          2018,
          2019
         ],
         "xaxis": "x",
         "y": [
          0.596,
          0.595,
          0.582
         ],
         "yaxis": "y"
        },
        {
         "hovertemplate": "PTA=SL<br>type=recorded<br>year=%{x}<br>Kunder=%{y}<extra></extra>",
         "legendgroup": "SL, recorded",
         "line": {
          "color": "#19d3f3",
          "dash": "solid"
         },
         "mode": "lines",
         "name": "SL, recorded",
         "orientation": "v",
         "showlegend": true,
         "type": "scatter",
         "x": [
          2017,
          2018,
          2019
         ],
         "xaxis": "x",
         "y": [
          0.58,
          0.58,
          0.6
         ],
         "yaxis": "y"
        },
        {
         "hovertemplate": "PTA=SL<br>type=estimated<br>year=%{x}<br>Kunder=%{y}<extra></extra>",
         "legendgroup": "SL, estimated",
         "line": {
          "color": "#19d3f3",
          "dash": "dot"
         },
         "mode": "lines",
         "name": "SL, estimated",
         "orientation": "v",
         "showlegend": true,
         "type": "scatter",
         "x": [
          2017,
          2018,
          2019
         ],
         "xaxis": "x",
         "y": [
          0.59,
          0.592,
          0.596
         ],
         "yaxis": "y"
        },
        {
         "hovertemplate": "PTA=Skånetrafiken<br>type=recorded<br>year=%{x}<br>Kunder=%{y}<extra></extra>",
         "legendgroup": "Skånetrafiken, recorded",
         "line": {
          "color": "#FF6692",
          "dash": "solid"
         },
         "mode": "lines",
         "name": "Skånetrafiken, recorded",
         "orientation": "v",
         "showlegend": true,
         "type": "scatter",
         "x": [
          2017,
          2018,
          2019
         ],
         "xaxis": "x",
         "y": [
          0.52,
          0.53,
          0.55
         ],
         "yaxis": "y"
        },
        {
         "hovertemplate": "PTA=Skånetrafiken<br>type=estimated<br>year=%{x}<br>Kunder=%{y}<extra></extra>",
         "legendgroup": "Skånetrafiken, estimated",
         "line": {
          "color": "#FF6692",
          "dash": "dot"
         },
         "mode": "lines",
         "name": "Skånetrafiken, estimated",
         "orientation": "v",
         "showlegend": true,
         "type": "scatter",
         "x": [
          2017,
          2018,
          2019
         ],
         "xaxis": "x",
         "y": [
          0.548,
          0.547,
          0.536
         ],
         "yaxis": "y"
        },
        {
         "hovertemplate": "PTA=UL<br>type=recorded<br>year=%{x}<br>Kunder=%{y}<extra></extra>",
         "legendgroup": "UL, recorded",
         "line": {
          "color": "#B6E880",
          "dash": "solid"
         },
         "mode": "lines",
         "name": "UL, recorded",
         "orientation": "v",
         "showlegend": true,
         "type": "scatter",
         "x": [
          2017,
          2018,
          2019
         ],
         "xaxis": "x",
         "y": [
          0.59,
          0.61,
          0.62
         ],
         "yaxis": "y"
        },
        {
         "hovertemplate": "PTA=UL<br>type=estimated<br>year=%{x}<br>Kunder=%{y}<extra></extra>",
         "legendgroup": "UL, estimated",
         "line": {
          "color": "#B6E880",
          "dash": "dot"
         },
         "mode": "lines",
         "name": "UL, estimated",
         "orientation": "v",
         "showlegend": true,
         "type": "scatter",
         "x": [
          2017,
          2018,
          2019
         ],
         "xaxis": "x",
         "y": [
          0.616,
          0.613,
          0.599
         ],
         "yaxis": "y"
        },
        {
         "hovertemplate": "PTA=VL<br>type=recorded<br>year=%{x}<br>Kunder=%{y}<extra></extra>",
         "legendgroup": "VL, recorded",
         "line": {
          "color": "#FF97FF",
          "dash": "solid"
         },
         "mode": "lines",
         "name": "VL, recorded",
         "orientation": "v",
         "showlegend": true,
         "type": "scatter",
         "x": [
          2017,
          2018,
          2019
         ],
         "xaxis": "x",
         "y": [
          0.74,
          0.73,
          0.71
         ],
         "yaxis": "y"
        },
        {
         "hovertemplate": "PTA=VL<br>type=estimated<br>year=%{x}<br>Kunder=%{y}<extra></extra>",
         "legendgroup": "VL, estimated",
         "line": {
          "color": "#FF97FF",
          "dash": "dot"
         },
         "mode": "lines",
         "name": "VL, estimated",
         "orientation": "v",
         "showlegend": true,
         "type": "scatter",
         "x": [
          2017,
          2018,
          2019
         ],
         "xaxis": "x",
         "y": [
          0.728,
          0.74,
          0.715
         ],
         "yaxis": "y"
        },
        {
         "hovertemplate": "PTA=Värmlandstrafik<br>type=recorded<br>year=%{x}<br>Kunder=%{y}<extra></extra>",
         "legendgroup": "Värmlandstrafik, recorded",
         "line": {
          "color": "#FECB52",
          "dash": "solid"
         },
         "mode": "lines",
         "name": "Värmlandstrafik, recorded",
         "orientation": "v",
         "showlegend": true,
         "type": "scatter",
         "x": [
          2017,
          2018,
          2019
         ],
         "xaxis": "x",
         "y": [
          0.59,
          0.64,
          0.55
         ],
         "yaxis": "y"
        },
        {
         "hovertemplate": "PTA=Värmlandstrafik<br>type=estimated<br>year=%{x}<br>Kunder=%{y}<extra></extra>",
         "legendgroup": "Värmlandstrafik, estimated",
         "line": {
          "color": "#FECB52",
          "dash": "dot"
         },
         "mode": "lines",
         "name": "Värmlandstrafik, estimated",
         "orientation": "v",
         "showlegend": true,
         "type": "scatter",
         "x": [
          2017,
          2018,
          2019
         ],
         "xaxis": "x",
         "y": [
          0.598,
          0.602,
          0.58
         ],
         "yaxis": "y"
        },
        {
         "hovertemplate": "PTA=Västtrafik<br>type=recorded<br>year=%{x}<br>Kunder=%{y}<extra></extra>",
         "legendgroup": "Västtrafik, recorded",
         "line": {
          "color": "#636efa",
          "dash": "solid"
         },
         "mode": "lines",
         "name": "Västtrafik, recorded",
         "orientation": "v",
         "showlegend": true,
         "type": "scatter",
         "x": [
          2017,
          2018,
          2019
         ],
         "xaxis": "x",
         "y": [
          0.57,
          0.57,
          0.57
         ],
         "yaxis": "y"
        },
        {
         "hovertemplate": "PTA=Västtrafik<br>type=estimated<br>year=%{x}<br>Kunder=%{y}<extra></extra>",
         "legendgroup": "Västtrafik, estimated",
         "line": {
          "color": "#636efa",
          "dash": "dot"
         },
         "mode": "lines",
         "name": "Västtrafik, estimated",
         "orientation": "v",
         "showlegend": true,
         "type": "scatter",
         "x": [
          2017,
          2018,
          2019
         ],
         "xaxis": "x",
         "y": [
          0.57,
          0.573,
          0.564
         ],
         "yaxis": "y"
        },
        {
         "hovertemplate": "PTA=X-Trafik<br>type=recorded<br>year=%{x}<br>Kunder=%{y}<extra></extra>",
         "legendgroup": "X-Trafik, recorded",
         "line": {
          "color": "#EF553B",
          "dash": "solid"
         },
         "mode": "lines",
         "name": "X-Trafik, recorded",
         "orientation": "v",
         "showlegend": true,
         "type": "scatter",
         "x": [
          2017,
          2018,
          2019
         ],
         "xaxis": "x",
         "y": [
          0.66,
          0.67,
          0.66
         ],
         "yaxis": "y"
        },
        {
         "hovertemplate": "PTA=X-Trafik<br>type=estimated<br>year=%{x}<br>Kunder=%{y}<extra></extra>",
         "legendgroup": "X-Trafik, estimated",
         "line": {
          "color": "#EF553B",
          "dash": "dot"
         },
         "mode": "lines",
         "name": "X-Trafik, estimated",
         "orientation": "v",
         "showlegend": true,
         "type": "scatter",
         "x": [
          2017,
          2018,
          2019
         ],
         "xaxis": "x",
         "y": [
          0.671,
          0.669,
          0.652
         ],
         "yaxis": "y"
        },
        {
         "hovertemplate": "PTA=Östgötatrafiken<br>type=recorded<br>year=%{x}<br>Kunder=%{y}<extra></extra>",
         "legendgroup": "Östgötatrafiken, recorded",
         "line": {
          "color": "#00cc96",
          "dash": "solid"
         },
         "mode": "lines",
         "name": "Östgötatrafiken, recorded",
         "orientation": "v",
         "showlegend": true,
         "type": "scatter",
         "x": [
          2017,
          2018,
          2019
         ],
         "xaxis": "x",
         "y": [
          0.67,
          0.7,
          0.7
         ],
         "yaxis": "y"
        },
        {
         "hovertemplate": "PTA=Östgötatrafiken<br>type=estimated<br>year=%{x}<br>Kunder=%{y}<extra></extra>",
         "legendgroup": "Östgötatrafiken, estimated",
         "line": {
          "color": "#00cc96",
          "dash": "dot"
         },
         "mode": "lines",
         "name": "Östgötatrafiken, estimated",
         "orientation": "v",
         "showlegend": true,
         "type": "scatter",
         "x": [
          2017,
          2018,
          2019
         ],
         "xaxis": "x",
         "y": [
          0.687,
          0.7,
          0.684
         ],
         "yaxis": "y"
        }
       ],
       "layout": {
        "autosize": true,
        "legend": {
         "title": {
          "text": "PTA, type"
         },
         "tracegroupgap": 0
        },
        "template": {
         "data": {
          "bar": [
           {
            "error_x": {
             "color": "#2a3f5f"
            },
            "error_y": {
             "color": "#2a3f5f"
            },
            "marker": {
             "line": {
              "color": "#E5ECF6",
              "width": 0.5
             }
            },
            "type": "bar"
           }
          ],
          "barpolar": [
           {
            "marker": {
             "line": {
              "color": "#E5ECF6",
              "width": 0.5
             }
            },
            "type": "barpolar"
           }
          ],
          "carpet": [
           {
            "aaxis": {
             "endlinecolor": "#2a3f5f",
             "gridcolor": "white",
             "linecolor": "white",
             "minorgridcolor": "white",
             "startlinecolor": "#2a3f5f"
            },
            "baxis": {
             "endlinecolor": "#2a3f5f",
             "gridcolor": "white",
             "linecolor": "white",
             "minorgridcolor": "white",
             "startlinecolor": "#2a3f5f"
            },
            "type": "carpet"
           }
          ],
          "choropleth": [
           {
            "colorbar": {
             "outlinewidth": 0,
             "ticks": ""
            },
            "type": "choropleth"
           }
          ],
          "contour": [
           {
            "colorbar": {
             "outlinewidth": 0,
             "ticks": ""
            },
            "colorscale": [
             [
              0,
              "#0d0887"
             ],
             [
              0.1111111111111111,
              "#46039f"
             ],
             [
              0.2222222222222222,
              "#7201a8"
             ],
             [
              0.3333333333333333,
              "#9c179e"
             ],
             [
              0.4444444444444444,
              "#bd3786"
             ],
             [
              0.5555555555555556,
              "#d8576b"
             ],
             [
              0.6666666666666666,
              "#ed7953"
             ],
             [
              0.7777777777777778,
              "#fb9f3a"
             ],
             [
              0.8888888888888888,
              "#fdca26"
             ],
             [
              1,
              "#f0f921"
             ]
            ],
            "type": "contour"
           }
          ],
          "contourcarpet": [
           {
            "colorbar": {
             "outlinewidth": 0,
             "ticks": ""
            },
            "type": "contourcarpet"
           }
          ],
          "heatmap": [
           {
            "colorbar": {
             "outlinewidth": 0,
             "ticks": ""
            },
            "colorscale": [
             [
              0,
              "#0d0887"
             ],
             [
              0.1111111111111111,
              "#46039f"
             ],
             [
              0.2222222222222222,
              "#7201a8"
             ],
             [
              0.3333333333333333,
              "#9c179e"
             ],
             [
              0.4444444444444444,
              "#bd3786"
             ],
             [
              0.5555555555555556,
              "#d8576b"
             ],
             [
              0.6666666666666666,
              "#ed7953"
             ],
             [
              0.7777777777777778,
              "#fb9f3a"
             ],
             [
              0.8888888888888888,
              "#fdca26"
             ],
             [
              1,
              "#f0f921"
             ]
            ],
            "type": "heatmap"
           }
          ],
          "heatmapgl": [
           {
            "colorbar": {
             "outlinewidth": 0,
             "ticks": ""
            },
            "colorscale": [
             [
              0,
              "#0d0887"
             ],
             [
              0.1111111111111111,
              "#46039f"
             ],
             [
              0.2222222222222222,
              "#7201a8"
             ],
             [
              0.3333333333333333,
              "#9c179e"
             ],
             [
              0.4444444444444444,
              "#bd3786"
             ],
             [
              0.5555555555555556,
              "#d8576b"
             ],
             [
              0.6666666666666666,
              "#ed7953"
             ],
             [
              0.7777777777777778,
              "#fb9f3a"
             ],
             [
              0.8888888888888888,
              "#fdca26"
             ],
             [
              1,
              "#f0f921"
             ]
            ],
            "type": "heatmapgl"
           }
          ],
          "histogram": [
           {
            "marker": {
             "colorbar": {
              "outlinewidth": 0,
              "ticks": ""
             }
            },
            "type": "histogram"
           }
          ],
          "histogram2d": [
           {
            "colorbar": {
             "outlinewidth": 0,
             "ticks": ""
            },
            "colorscale": [
             [
              0,
              "#0d0887"
             ],
             [
              0.1111111111111111,
              "#46039f"
             ],
             [
              0.2222222222222222,
              "#7201a8"
             ],
             [
              0.3333333333333333,
              "#9c179e"
             ],
             [
              0.4444444444444444,
              "#bd3786"
             ],
             [
              0.5555555555555556,
              "#d8576b"
             ],
             [
              0.6666666666666666,
              "#ed7953"
             ],
             [
              0.7777777777777778,
              "#fb9f3a"
             ],
             [
              0.8888888888888888,
              "#fdca26"
             ],
             [
              1,
              "#f0f921"
             ]
            ],
            "type": "histogram2d"
           }
          ],
          "histogram2dcontour": [
           {
            "colorbar": {
             "outlinewidth": 0,
             "ticks": ""
            },
            "colorscale": [
             [
              0,
              "#0d0887"
             ],
             [
              0.1111111111111111,
              "#46039f"
             ],
             [
              0.2222222222222222,
              "#7201a8"
             ],
             [
              0.3333333333333333,
              "#9c179e"
             ],
             [
              0.4444444444444444,
              "#bd3786"
             ],
             [
              0.5555555555555556,
              "#d8576b"
             ],
             [
              0.6666666666666666,
              "#ed7953"
             ],
             [
              0.7777777777777778,
              "#fb9f3a"
             ],
             [
              0.8888888888888888,
              "#fdca26"
             ],
             [
              1,
              "#f0f921"
             ]
            ],
            "type": "histogram2dcontour"
           }
          ],
          "mesh3d": [
           {
            "colorbar": {
             "outlinewidth": 0,
             "ticks": ""
            },
            "type": "mesh3d"
           }
          ],
          "parcoords": [
           {
            "line": {
             "colorbar": {
              "outlinewidth": 0,
              "ticks": ""
             }
            },
            "type": "parcoords"
           }
          ],
          "pie": [
           {
            "automargin": true,
            "type": "pie"
           }
          ],
          "scatter": [
           {
            "marker": {
             "colorbar": {
              "outlinewidth": 0,
              "ticks": ""
             }
            },
            "type": "scatter"
           }
          ],
          "scatter3d": [
           {
            "line": {
             "colorbar": {
              "outlinewidth": 0,
              "ticks": ""
             }
            },
            "marker": {
             "colorbar": {
              "outlinewidth": 0,
              "ticks": ""
             }
            },
            "type": "scatter3d"
           }
          ],
          "scattercarpet": [
           {
            "marker": {
             "colorbar": {
              "outlinewidth": 0,
              "ticks": ""
             }
            },
            "type": "scattercarpet"
           }
          ],
          "scattergeo": [
           {
            "marker": {
             "colorbar": {
              "outlinewidth": 0,
              "ticks": ""
             }
            },
            "type": "scattergeo"
           }
          ],
          "scattergl": [
           {
            "marker": {
             "colorbar": {
              "outlinewidth": 0,
              "ticks": ""
             }
            },
            "type": "scattergl"
           }
          ],
          "scattermapbox": [
           {
            "marker": {
             "colorbar": {
              "outlinewidth": 0,
              "ticks": ""
             }
            },
            "type": "scattermapbox"
           }
          ],
          "scatterpolar": [
           {
            "marker": {
             "colorbar": {
              "outlinewidth": 0,
              "ticks": ""
             }
            },
            "type": "scatterpolar"
           }
          ],
          "scatterpolargl": [
           {
            "marker": {
             "colorbar": {
              "outlinewidth": 0,
              "ticks": ""
             }
            },
            "type": "scatterpolargl"
           }
          ],
          "scatterternary": [
           {
            "marker": {
             "colorbar": {
              "outlinewidth": 0,
              "ticks": ""
             }
            },
            "type": "scatterternary"
           }
          ],
          "surface": [
           {
            "colorbar": {
             "outlinewidth": 0,
             "ticks": ""
            },
            "colorscale": [
             [
              0,
              "#0d0887"
             ],
             [
              0.1111111111111111,
              "#46039f"
             ],
             [
              0.2222222222222222,
              "#7201a8"
             ],
             [
              0.3333333333333333,
              "#9c179e"
             ],
             [
              0.4444444444444444,
              "#bd3786"
             ],
             [
              0.5555555555555556,
              "#d8576b"
             ],
             [
              0.6666666666666666,
              "#ed7953"
             ],
             [
              0.7777777777777778,
              "#fb9f3a"
             ],
             [
              0.8888888888888888,
              "#fdca26"
             ],
             [
              1,
              "#f0f921"
             ]
            ],
            "type": "surface"
           }
          ],
          "table": [
           {
            "cells": {
             "fill": {
              "color": "#EBF0F8"
             },
             "line": {
              "color": "white"
             }
            },
            "header": {
             "fill": {
              "color": "#C8D4E3"
             },
             "line": {
              "color": "white"
             }
            },
            "type": "table"
           }
          ]
         },
         "layout": {
          "annotationdefaults": {
           "arrowcolor": "#2a3f5f",
           "arrowhead": 0,
           "arrowwidth": 1
          },
          "autotypenumbers": "strict",
          "coloraxis": {
           "colorbar": {
            "outlinewidth": 0,
            "ticks": ""
           }
          },
          "colorscale": {
           "diverging": [
            [
             0,
             "#8e0152"
            ],
            [
             0.1,
             "#c51b7d"
            ],
            [
             0.2,
             "#de77ae"
            ],
            [
             0.3,
             "#f1b6da"
            ],
            [
             0.4,
             "#fde0ef"
            ],
            [
             0.5,
             "#f7f7f7"
            ],
            [
             0.6,
             "#e6f5d0"
            ],
            [
             0.7,
             "#b8e186"
            ],
            [
             0.8,
             "#7fbc41"
            ],
            [
             0.9,
             "#4d9221"
            ],
            [
             1,
             "#276419"
            ]
           ],
           "sequential": [
            [
             0,
             "#0d0887"
            ],
            [
             0.1111111111111111,
             "#46039f"
            ],
            [
             0.2222222222222222,
             "#7201a8"
            ],
            [
             0.3333333333333333,
             "#9c179e"
            ],
            [
             0.4444444444444444,
             "#bd3786"
            ],
            [
             0.5555555555555556,
             "#d8576b"
            ],
            [
             0.6666666666666666,
             "#ed7953"
            ],
            [
             0.7777777777777778,
             "#fb9f3a"
            ],
            [
             0.8888888888888888,
             "#fdca26"
            ],
            [
             1,
             "#f0f921"
            ]
           ],
           "sequentialminus": [
            [
             0,
             "#0d0887"
            ],
            [
             0.1111111111111111,
             "#46039f"
            ],
            [
             0.2222222222222222,
             "#7201a8"
            ],
            [
             0.3333333333333333,
             "#9c179e"
            ],
            [
             0.4444444444444444,
             "#bd3786"
            ],
            [
             0.5555555555555556,
             "#d8576b"
            ],
            [
             0.6666666666666666,
             "#ed7953"
            ],
            [
             0.7777777777777778,
             "#fb9f3a"
            ],
            [
             0.8888888888888888,
             "#fdca26"
            ],
            [
             1,
             "#f0f921"
            ]
           ]
          },
          "colorway": [
           "#636efa",
           "#EF553B",
           "#00cc96",
           "#ab63fa",
           "#FFA15A",
           "#19d3f3",
           "#FF6692",
           "#B6E880",
           "#FF97FF",
           "#FECB52"
          ],
          "font": {
           "color": "#2a3f5f"
          },
          "geo": {
           "bgcolor": "white",
           "lakecolor": "white",
           "landcolor": "#E5ECF6",
           "showlakes": true,
           "showland": true,
           "subunitcolor": "white"
          },
          "hoverlabel": {
           "align": "left"
          },
          "hovermode": "closest",
          "mapbox": {
           "style": "light"
          },
          "paper_bgcolor": "white",
          "plot_bgcolor": "#E5ECF6",
          "polar": {
           "angularaxis": {
            "gridcolor": "white",
            "linecolor": "white",
            "ticks": ""
           },
           "bgcolor": "#E5ECF6",
           "radialaxis": {
            "gridcolor": "white",
            "linecolor": "white",
            "ticks": ""
           }
          },
          "scene": {
           "xaxis": {
            "backgroundcolor": "#E5ECF6",
            "gridcolor": "white",
            "gridwidth": 2,
            "linecolor": "white",
            "showbackground": true,
            "ticks": "",
            "zerolinecolor": "white"
           },
           "yaxis": {
            "backgroundcolor": "#E5ECF6",
            "gridcolor": "white",
            "gridwidth": 2,
            "linecolor": "white",
            "showbackground": true,
            "ticks": "",
            "zerolinecolor": "white"
           },
           "zaxis": {
            "backgroundcolor": "#E5ECF6",
            "gridcolor": "white",
            "gridwidth": 2,
            "linecolor": "white",
            "showbackground": true,
            "ticks": "",
            "zerolinecolor": "white"
           }
          },
          "shapedefaults": {
           "line": {
            "color": "#2a3f5f"
           }
          },
          "ternary": {
           "aaxis": {
            "gridcolor": "white",
            "linecolor": "white",
            "ticks": ""
           },
           "baxis": {
            "gridcolor": "white",
            "linecolor": "white",
            "ticks": ""
           },
           "bgcolor": "#E5ECF6",
           "caxis": {
            "gridcolor": "white",
            "linecolor": "white",
            "ticks": ""
           }
          },
          "title": {
           "x": 0.05
          },
          "xaxis": {
           "automargin": true,
           "gridcolor": "white",
           "linecolor": "white",
           "ticks": "",
           "title": {
            "standoff": 15
           },
           "zerolinecolor": "white",
           "zerolinewidth": 2
          },
          "yaxis": {
           "automargin": true,
           "gridcolor": "white",
           "linecolor": "white",
           "ticks": "",
           "title": {
            "standoff": 15
           },
           "zerolinecolor": "white",
           "zerolinewidth": 2
          }
         }
        },
        "title": {
         "text": "NKI for each PTA"
        },
        "xaxis": {
         "anchor": "y",
         "autorange": true,
         "domain": [
          0,
          1
         ],
         "range": [
          2017,
          2019
         ],
         "title": {
          "text": "year"
         },
         "type": "linear"
        },
        "yaxis": {
         "anchor": "x",
         "autorange": true,
         "domain": [
          0,
          1
         ],
         "range": [
          0.4811111111111111,
          0.8588888888888888
         ],
         "title": {
          "text": "Kunder"
         },
         "type": "linear"
        }
       }
      },
      "image/png": "[encoded data removed]",
      "text/html": [
       "<div>                            <div id=\"14fe2914-9f93-45a3-8dba-1e8e3c8b352b\" class=\"plotly-graph-div\" style=\"height:525px; width:100%;\"></div>            <script type=\"text/javascript\">                require([\"plotly\"], function(Plotly) {                    window.PLOTLYENV=window.PLOTLYENV || {};                                    if (document.getElementById(\"14fe2914-9f93-45a3-8dba-1e8e3c8b352b\")) {                    Plotly.newPlot(                        \"14fe2914-9f93-45a3-8dba-1e8e3c8b352b\",                        [{\"hovertemplate\": \"PTA=Blekingetrafiken<br>type=recorded<br>year=%{x}<br>Kunder=%{y}<extra></extra>\", \"legendgroup\": \"Blekingetrafiken, recorded\", \"line\": {\"color\": \"#636efa\", \"dash\": \"solid\"}, \"mode\": \"lines\", \"name\": \"Blekingetrafiken, recorded\", \"orientation\": \"v\", \"showlegend\": true, \"type\": \"scatter\", \"x\": [2017, 2018, 2019], \"xaxis\": \"x\", \"y\": [0.63, 0.7, 0.68], \"yaxis\": \"y\"}, {\"hovertemplate\": \"PTA=Blekingetrafiken<br>type=estimated<br>year=%{x}<br>Kunder=%{y}<extra></extra>\", \"legendgroup\": \"Blekingetrafiken, estimated\", \"line\": {\"color\": \"#636efa\", \"dash\": \"dot\"}, \"mode\": \"lines\", \"name\": \"Blekingetrafiken, estimated\", \"orientation\": \"v\", \"showlegend\": true, \"type\": \"scatter\", \"x\": [2017, 2018, 2019], \"xaxis\": \"x\", \"y\": [0.678, 0.674, 0.659], \"yaxis\": \"y\"}, {\"hovertemplate\": \"PTA=Dalatrafik<br>type=recorded<br>year=%{x}<br>Kunder=%{y}<extra></extra>\", \"legendgroup\": \"Dalatrafik, recorded\", \"line\": {\"color\": \"#EF553B\", \"dash\": \"solid\"}, \"mode\": \"lines\", \"name\": \"Dalatrafik, recorded\", \"orientation\": \"v\", \"showlegend\": true, \"type\": \"scatter\", \"x\": [2017, 2018, 2019], \"xaxis\": \"x\", \"y\": [0.52, 0.58, 0.53], \"yaxis\": \"y\"}, {\"hovertemplate\": \"PTA=Dalatrafik<br>type=estimated<br>year=%{x}<br>Kunder=%{y}<extra></extra>\", \"legendgroup\": \"Dalatrafik, estimated\", \"line\": {\"color\": \"#EF553B\", \"dash\": \"dot\"}, \"mode\": \"lines\", \"name\": \"Dalatrafik, estimated\", \"orientation\": \"v\", \"showlegend\": true, \"type\": \"scatter\", \"x\": [2017, 2018, 2019], \"xaxis\": \"x\", \"y\": [0.531, 0.533, 0.523], \"yaxis\": \"y\"}, {\"hovertemplate\": \"PTA=Din Tur<br>type=recorded<br>year=%{x}<br>Kunder=%{y}<extra></extra>\", \"legendgroup\": \"Din Tur, recorded\", \"line\": {\"color\": \"#00cc96\", \"dash\": \"solid\"}, \"mode\": \"lines\", \"name\": \"Din Tur, recorded\", \"orientation\": \"v\", \"showlegend\": true, \"type\": \"scatter\", \"x\": [2017, 2018, 2019], \"xaxis\": \"x\", \"y\": [0.53, 0.53, 0.54], \"yaxis\": \"y\"}, {\"hovertemplate\": \"PTA=Din Tur<br>type=estimated<br>year=%{x}<br>Kunder=%{y}<extra></extra>\", \"legendgroup\": \"Din Tur, estimated\", \"line\": {\"color\": \"#00cc96\", \"dash\": \"dot\"}, \"mode\": \"lines\", \"name\": \"Din Tur, estimated\", \"orientation\": \"v\", \"showlegend\": true, \"type\": \"scatter\", \"x\": [2017, 2018, 2019], \"xaxis\": \"x\", \"y\": [0.538, 0.544, 0.522], \"yaxis\": \"y\"}, {\"hovertemplate\": \"PTA=Hallandstrafiken<br>type=recorded<br>year=%{x}<br>Kunder=%{y}<extra></extra>\", \"legendgroup\": \"Hallandstrafiken, recorded\", \"line\": {\"color\": \"#ab63fa\", \"dash\": \"solid\"}, \"mode\": \"lines\", \"name\": \"Hallandstrafiken, recorded\", \"orientation\": \"v\", \"showlegend\": true, \"type\": \"scatter\", \"x\": [2017, 2018, 2019], \"xaxis\": \"x\", \"y\": [0.63, 0.66, 0.63], \"yaxis\": \"y\"}, {\"hovertemplate\": \"PTA=Hallandstrafiken<br>type=estimated<br>year=%{x}<br>Kunder=%{y}<extra></extra>\", \"legendgroup\": \"Hallandstrafiken, estimated\", \"line\": {\"color\": \"#ab63fa\", \"dash\": \"dot\"}, \"mode\": \"lines\", \"name\": \"Hallandstrafiken, estimated\", \"orientation\": \"v\", \"showlegend\": true, \"type\": \"scatter\", \"x\": [2017, 2018, 2019], \"xaxis\": \"x\", \"y\": [0.64, 0.65, 0.63], \"yaxis\": \"y\"}, {\"hovertemplate\": \"PTA=J\\u00f6nk\\u00f6pings L\\u00e4nstrafik<br>type=recorded<br>year=%{x}<br>Kunder=%{y}<extra></extra>\", \"legendgroup\": \"J\\u00f6nk\\u00f6pings L\\u00e4nstrafik, recorded\", \"line\": {\"color\": \"#FFA15A\", \"dash\": \"solid\"}, \"mode\": \"lines\", \"name\": \"J\\u00f6nk\\u00f6pings L\\u00e4nstrafik, recorded\", \"orientation\": \"v\", \"showlegend\": true, \"type\": \"scatter\", \"x\": [2017, 2018, 2019], \"xaxis\": \"x\", \"y\": [0.59, 0.63, 0.59], \"yaxis\": \"y\"}, {\"hovertemplate\": \"PTA=J\\u00f6nk\\u00f6pings L\\u00e4nstrafik<br>type=estimated<br>year=%{x}<br>Kunder=%{y}<extra></extra>\", \"legendgroup\": \"J\\u00f6nk\\u00f6pings L\\u00e4nstrafik, estimated\", \"line\": {\"color\": \"#FFA15A\", \"dash\": \"dot\"}, \"mode\": \"lines\", \"name\": \"J\\u00f6nk\\u00f6pings L\\u00e4nstrafik, estimated\", \"orientation\": \"v\", \"showlegend\": true, \"type\": \"scatter\", \"x\": [2017, 2018, 2019], \"xaxis\": \"x\", \"y\": [0.608, 0.611, 0.597], \"yaxis\": \"y\"}, {\"hovertemplate\": \"PTA=Kalmar L\\u00e4nstrafik<br>type=recorded<br>year=%{x}<br>Kunder=%{y}<extra></extra>\", \"legendgroup\": \"Kalmar L\\u00e4nstrafik, recorded\", \"line\": {\"color\": \"#19d3f3\", \"dash\": \"solid\"}, \"mode\": \"lines\", \"name\": \"Kalmar L\\u00e4nstrafik, recorded\", \"orientation\": \"v\", \"showlegend\": true, \"type\": \"scatter\", \"x\": [2017, 2018, 2019], \"xaxis\": \"x\", \"y\": [0.5, 0.65, 0.66], \"yaxis\": \"y\"}, {\"hovertemplate\": \"PTA=Kalmar L\\u00e4nstrafik<br>type=estimated<br>year=%{x}<br>Kunder=%{y}<extra></extra>\", \"legendgroup\": \"Kalmar L\\u00e4nstrafik, estimated\", \"line\": {\"color\": \"#19d3f3\", \"dash\": \"dot\"}, \"mode\": \"lines\", \"name\": \"Kalmar L\\u00e4nstrafik, estimated\", \"orientation\": \"v\", \"showlegend\": true, \"type\": \"scatter\", \"x\": [2017, 2018, 2019], \"xaxis\": \"x\", \"y\": [0.603, 0.613, 0.594], \"yaxis\": \"y\"}, {\"hovertemplate\": \"PTA=Karlstadsbuss<br>type=recorded<br>year=%{x}<br>Kunder=%{y}<extra></extra>\", \"legendgroup\": \"Karlstadsbuss, recorded\", \"line\": {\"color\": \"#FF6692\", \"dash\": \"solid\"}, \"mode\": \"lines\", \"name\": \"Karlstadsbuss, recorded\", \"orientation\": \"v\", \"showlegend\": true, \"type\": \"scatter\", \"x\": [2017, 2018, 2019], \"xaxis\": \"x\", \"y\": [0.84, 0.83, 0.81], \"yaxis\": \"y\"}, {\"hovertemplate\": \"PTA=Karlstadsbuss<br>type=estimated<br>year=%{x}<br>Kunder=%{y}<extra></extra>\", \"legendgroup\": \"Karlstadsbuss, estimated\", \"line\": {\"color\": \"#FF6692\", \"dash\": \"dot\"}, \"mode\": \"lines\", \"name\": \"Karlstadsbuss, estimated\", \"orientation\": \"v\", \"showlegend\": true, \"type\": \"scatter\", \"x\": [2017, 2018, 2019], \"xaxis\": \"x\", \"y\": [0.827, 0.839, 0.819], \"yaxis\": \"y\"}, {\"hovertemplate\": \"PTA=Kollektivtrafiken Gotland<br>type=recorded<br>year=%{x}<br>Kunder=%{y}<extra></extra>\", \"legendgroup\": \"Kollektivtrafiken Gotland, recorded\", \"line\": {\"color\": \"#B6E880\", \"dash\": \"solid\"}, \"mode\": \"lines\", \"name\": \"Kollektivtrafiken Gotland, recorded\", \"orientation\": \"v\", \"showlegend\": true, \"type\": \"scatter\", \"x\": [2017, 2018, 2019], \"xaxis\": \"x\", \"y\": [0.54, 0.51, 0.56], \"yaxis\": \"y\"}, {\"hovertemplate\": \"PTA=Kollektivtrafiken Gotland<br>type=estimated<br>year=%{x}<br>Kunder=%{y}<extra></extra>\", \"legendgroup\": \"Kollektivtrafiken Gotland, estimated\", \"line\": {\"color\": \"#B6E880\", \"dash\": \"dot\"}, \"mode\": \"lines\", \"name\": \"Kollektivtrafiken Gotland, estimated\", \"orientation\": \"v\", \"showlegend\": true, \"type\": \"scatter\", \"x\": [2017, 2018, 2019], \"xaxis\": \"x\", \"y\": [0.542, 0.549, 0.527], \"yaxis\": \"y\"}, {\"hovertemplate\": \"PTA=Lule\\u00e5 Lokaltrafik<br>type=recorded<br>year=%{x}<br>Kunder=%{y}<extra></extra>\", \"legendgroup\": \"Lule\\u00e5 Lokaltrafik, recorded\", \"line\": {\"color\": \"#FF97FF\", \"dash\": \"solid\"}, \"mode\": \"lines\", \"name\": \"Lule\\u00e5 Lokaltrafik, recorded\", \"orientation\": \"v\", \"showlegend\": true, \"type\": \"scatter\", \"x\": [2017, 2018, 2019], \"xaxis\": \"x\", \"y\": [0.75, 0.79, 0.79], \"yaxis\": \"y\"}, {\"hovertemplate\": \"PTA=Lule\\u00e5 Lokaltrafik<br>type=estimated<br>year=%{x}<br>Kunder=%{y}<extra></extra>\", \"legendgroup\": \"Lule\\u00e5 Lokaltrafik, estimated\", \"line\": {\"color\": \"#FF97FF\", \"dash\": \"dot\"}, \"mode\": \"lines\", \"name\": \"Lule\\u00e5 Lokaltrafik, estimated\", \"orientation\": \"v\", \"showlegend\": true, \"type\": \"scatter\", \"x\": [2017, 2018, 2019], \"xaxis\": \"x\", \"y\": [0.786, 0.784, 0.764], \"yaxis\": \"y\"}, {\"hovertemplate\": \"PTA=L\\u00e4nstrafiken Kronoberg<br>type=recorded<br>year=%{x}<br>Kunder=%{y}<extra></extra>\", \"legendgroup\": \"L\\u00e4nstrafiken Kronoberg, recorded\", \"line\": {\"color\": \"#FECB52\", \"dash\": \"solid\"}, \"mode\": \"lines\", \"name\": \"L\\u00e4nstrafiken Kronoberg, recorded\", \"orientation\": \"v\", \"showlegend\": true, \"type\": \"scatter\", \"x\": [2017, 2018, 2019], \"xaxis\": \"x\", \"y\": [0.68, 0.68, 0.7], \"yaxis\": \"y\"}, {\"hovertemplate\": \"PTA=L\\u00e4nstrafiken Kronoberg<br>type=estimated<br>year=%{x}<br>Kunder=%{y}<extra></extra>\", \"legendgroup\": \"L\\u00e4nstrafiken Kronoberg, estimated\", \"line\": {\"color\": \"#FECB52\", \"dash\": \"dot\"}, \"mode\": \"lines\", \"name\": \"L\\u00e4nstrafiken Kronoberg, estimated\", \"orientation\": \"v\", \"showlegend\": true, \"type\": \"scatter\", \"x\": [2017, 2018, 2019], \"xaxis\": \"x\", \"y\": [0.692, 0.697, 0.673], \"yaxis\": \"y\"}, {\"hovertemplate\": \"PTA=L\\u00e4nstrafiken V\\u00e4sterbotten<br>type=recorded<br>year=%{x}<br>Kunder=%{y}<extra></extra>\", \"legendgroup\": \"L\\u00e4nstrafiken V\\u00e4sterbotten, recorded\", \"line\": {\"color\": \"#636efa\", \"dash\": \"solid\"}, \"mode\": \"lines\", \"name\": \"L\\u00e4nstrafiken V\\u00e4sterbotten, recorded\", \"orientation\": \"v\", \"showlegend\": true, \"type\": \"scatter\", \"x\": [2017, 2018, 2019], \"xaxis\": \"x\", \"y\": [0.67, 0.68, 0.66], \"yaxis\": \"y\"}, {\"hovertemplate\": \"PTA=L\\u00e4nstrafiken V\\u00e4sterbotten<br>type=estimated<br>year=%{x}<br>Kunder=%{y}<extra></extra>\", \"legendgroup\": \"L\\u00e4nstrafiken V\\u00e4sterbotten, estimated\", \"line\": {\"color\": \"#636efa\", \"dash\": \"dot\"}, \"mode\": \"lines\", \"name\": \"L\\u00e4nstrafiken V\\u00e4sterbotten, estimated\", \"orientation\": \"v\", \"showlegend\": true, \"type\": \"scatter\", \"x\": [2017, 2018, 2019], \"xaxis\": \"x\", \"y\": [0.673, 0.674, 0.665], \"yaxis\": \"y\"}, {\"hovertemplate\": \"PTA=L\\u00e4nstrafiken i J\\u00e4mtlands l\\u00e4n<br>type=recorded<br>year=%{x}<br>Kunder=%{y}<extra></extra>\", \"legendgroup\": \"L\\u00e4nstrafiken i J\\u00e4mtlands l\\u00e4n, recorded\", \"line\": {\"color\": \"#EF553B\", \"dash\": \"solid\"}, \"mode\": \"lines\", \"name\": \"L\\u00e4nstrafiken i J\\u00e4mtlands l\\u00e4n, recorded\", \"orientation\": \"v\", \"showlegend\": true, \"type\": \"scatter\", \"x\": [2017, 2018, 2019], \"xaxis\": \"x\", \"y\": [0.59, 0.67, 0.61], \"yaxis\": \"y\"}, {\"hovertemplate\": \"PTA=L\\u00e4nstrafiken i J\\u00e4mtlands l\\u00e4n<br>type=estimated<br>year=%{x}<br>Kunder=%{y}<extra></extra>\", \"legendgroup\": \"L\\u00e4nstrafiken i J\\u00e4mtlands l\\u00e4n, estimated\", \"line\": {\"color\": \"#EF553B\", \"dash\": \"dot\"}, \"mode\": \"lines\", \"name\": \"L\\u00e4nstrafiken i J\\u00e4mtlands l\\u00e4n, estimated\", \"orientation\": \"v\", \"showlegend\": true, \"type\": \"scatter\", \"x\": [2017, 2018, 2019], \"xaxis\": \"x\", \"y\": [0.63, 0.624, 0.617], \"yaxis\": \"y\"}, {\"hovertemplate\": \"PTA=L\\u00e4nstrafiken i Norrbotten<br>type=recorded<br>year=%{x}<br>Kunder=%{y}<extra></extra>\", \"legendgroup\": \"L\\u00e4nstrafiken i Norrbotten, recorded\", \"line\": {\"color\": \"#00cc96\", \"dash\": \"solid\"}, \"mode\": \"lines\", \"name\": \"L\\u00e4nstrafiken i Norrbotten, recorded\", \"orientation\": \"v\", \"showlegend\": true, \"type\": \"scatter\", \"x\": [2017, 2018, 2019], \"xaxis\": \"x\", \"y\": [0.65, 0.61, 0.65], \"yaxis\": \"y\"}, {\"hovertemplate\": \"PTA=L\\u00e4nstrafiken i Norrbotten<br>type=estimated<br>year=%{x}<br>Kunder=%{y}<extra></extra>\", \"legendgroup\": \"L\\u00e4nstrafiken i Norrbotten, estimated\", \"line\": {\"color\": \"#00cc96\", \"dash\": \"dot\"}, \"mode\": \"lines\", \"name\": \"L\\u00e4nstrafiken i Norrbotten, estimated\", \"orientation\": \"v\", \"showlegend\": true, \"type\": \"scatter\", \"x\": [2017, 2018, 2019], \"xaxis\": \"x\", \"y\": [0.636, 0.654, 0.623], \"yaxis\": \"y\"}, {\"hovertemplate\": \"PTA=L\\u00e4nstrafiken \\u00d6rebro<br>type=recorded<br>year=%{x}<br>Kunder=%{y}<extra></extra>\", \"legendgroup\": \"L\\u00e4nstrafiken \\u00d6rebro, recorded\", \"line\": {\"color\": \"#ab63fa\", \"dash\": \"solid\"}, \"mode\": \"lines\", \"name\": \"L\\u00e4nstrafiken \\u00d6rebro, recorded\", \"orientation\": \"v\", \"showlegend\": true, \"type\": \"scatter\", \"x\": [2017, 2018, 2019], \"xaxis\": \"x\", \"y\": [0.59, 0.65, 0.61], \"yaxis\": \"y\"}, {\"hovertemplate\": \"PTA=L\\u00e4nstrafiken \\u00d6rebro<br>type=estimated<br>year=%{x}<br>Kunder=%{y}<extra></extra>\", \"legendgroup\": \"L\\u00e4nstrafiken \\u00d6rebro, estimated\", \"line\": {\"color\": \"#ab63fa\", \"dash\": \"dot\"}, \"mode\": \"lines\", \"name\": \"L\\u00e4nstrafiken \\u00d6rebro, estimated\", \"orientation\": \"v\", \"showlegend\": true, \"type\": \"scatter\", \"x\": [2017, 2018, 2019], \"xaxis\": \"x\", \"y\": [0.622, 0.629, 0.599], \"yaxis\": \"y\"}, {\"hovertemplate\": \"PTA=Nationellt snitt<br>type=recorded<br>year=%{x}<br>Kunder=%{y}<extra></extra>\", \"legendgroup\": \"Nationellt snitt, recorded\", \"line\": {\"color\": \"#FFA15A\", \"dash\": \"solid\"}, \"mode\": \"lines\", \"name\": \"Nationellt snitt, recorded\", \"orientation\": \"v\", \"showlegend\": true, \"type\": \"scatter\", \"x\": [2017, 2018, 2019], \"xaxis\": \"x\", \"y\": [0.58, 0.59, 0.6], \"yaxis\": \"y\"}, {\"hovertemplate\": \"PTA=Nationellt snitt<br>type=estimated<br>year=%{x}<br>Kunder=%{y}<extra></extra>\", \"legendgroup\": \"Nationellt snitt, estimated\", \"line\": {\"color\": \"#FFA15A\", \"dash\": \"dot\"}, \"mode\": \"lines\", \"name\": \"Nationellt snitt, estimated\", \"orientation\": \"v\", \"showlegend\": true, \"type\": \"scatter\", \"x\": [2017, 2018, 2019], \"xaxis\": \"x\", \"y\": [0.596, 0.595, 0.582], \"yaxis\": \"y\"}, {\"hovertemplate\": \"PTA=SL<br>type=recorded<br>year=%{x}<br>Kunder=%{y}<extra></extra>\", \"legendgroup\": \"SL, recorded\", \"line\": {\"color\": \"#19d3f3\", \"dash\": \"solid\"}, \"mode\": \"lines\", \"name\": \"SL, recorded\", \"orientation\": \"v\", \"showlegend\": true, \"type\": \"scatter\", \"x\": [2017, 2018, 2019], \"xaxis\": \"x\", \"y\": [0.58, 0.58, 0.6], \"yaxis\": \"y\"}, {\"hovertemplate\": \"PTA=SL<br>type=estimated<br>year=%{x}<br>Kunder=%{y}<extra></extra>\", \"legendgroup\": \"SL, estimated\", \"line\": {\"color\": \"#19d3f3\", \"dash\": \"dot\"}, \"mode\": \"lines\", \"name\": \"SL, estimated\", \"orientation\": \"v\", \"showlegend\": true, \"type\": \"scatter\", \"x\": [2017, 2018, 2019], \"xaxis\": \"x\", \"y\": [0.59, 0.592, 0.596], \"yaxis\": \"y\"}, {\"hovertemplate\": \"PTA=Sk\\u00e5netrafiken<br>type=recorded<br>year=%{x}<br>Kunder=%{y}<extra></extra>\", \"legendgroup\": \"Sk\\u00e5netrafiken, recorded\", \"line\": {\"color\": \"#FF6692\", \"dash\": \"solid\"}, \"mode\": \"lines\", \"name\": \"Sk\\u00e5netrafiken, recorded\", \"orientation\": \"v\", \"showlegend\": true, \"type\": \"scatter\", \"x\": [2017, 2018, 2019], \"xaxis\": \"x\", \"y\": [0.52, 0.53, 0.55], \"yaxis\": \"y\"}, {\"hovertemplate\": \"PTA=Sk\\u00e5netrafiken<br>type=estimated<br>year=%{x}<br>Kunder=%{y}<extra></extra>\", \"legendgroup\": \"Sk\\u00e5netrafiken, estimated\", \"line\": {\"color\": \"#FF6692\", \"dash\": \"dot\"}, \"mode\": \"lines\", \"name\": \"Sk\\u00e5netrafiken, estimated\", \"orientation\": \"v\", \"showlegend\": true, \"type\": \"scatter\", \"x\": [2017, 2018, 2019], \"xaxis\": \"x\", \"y\": [0.548, 0.547, 0.536], \"yaxis\": \"y\"}, {\"hovertemplate\": \"PTA=UL<br>type=recorded<br>year=%{x}<br>Kunder=%{y}<extra></extra>\", \"legendgroup\": \"UL, recorded\", \"line\": {\"color\": \"#B6E880\", \"dash\": \"solid\"}, \"mode\": \"lines\", \"name\": \"UL, recorded\", \"orientation\": \"v\", \"showlegend\": true, \"type\": \"scatter\", \"x\": [2017, 2018, 2019], \"xaxis\": \"x\", \"y\": [0.59, 0.61, 0.62], \"yaxis\": \"y\"}, {\"hovertemplate\": \"PTA=UL<br>type=estimated<br>year=%{x}<br>Kunder=%{y}<extra></extra>\", \"legendgroup\": \"UL, estimated\", \"line\": {\"color\": \"#B6E880\", \"dash\": \"dot\"}, \"mode\": \"lines\", \"name\": \"UL, estimated\", \"orientation\": \"v\", \"showlegend\": true, \"type\": \"scatter\", \"x\": [2017, 2018, 2019], \"xaxis\": \"x\", \"y\": [0.616, 0.613, 0.599], \"yaxis\": \"y\"}, {\"hovertemplate\": \"PTA=VL<br>type=recorded<br>year=%{x}<br>Kunder=%{y}<extra></extra>\", \"legendgroup\": \"VL, recorded\", \"line\": {\"color\": \"#FF97FF\", \"dash\": \"solid\"}, \"mode\": \"lines\", \"name\": \"VL, recorded\", \"orientation\": \"v\", \"showlegend\": true, \"type\": \"scatter\", \"x\": [2017, 2018, 2019], \"xaxis\": \"x\", \"y\": [0.74, 0.73, 0.71], \"yaxis\": \"y\"}, {\"hovertemplate\": \"PTA=VL<br>type=estimated<br>year=%{x}<br>Kunder=%{y}<extra></extra>\", \"legendgroup\": \"VL, estimated\", \"line\": {\"color\": \"#FF97FF\", \"dash\": \"dot\"}, \"mode\": \"lines\", \"name\": \"VL, estimated\", \"orientation\": \"v\", \"showlegend\": true, \"type\": \"scatter\", \"x\": [2017, 2018, 2019], \"xaxis\": \"x\", \"y\": [0.728, 0.74, 0.715], \"yaxis\": \"y\"}, {\"hovertemplate\": \"PTA=V\\u00e4rmlandstrafik<br>type=recorded<br>year=%{x}<br>Kunder=%{y}<extra></extra>\", \"legendgroup\": \"V\\u00e4rmlandstrafik, recorded\", \"line\": {\"color\": \"#FECB52\", \"dash\": \"solid\"}, \"mode\": \"lines\", \"name\": \"V\\u00e4rmlandstrafik, recorded\", \"orientation\": \"v\", \"showlegend\": true, \"type\": \"scatter\", \"x\": [2017, 2018, 2019], \"xaxis\": \"x\", \"y\": [0.59, 0.64, 0.55], \"yaxis\": \"y\"}, {\"hovertemplate\": \"PTA=V\\u00e4rmlandstrafik<br>type=estimated<br>year=%{x}<br>Kunder=%{y}<extra></extra>\", \"legendgroup\": \"V\\u00e4rmlandstrafik, estimated\", \"line\": {\"color\": \"#FECB52\", \"dash\": \"dot\"}, \"mode\": \"lines\", \"name\": \"V\\u00e4rmlandstrafik, estimated\", \"orientation\": \"v\", \"showlegend\": true, \"type\": \"scatter\", \"x\": [2017, 2018, 2019], \"xaxis\": \"x\", \"y\": [0.598, 0.602, 0.58], \"yaxis\": \"y\"}, {\"hovertemplate\": \"PTA=V\\u00e4sttrafik<br>type=recorded<br>year=%{x}<br>Kunder=%{y}<extra></extra>\", \"legendgroup\": \"V\\u00e4sttrafik, recorded\", \"line\": {\"color\": \"#636efa\", \"dash\": \"solid\"}, \"mode\": \"lines\", \"name\": \"V\\u00e4sttrafik, recorded\", \"orientation\": \"v\", \"showlegend\": true, \"type\": \"scatter\", \"x\": [2017, 2018, 2019], \"xaxis\": \"x\", \"y\": [0.57, 0.57, 0.57], \"yaxis\": \"y\"}, {\"hovertemplate\": \"PTA=V\\u00e4sttrafik<br>type=estimated<br>year=%{x}<br>Kunder=%{y}<extra></extra>\", \"legendgroup\": \"V\\u00e4sttrafik, estimated\", \"line\": {\"color\": \"#636efa\", \"dash\": \"dot\"}, \"mode\": \"lines\", \"name\": \"V\\u00e4sttrafik, estimated\", \"orientation\": \"v\", \"showlegend\": true, \"type\": \"scatter\", \"x\": [2017, 2018, 2019], \"xaxis\": \"x\", \"y\": [0.57, 0.573, 0.564], \"yaxis\": \"y\"}, {\"hovertemplate\": \"PTA=X-Trafik<br>type=recorded<br>year=%{x}<br>Kunder=%{y}<extra></extra>\", \"legendgroup\": \"X-Trafik, recorded\", \"line\": {\"color\": \"#EF553B\", \"dash\": \"solid\"}, \"mode\": \"lines\", \"name\": \"X-Trafik, recorded\", \"orientation\": \"v\", \"showlegend\": true, \"type\": \"scatter\", \"x\": [2017, 2018, 2019], \"xaxis\": \"x\", \"y\": [0.66, 0.67, 0.66], \"yaxis\": \"y\"}, {\"hovertemplate\": \"PTA=X-Trafik<br>type=estimated<br>year=%{x}<br>Kunder=%{y}<extra></extra>\", \"legendgroup\": \"X-Trafik, estimated\", \"line\": {\"color\": \"#EF553B\", \"dash\": \"dot\"}, \"mode\": \"lines\", \"name\": \"X-Trafik, estimated\", \"orientation\": \"v\", \"showlegend\": true, \"type\": \"scatter\", \"x\": [2017, 2018, 2019], \"xaxis\": \"x\", \"y\": [0.671, 0.669, 0.652], \"yaxis\": \"y\"}, {\"hovertemplate\": \"PTA=\\u00d6stg\\u00f6tatrafiken<br>type=recorded<br>year=%{x}<br>Kunder=%{y}<extra></extra>\", \"legendgroup\": \"\\u00d6stg\\u00f6tatrafiken, recorded\", \"line\": {\"color\": \"#00cc96\", \"dash\": \"solid\"}, \"mode\": \"lines\", \"name\": \"\\u00d6stg\\u00f6tatrafiken, recorded\", \"orientation\": \"v\", \"showlegend\": true, \"type\": \"scatter\", \"x\": [2017, 2018, 2019], \"xaxis\": \"x\", \"y\": [0.67, 0.7, 0.7], \"yaxis\": \"y\"}, {\"hovertemplate\": \"PTA=\\u00d6stg\\u00f6tatrafiken<br>type=estimated<br>year=%{x}<br>Kunder=%{y}<extra></extra>\", \"legendgroup\": \"\\u00d6stg\\u00f6tatrafiken, estimated\", \"line\": {\"color\": \"#00cc96\", \"dash\": \"dot\"}, \"mode\": \"lines\", \"name\": \"\\u00d6stg\\u00f6tatrafiken, estimated\", \"orientation\": \"v\", \"showlegend\": true, \"type\": \"scatter\", \"x\": [2017, 2018, 2019], \"xaxis\": \"x\", \"y\": [0.687, 0.7, 0.684], \"yaxis\": \"y\"}],                        {\"legend\": {\"title\": {\"text\": \"PTA, type\"}, \"tracegroupgap\": 0}, \"template\": {\"data\": {\"bar\": [{\"error_x\": {\"color\": \"#2a3f5f\"}, \"error_y\": {\"color\": \"#2a3f5f\"}, \"marker\": {\"line\": {\"color\": \"#E5ECF6\", \"width\": 0.5}}, \"type\": \"bar\"}], \"barpolar\": [{\"marker\": {\"line\": {\"color\": \"#E5ECF6\", \"width\": 0.5}}, \"type\": \"barpolar\"}], \"carpet\": [{\"aaxis\": {\"endlinecolor\": \"#2a3f5f\", \"gridcolor\": \"white\", \"linecolor\": \"white\", \"minorgridcolor\": \"white\", \"startlinecolor\": \"#2a3f5f\"}, \"baxis\": {\"endlinecolor\": \"#2a3f5f\", \"gridcolor\": \"white\", \"linecolor\": \"white\", \"minorgridcolor\": \"white\", \"startlinecolor\": \"#2a3f5f\"}, \"type\": \"carpet\"}], \"choropleth\": [{\"colorbar\": {\"outlinewidth\": 0, \"ticks\": \"\"}, \"type\": \"choropleth\"}], \"contour\": [{\"colorbar\": {\"outlinewidth\": 0, \"ticks\": \"\"}, \"colorscale\": [[0.0, \"#0d0887\"], [0.1111111111111111, \"#46039f\"], [0.2222222222222222, \"#7201a8\"], [0.3333333333333333, \"#9c179e\"], [0.4444444444444444, \"#bd3786\"], [0.5555555555555556, \"#d8576b\"], [0.6666666666666666, \"#ed7953\"], [0.7777777777777778, \"#fb9f3a\"], [0.8888888888888888, \"#fdca26\"], [1.0, \"#f0f921\"]], \"type\": \"contour\"}], \"contourcarpet\": [{\"colorbar\": {\"outlinewidth\": 0, \"ticks\": \"\"}, \"type\": \"contourcarpet\"}], \"heatmap\": [{\"colorbar\": {\"outlinewidth\": 0, \"ticks\": \"\"}, \"colorscale\": [[0.0, \"#0d0887\"], [0.1111111111111111, \"#46039f\"], [0.2222222222222222, \"#7201a8\"], [0.3333333333333333, \"#9c179e\"], [0.4444444444444444, \"#bd3786\"], [0.5555555555555556, \"#d8576b\"], [0.6666666666666666, \"#ed7953\"], [0.7777777777777778, \"#fb9f3a\"], [0.8888888888888888, \"#fdca26\"], [1.0, \"#f0f921\"]], \"type\": \"heatmap\"}], \"heatmapgl\": [{\"colorbar\": {\"outlinewidth\": 0, \"ticks\": \"\"}, \"colorscale\": [[0.0, \"#0d0887\"], [0.1111111111111111, \"#46039f\"], [0.2222222222222222, \"#7201a8\"], [0.3333333333333333, \"#9c179e\"], [0.4444444444444444, \"#bd3786\"], [0.5555555555555556, \"#d8576b\"], [0.6666666666666666, \"#ed7953\"], [0.7777777777777778, \"#fb9f3a\"], [0.8888888888888888, \"#fdca26\"], [1.0, \"#f0f921\"]], \"type\": \"heatmapgl\"}], \"histogram\": [{\"marker\": {\"colorbar\": {\"outlinewidth\": 0, \"ticks\": \"\"}}, \"type\": \"histogram\"}], \"histogram2d\": [{\"colorbar\": {\"outlinewidth\": 0, \"ticks\": \"\"}, \"colorscale\": [[0.0, \"#0d0887\"], [0.1111111111111111, \"#46039f\"], [0.2222222222222222, \"#7201a8\"], [0.3333333333333333, \"#9c179e\"], [0.4444444444444444, \"#bd3786\"], [0.5555555555555556, \"#d8576b\"], [0.6666666666666666, \"#ed7953\"], [0.7777777777777778, \"#fb9f3a\"], [0.8888888888888888, \"#fdca26\"], [1.0, \"#f0f921\"]], \"type\": \"histogram2d\"}], \"histogram2dcontour\": [{\"colorbar\": {\"outlinewidth\": 0, \"ticks\": \"\"}, \"colorscale\": [[0.0, \"#0d0887\"], [0.1111111111111111, \"#46039f\"], [0.2222222222222222, \"#7201a8\"], [0.3333333333333333, \"#9c179e\"], [0.4444444444444444, \"#bd3786\"], [0.5555555555555556, \"#d8576b\"], [0.6666666666666666, \"#ed7953\"], [0.7777777777777778, \"#fb9f3a\"], [0.8888888888888888, \"#fdca26\"], [1.0, \"#f0f921\"]], \"type\": \"histogram2dcontour\"}], \"mesh3d\": [{\"colorbar\": {\"outlinewidth\": 0, \"ticks\": \"\"}, \"type\": \"mesh3d\"}], \"parcoords\": [{\"line\": {\"colorbar\": {\"outlinewidth\": 0, \"ticks\": \"\"}}, \"type\": \"parcoords\"}], \"pie\": [{\"automargin\": true, \"type\": \"pie\"}], \"scatter\": [{\"marker\": {\"colorbar\": {\"outlinewidth\": 0, \"ticks\": \"\"}}, \"type\": \"scatter\"}], \"scatter3d\": [{\"line\": {\"colorbar\": {\"outlinewidth\": 0, \"ticks\": \"\"}}, \"marker\": {\"colorbar\": {\"outlinewidth\": 0, \"ticks\": \"\"}}, \"type\": \"scatter3d\"}], \"scattercarpet\": [{\"marker\": {\"colorbar\": {\"outlinewidth\": 0, \"ticks\": \"\"}}, \"type\": \"scattercarpet\"}], \"scattergeo\": [{\"marker\": {\"colorbar\": {\"outlinewidth\": 0, \"ticks\": \"\"}}, \"type\": \"scattergeo\"}], \"scattergl\": [{\"marker\": {\"colorbar\": {\"outlinewidth\": 0, \"ticks\": \"\"}}, \"type\": \"scattergl\"}], \"scattermapbox\": [{\"marker\": {\"colorbar\": {\"outlinewidth\": 0, \"ticks\": \"\"}}, \"type\": \"scattermapbox\"}], \"scatterpolar\": [{\"marker\": {\"colorbar\": {\"outlinewidth\": 0, \"ticks\": \"\"}}, \"type\": \"scatterpolar\"}], \"scatterpolargl\": [{\"marker\": {\"colorbar\": {\"outlinewidth\": 0, \"ticks\": \"\"}}, \"type\": \"scatterpolargl\"}], \"scatterternary\": [{\"marker\": {\"colorbar\": {\"outlinewidth\": 0, \"ticks\": \"\"}}, \"type\": \"scatterternary\"}], \"surface\": [{\"colorbar\": {\"outlinewidth\": 0, \"ticks\": \"\"}, \"colorscale\": [[0.0, \"#0d0887\"], [0.1111111111111111, \"#46039f\"], [0.2222222222222222, \"#7201a8\"], [0.3333333333333333, \"#9c179e\"], [0.4444444444444444, \"#bd3786\"], [0.5555555555555556, \"#d8576b\"], [0.6666666666666666, \"#ed7953\"], [0.7777777777777778, \"#fb9f3a\"], [0.8888888888888888, \"#fdca26\"], [1.0, \"#f0f921\"]], \"type\": \"surface\"}], \"table\": [{\"cells\": {\"fill\": {\"color\": \"#EBF0F8\"}, \"line\": {\"color\": \"white\"}}, \"header\": {\"fill\": {\"color\": \"#C8D4E3\"}, \"line\": {\"color\": \"white\"}}, \"type\": \"table\"}]}, \"layout\": {\"annotationdefaults\": {\"arrowcolor\": \"#2a3f5f\", \"arrowhead\": 0, \"arrowwidth\": 1}, \"autotypenumbers\": \"strict\", \"coloraxis\": {\"colorbar\": {\"outlinewidth\": 0, \"ticks\": \"\"}}, \"colorscale\": {\"diverging\": [[0, \"#8e0152\"], [0.1, \"#c51b7d\"], [0.2, \"#de77ae\"], [0.3, \"#f1b6da\"], [0.4, \"#fde0ef\"], [0.5, \"#f7f7f7\"], [0.6, \"#e6f5d0\"], [0.7, \"#b8e186\"], [0.8, \"#7fbc41\"], [0.9, \"#4d9221\"], [1, \"#276419\"]], \"sequential\": [[0.0, \"#0d0887\"], [0.1111111111111111, \"#46039f\"], [0.2222222222222222, \"#7201a8\"], [0.3333333333333333, \"#9c179e\"], [0.4444444444444444, \"#bd3786\"], [0.5555555555555556, \"#d8576b\"], [0.6666666666666666, \"#ed7953\"], [0.7777777777777778, \"#fb9f3a\"], [0.8888888888888888, \"#fdca26\"], [1.0, \"#f0f921\"]], \"sequentialminus\": [[0.0, \"#0d0887\"], [0.1111111111111111, \"#46039f\"], [0.2222222222222222, \"#7201a8\"], [0.3333333333333333, \"#9c179e\"], [0.4444444444444444, \"#bd3786\"], [0.5555555555555556, \"#d8576b\"], [0.6666666666666666, \"#ed7953\"], [0.7777777777777778, \"#fb9f3a\"], [0.8888888888888888, \"#fdca26\"], [1.0, \"#f0f921\"]]}, \"colorway\": [\"#636efa\", \"#EF553B\", \"#00cc96\", \"#ab63fa\", \"#FFA15A\", \"#19d3f3\", \"#FF6692\", \"#B6E880\", \"#FF97FF\", \"#FECB52\"], \"font\": {\"color\": \"#2a3f5f\"}, \"geo\": {\"bgcolor\": \"white\", \"lakecolor\": \"white\", \"landcolor\": \"#E5ECF6\", \"showlakes\": true, \"showland\": true, \"subunitcolor\": \"white\"}, \"hoverlabel\": {\"align\": \"left\"}, \"hovermode\": \"closest\", \"mapbox\": {\"style\": \"light\"}, \"paper_bgcolor\": \"white\", \"plot_bgcolor\": \"#E5ECF6\", \"polar\": {\"angularaxis\": {\"gridcolor\": \"white\", \"linecolor\": \"white\", \"ticks\": \"\"}, \"bgcolor\": \"#E5ECF6\", \"radialaxis\": {\"gridcolor\": \"white\", \"linecolor\": \"white\", \"ticks\": \"\"}}, \"scene\": {\"xaxis\": {\"backgroundcolor\": \"#E5ECF6\", \"gridcolor\": \"white\", \"gridwidth\": 2, \"linecolor\": \"white\", \"showbackground\": true, \"ticks\": \"\", \"zerolinecolor\": \"white\"}, \"yaxis\": {\"backgroundcolor\": \"#E5ECF6\", \"gridcolor\": \"white\", \"gridwidth\": 2, \"linecolor\": \"white\", \"showbackground\": true, \"ticks\": \"\", \"zerolinecolor\": \"white\"}, \"zaxis\": {\"backgroundcolor\": \"#E5ECF6\", \"gridcolor\": \"white\", \"gridwidth\": 2, \"linecolor\": \"white\", \"showbackground\": true, \"ticks\": \"\", \"zerolinecolor\": \"white\"}}, \"shapedefaults\": {\"line\": {\"color\": \"#2a3f5f\"}}, \"ternary\": {\"aaxis\": {\"gridcolor\": \"white\", \"linecolor\": \"white\", \"ticks\": \"\"}, \"baxis\": {\"gridcolor\": \"white\", \"linecolor\": \"white\", \"ticks\": \"\"}, \"bgcolor\": \"#E5ECF6\", \"caxis\": {\"gridcolor\": \"white\", \"linecolor\": \"white\", \"ticks\": \"\"}}, \"title\": {\"x\": 0.05}, \"xaxis\": {\"automargin\": true, \"gridcolor\": \"white\", \"linecolor\": \"white\", \"ticks\": \"\", \"title\": {\"standoff\": 15}, \"zerolinecolor\": \"white\", \"zerolinewidth\": 2}, \"yaxis\": {\"automargin\": true, \"gridcolor\": \"white\", \"linecolor\": \"white\", \"ticks\": \"\", \"title\": {\"standoff\": 15}, \"zerolinecolor\": \"white\", \"zerolinewidth\": 2}}}, \"title\": {\"text\": \"NKI for each PTA\"}, \"xaxis\": {\"anchor\": \"y\", \"domain\": [0.0, 1.0], \"title\": {\"text\": \"year\"}}, \"yaxis\": {\"anchor\": \"x\", \"domain\": [0.0, 1.0], \"title\": {\"text\": \"Kunder\"}}},                        {\"responsive\": true}                    ).then(function(){\n",
       "                            \n",
       "var gd = document.getElementById('14fe2914-9f93-45a3-8dba-1e8e3c8b352b');\n",
       "var x = new MutationObserver(function (mutations, observer) {{\n",
       "        var display = window.getComputedStyle(gd).display;\n",
       "        if (!display || display === 'none') {{\n",
       "            console.log([gd, 'removed!']);\n",
       "            Plotly.purge(gd);\n",
       "            observer.disconnect();\n",
       "        }}\n",
       "}});\n",
       "\n",
       "// Listen for the removal of the full notebook cells\n",
       "var notebookContainer = gd.closest('#notebook-container');\n",
       "if (notebookContainer) {{\n",
       "    x.observe(notebookContainer, {childList: true});\n",
       "}}\n",
       "\n",
       "// Listen for the clearing of the current output cell\n",
       "var outputEl = gd.closest('.output');\n",
       "if (outputEl) {{\n",
       "    x.observe(outputEl, {childList: true});\n",
       "}}\n",
       "\n",
       "                        })                };                });            </script>        </div>"
      ]
     },
     "metadata": {},
     "output_type": "display_data"
    }
   ],
   "source": [
    "fig = px.line(concat_df, x='year', y='Kunder', color='PTA', title='NKI for each PTA',\n",
    "             line_dash='type',)\n",
    "fig.show()"
   ]
  },
  {
   "cell_type": "code",
   "execution_count": 127,
   "metadata": {},
   "outputs": [],
   "source": [
    "import ipywidgets as widgets\n",
    "\n",
    "punctuality_init2 = df3[(df3['year']==2019) & (df3['name']=='Kvalitet/punktlighet')]['Kollektivtrafikresenärer ']\n",
    "value_init2 = df3[(df3['year']==2019) & (df3['name']=='Prisvärdhet')]['Kollektivtrafikresenärer ']\n",
    "relevance_init2 = df3[(df3['year']==2019) & (df3['name']=='Relevans ')]['Kollektivtrafikresenärer ']\n",
    "safety_init2 = df3[(df3['year']==2019) & (df3['name']=='Trygghet')]['Kollektivtrafikresenärer ']\n",
    "\n",
    "punctuality = widgets.FloatSlider(\n",
    "    value=punctuality_init2,\n",
    "    min=punctuality_init2 - 0.1,\n",
    "    max=punctuality_init2 + 0.1,\n",
    "    step=0.01,\n",
    "    description='punctuality',\n",
    "    disabled=False,\n",
    "    continuous_update=False,\n",
    "    orientation='horizontal',\n",
    "    readout=True,\n",
    "    readout_format='.2f',\n",
    ")\n",
    "\n",
    "value = widgets.FloatSlider(\n",
    "    value=value_init2,\n",
    "    min=value_init2 - 0.1,\n",
    "    max=value_init2 + 0.1,\n",
    "    step=0.01,\n",
    "    description='value',\n",
    "    disabled=False,\n",
    "    continuous_update=False,\n",
    "    orientation='horizontal',\n",
    "    readout=True,\n",
    "    readout_format='.2f',\n",
    ")\n",
    "\n",
    "relevance = widgets.FloatSlider(\n",
    "    value=relevance_init2,\n",
    "    min=relevance_init2 - 0.1,\n",
    "    max=relevance_init2 + 0.1,\n",
    "    step=0.01,\n",
    "    description='relevance',\n",
    "    disabled=False,\n",
    "    continuous_update=False,\n",
    "    orientation='horizontal',\n",
    "    readout=True,\n",
    "    readout_format='.2f',\n",
    ")\n",
    "\n",
    "safety = widgets.FloatSlider(\n",
    "    value=safety_init2,\n",
    "    min=safety_init2 - 0.1,\n",
    "    max=safety_init2 + 0.1,\n",
    "    step=0.01,\n",
    "    description='safety',\n",
    "    disabled=False,\n",
    "    continuous_update=False,\n",
    "    orientation='horizontal',\n",
    "    readout=True,\n",
    "    readout_format='.2f',\n",
    ")"
   ]
  },
  {
   "cell_type": "code",
   "execution_count": 136,
   "metadata": {},
   "outputs": [
    {
     "data": {
      "application/vnd.jupyter.widget-view+json": {
       "model_id": "d965110f266044fdb7012ce95896f7c1",
       "version_major": 2,
       "version_minor": 0
      },
      "text/plain": [
       "HBox(children=(VBox(children=(FloatSlider(value=0.52, continuous_update=False, description='punctuality', max=…"
      ]
     },
     "metadata": {},
     "output_type": "display_data"
    }
   ],
   "source": [
    "import pandas as pd\n",
    "from ipywidgets import interact, HBox, VBox, interactive_output\n",
    "\n",
    "x = df3[df3['year']==2019].sort_values(by='name')[df3.columns[1:-3]].values\n",
    "a = coef2[-4:].reshape(-1,1)\n",
    "b = coef2[:-4]\n",
    "w = df4[df4['year']==2019].sort_values(by='PTA')[df4.columns[1:-2]].values\n",
    "tmp = df1.sort_values(by=['year', 'PTA']).copy().drop(columns='Allmänheten')\n",
    "\n",
    "def plot3(punctuality, value, relevance, safety):\n",
    "    X = np.empty((4,3))\n",
    "    X[:,2] = np.array([punctuality, value, relevance, safety])\n",
    "    X[:,1] = (x[:,1]/x[:,2])*X[:,2]\n",
    "    X[:,0] = (x[:,0]/x[:,2])*X[:,2]\n",
    "    \n",
    "    outputs = pd.DataFrame({\n",
    "    'PTA':tmp[tmp['year']==2019]['PTA'],\n",
    "    'value':b + w@np.sum(a*X, axis=0)\n",
    "    })\n",
    "    outputs['value'] = outputs['value'].apply(lambda x:round(x, 3))\n",
    "    outputs = outputs.sort_values('value', \n",
    "#                                   ascending=False\n",
    "                                 )\n",
    "    \n",
    "    fig = px.bar(outputs, x='value', y='PTA',\n",
    "                width=500, height=700, range_x = [0, 1.0], text='value',\n",
    "                 orientation = 'h',\n",
    "#                  color='PTA',\n",
    "                title='Estimated NKI')\n",
    "    fig.update_layout(showlegend=False)\n",
    "\n",
    "    return fig.show()\n",
    "\n",
    "out = widgets.interactive_output(plot3, \n",
    "                                 {'punctuality': punctuality, 'value':value, 'relevance': relevance, 'safety': safety})\n",
    "\n",
    "layout = widgets.Layout(display='flex',\n",
    "                flex_flow='raw',\n",
    "                align_items='center',\n",
    "                width='100%')\n",
    "display(HBox([VBox([punctuality, value, relevance, safety]), out], layout=layout))"
   ]
  },
  {
   "cell_type": "markdown",
   "metadata": {},
   "source": [
    "### Estimation of market share"
   ]
  },
  {
   "cell_type": "code",
   "execution_count": 137,
   "metadata": {},
   "outputs": [],
   "source": [
    "import pandas as pd\n",
    "\n",
    "a2 = coef3[-4:].reshape(-1,1)\n",
    "b2 = coef3[:-4]\n",
    "pred2 = df2.sort_values(by=['year', 'PTA']).copy()\n",
    "pred2['market_share'] = 0\n",
    "tmp = []\n",
    "for year in [2019, 2018, 2017]:\n",
    "    x = df3[df3['year']==year].sort_values(by='name')[df3.columns[1:-3]].values\n",
    "    w = df4[df4['year']==year].sort_values(by='PTA')[df4.columns[1:-2]].values\n",
    "    tmp += list(b2 + w@np.sum(a2*x, axis=0))\n",
    "    \n",
    "pred2['market_share'] = tmp\n",
    "pred2['market_share'] = pred2['market_share'].apply(lambda x:round(x, 3))"
   ]
  },
  {
   "cell_type": "code",
   "execution_count": 138,
   "metadata": {},
   "outputs": [],
   "source": [
    "tmp1 = df2[['PTA', 'year', 'market_share']].sort_values(by=['year', 'PTA']).copy()\n",
    "tmp1['type'] = 'recorded'\n",
    "\n",
    "tmp2 = pred2[['PTA', 'year', 'market_share']].copy()\n",
    "tmp2['type'] = 'estimated'\n",
    "\n",
    "concat_df2 = pd.concat([tmp1,tmp2], axis=0)"
   ]
  },
  {
   "cell_type": "code",
   "execution_count": 139,
   "metadata": {},
   "outputs": [
    {
     "data": {
      "application/vnd.plotly.v1+json": {
       "config": {
        "plotlyServerURL": "https://plot.ly"
       },
       "data": [
        {
         "hovertemplate": "PTA=Blekingetrafiken<br>type=recorded<br>year=%{x}<br>market_share=%{y}<extra></extra>",
         "legendgroup": "Blekingetrafiken, recorded",
         "line": {
          "color": "#636efa",
          "dash": "solid"
         },
         "mode": "lines",
         "name": "Blekingetrafiken, recorded",
         "orientation": "v",
         "showlegend": true,
         "type": "scatter",
         "x": [
          2017,
          2018,
          2019
         ],
         "xaxis": "x",
         "y": [
          0.16,
          0.16,
          0.2
         ],
         "yaxis": "y"
        },
        {
         "hovertemplate": "PTA=Blekingetrafiken<br>type=estimated<br>year=%{x}<br>market_share=%{y}<extra></extra>",
         "legendgroup": "Blekingetrafiken, estimated",
         "line": {
          "color": "#636efa",
          "dash": "dot"
         },
         "mode": "lines",
         "name": "Blekingetrafiken, estimated",
         "orientation": "v",
         "showlegend": true,
         "type": "scatter",
         "x": [
          2017,
          2018,
          2019
         ],
         "xaxis": "x",
         "y": [
          0.16,
          0.155,
          0.145
         ],
         "yaxis": "y"
        },
        {
         "hovertemplate": "PTA=Dalatrafik<br>type=recorded<br>year=%{x}<br>market_share=%{y}<extra></extra>",
         "legendgroup": "Dalatrafik, recorded",
         "line": {
          "color": "#EF553B",
          "dash": "solid"
         },
         "mode": "lines",
         "name": "Dalatrafik, recorded",
         "orientation": "v",
         "showlegend": true,
         "type": "scatter",
         "x": [
          2017,
          2018,
          2019
         ],
         "xaxis": "x",
         "y": [
          0.1,
          0.11,
          0.12
         ],
         "yaxis": "y"
        },
        {
         "hovertemplate": "PTA=Dalatrafik<br>type=estimated<br>year=%{x}<br>market_share=%{y}<extra></extra>",
         "legendgroup": "Dalatrafik, estimated",
         "line": {
          "color": "#EF553B",
          "dash": "dot"
         },
         "mode": "lines",
         "name": "Dalatrafik, estimated",
         "orientation": "v",
         "showlegend": true,
         "type": "scatter",
         "x": [
          2017,
          2018,
          2019
         ],
         "xaxis": "x",
         "y": [
          0.144,
          0.14,
          0.13
         ],
         "yaxis": "y"
        },
        {
         "hovertemplate": "PTA=Din Tur<br>type=recorded<br>year=%{x}<br>market_share=%{y}<extra></extra>",
         "legendgroup": "Din Tur, recorded",
         "line": {
          "color": "#00cc96",
          "dash": "solid"
         },
         "mode": "lines",
         "name": "Din Tur, recorded",
         "orientation": "v",
         "showlegend": true,
         "type": "scatter",
         "x": [
          2017,
          2018,
          2019
         ],
         "xaxis": "x",
         "y": [
          0.11,
          0.12,
          0.12
         ],
         "yaxis": "y"
        },
        {
         "hovertemplate": "PTA=Din Tur<br>type=estimated<br>year=%{x}<br>market_share=%{y}<extra></extra>",
         "legendgroup": "Din Tur, estimated",
         "line": {
          "color": "#00cc96",
          "dash": "dot"
         },
         "mode": "lines",
         "name": "Din Tur, estimated",
         "orientation": "v",
         "showlegend": true,
         "type": "scatter",
         "x": [
          2017,
          2018,
          2019
         ],
         "xaxis": "x",
         "y": [
          0.149,
          0.146,
          0.133
         ],
         "yaxis": "y"
        },
        {
         "hovertemplate": "PTA=Hallandstrafiken<br>type=recorded<br>year=%{x}<br>market_share=%{y}<extra></extra>",
         "legendgroup": "Hallandstrafiken, recorded",
         "line": {
          "color": "#ab63fa",
          "dash": "solid"
         },
         "mode": "lines",
         "name": "Hallandstrafiken, recorded",
         "orientation": "v",
         "showlegend": true,
         "type": "scatter",
         "x": [
          2017,
          2018,
          2019
         ],
         "xaxis": "x",
         "y": [
          0.14,
          0.15,
          0.15
         ],
         "yaxis": "y"
        },
        {
         "hovertemplate": "PTA=Hallandstrafiken<br>type=estimated<br>year=%{x}<br>market_share=%{y}<extra></extra>",
         "legendgroup": "Hallandstrafiken, estimated",
         "line": {
          "color": "#ab63fa",
          "dash": "dot"
         },
         "mode": "lines",
         "name": "Hallandstrafiken, estimated",
         "orientation": "v",
         "showlegend": true,
         "type": "scatter",
         "x": [
          2017,
          2018,
          2019
         ],
         "xaxis": "x",
         "y": [
          0.152,
          0.15,
          0.139
         ],
         "yaxis": "y"
        },
        {
         "hovertemplate": "PTA=Jönköpings Länstrafik<br>type=recorded<br>year=%{x}<br>market_share=%{y}<extra></extra>",
         "legendgroup": "Jönköpings Länstrafik, recorded",
         "line": {
          "color": "#FFA15A",
          "dash": "solid"
         },
         "mode": "lines",
         "name": "Jönköpings Länstrafik, recorded",
         "orientation": "v",
         "showlegend": true,
         "type": "scatter",
         "x": [
          2017,
          2018,
          2019
         ],
         "xaxis": "x",
         "y": [
          0.17,
          0.16,
          0.16
         ],
         "yaxis": "y"
        },
        {
         "hovertemplate": "PTA=Jönköpings Länstrafik<br>type=estimated<br>year=%{x}<br>market_share=%{y}<extra></extra>",
         "legendgroup": "Jönköpings Länstrafik, estimated",
         "line": {
          "color": "#FFA15A",
          "dash": "dot"
         },
         "mode": "lines",
         "name": "Jönköpings Länstrafik, estimated",
         "orientation": "v",
         "showlegend": true,
         "type": "scatter",
         "x": [
          2017,
          2018,
          2019
         ],
         "xaxis": "x",
         "y": [
          0.15,
          0.148,
          0.138
         ],
         "yaxis": "y"
        },
        {
         "hovertemplate": "PTA=Kalmar Länstrafik<br>type=recorded<br>year=%{x}<br>market_share=%{y}<extra></extra>",
         "legendgroup": "Kalmar Länstrafik, recorded",
         "line": {
          "color": "#19d3f3",
          "dash": "solid"
         },
         "mode": "lines",
         "name": "Kalmar Länstrafik, recorded",
         "orientation": "v",
         "showlegend": true,
         "type": "scatter",
         "x": [
          2017,
          2018,
          2019
         ],
         "xaxis": "x",
         "y": [
          0.15,
          0.12,
          0.14
         ],
         "yaxis": "y"
        },
        {
         "hovertemplate": "PTA=Kalmar Länstrafik<br>type=estimated<br>year=%{x}<br>market_share=%{y}<extra></extra>",
         "legendgroup": "Kalmar Länstrafik, estimated",
         "line": {
          "color": "#19d3f3",
          "dash": "dot"
         },
         "mode": "lines",
         "name": "Kalmar Länstrafik, estimated",
         "orientation": "v",
         "showlegend": true,
         "type": "scatter",
         "x": [
          2017,
          2018,
          2019
         ],
         "xaxis": "x",
         "y": [
          0.148,
          0.146,
          0.135
         ],
         "yaxis": "y"
        },
        {
         "hovertemplate": "PTA=Karlstadsbuss<br>type=recorded<br>year=%{x}<br>market_share=%{y}<extra></extra>",
         "legendgroup": "Karlstadsbuss, recorded",
         "line": {
          "color": "#FF6692",
          "dash": "solid"
         },
         "mode": "lines",
         "name": "Karlstadsbuss, recorded",
         "orientation": "v",
         "showlegend": true,
         "type": "scatter",
         "x": [
          2017,
          2018,
          2019
         ],
         "xaxis": "x",
         "y": [
          0.21,
          0.24,
          0.24
         ],
         "yaxis": "y"
        },
        {
         "hovertemplate": "PTA=Karlstadsbuss<br>type=estimated<br>year=%{x}<br>market_share=%{y}<extra></extra>",
         "legendgroup": "Karlstadsbuss, estimated",
         "line": {
          "color": "#FF6692",
          "dash": "dot"
         },
         "mode": "lines",
         "name": "Karlstadsbuss, estimated",
         "orientation": "v",
         "showlegend": true,
         "type": "scatter",
         "x": [
          2017,
          2018,
          2019
         ],
         "xaxis": "x",
         "y": [
          0.226,
          0.226,
          0.217
         ],
         "yaxis": "y"
        },
        {
         "hovertemplate": "PTA=Kollektivtrafiken Gotland<br>type=recorded<br>year=%{x}<br>market_share=%{y}<extra></extra>",
         "legendgroup": "Kollektivtrafiken Gotland, recorded",
         "line": {
          "color": "#B6E880",
          "dash": "solid"
         },
         "mode": "lines",
         "name": "Kollektivtrafiken Gotland, recorded",
         "orientation": "v",
         "showlegend": true,
         "type": "scatter",
         "x": [
          2017,
          2018,
          2019
         ],
         "xaxis": "x",
         "y": [
          0.08,
          0.07,
          0.09
         ],
         "yaxis": "y"
        },
        {
         "hovertemplate": "PTA=Kollektivtrafiken Gotland<br>type=estimated<br>year=%{x}<br>market_share=%{y}<extra></extra>",
         "legendgroup": "Kollektivtrafiken Gotland, estimated",
         "line": {
          "color": "#B6E880",
          "dash": "dot"
         },
         "mode": "lines",
         "name": "Kollektivtrafiken Gotland, estimated",
         "orientation": "v",
         "showlegend": true,
         "type": "scatter",
         "x": [
          2017,
          2018,
          2019
         ],
         "xaxis": "x",
         "y": [
          0.145,
          0.142,
          0.127
         ],
         "yaxis": "y"
        },
        {
         "hovertemplate": "PTA=Luleå Lokaltrafik<br>type=recorded<br>year=%{x}<br>market_share=%{y}<extra></extra>",
         "legendgroup": "Luleå Lokaltrafik, recorded",
         "line": {
          "color": "#FF97FF",
          "dash": "solid"
         },
         "mode": "lines",
         "name": "Luleå Lokaltrafik, recorded",
         "orientation": "v",
         "showlegend": true,
         "type": "scatter",
         "x": [
          2017,
          2018,
          2019
         ],
         "xaxis": "x",
         "y": [
          0.22,
          0.22,
          0.21
         ],
         "yaxis": "y"
        },
        {
         "hovertemplate": "PTA=Luleå Lokaltrafik<br>type=estimated<br>year=%{x}<br>market_share=%{y}<extra></extra>",
         "legendgroup": "Luleå Lokaltrafik, estimated",
         "line": {
          "color": "#FF97FF",
          "dash": "dot"
         },
         "mode": "lines",
         "name": "Luleå Lokaltrafik, estimated",
         "orientation": "v",
         "showlegend": true,
         "type": "scatter",
         "x": [
          2017,
          2018,
          2019
         ],
         "xaxis": "x",
         "y": [
          0.216,
          0.211,
          0.203
         ],
         "yaxis": "y"
        },
        {
         "hovertemplate": "PTA=Länstrafiken Kronoberg<br>type=recorded<br>year=%{x}<br>market_share=%{y}<extra></extra>",
         "legendgroup": "Länstrafiken Kronoberg, recorded",
         "line": {
          "color": "#FECB52",
          "dash": "solid"
         },
         "mode": "lines",
         "name": "Länstrafiken Kronoberg, recorded",
         "orientation": "v",
         "showlegend": true,
         "type": "scatter",
         "x": [
          2017,
          2018,
          2019
         ],
         "xaxis": "x",
         "y": [
          0.14,
          0.15,
          0.14
         ],
         "yaxis": "y"
        },
        {
         "hovertemplate": "PTA=Länstrafiken Kronoberg<br>type=estimated<br>year=%{x}<br>market_share=%{y}<extra></extra>",
         "legendgroup": "Länstrafiken Kronoberg, estimated",
         "line": {
          "color": "#FECB52",
          "dash": "dot"
         },
         "mode": "lines",
         "name": "Länstrafiken Kronoberg, estimated",
         "orientation": "v",
         "showlegend": true,
         "type": "scatter",
         "x": [
          2017,
          2018,
          2019
         ],
         "xaxis": "x",
         "y": [
          0.152,
          0.149,
          0.137
         ],
         "yaxis": "y"
        },
        {
         "hovertemplate": "PTA=Länstrafiken Västerbotten<br>type=recorded<br>year=%{x}<br>market_share=%{y}<extra></extra>",
         "legendgroup": "Länstrafiken Västerbotten, recorded",
         "line": {
          "color": "#636efa",
          "dash": "solid"
         },
         "mode": "lines",
         "name": "Länstrafiken Västerbotten, recorded",
         "orientation": "v",
         "showlegend": true,
         "type": "scatter",
         "x": [
          2017,
          2018,
          2019
         ],
         "xaxis": "x",
         "y": [
          0.15,
          0.18,
          0.17
         ],
         "yaxis": "y"
        },
        {
         "hovertemplate": "PTA=Länstrafiken Västerbotten<br>type=estimated<br>year=%{x}<br>market_share=%{y}<extra></extra>",
         "legendgroup": "Länstrafiken Västerbotten, estimated",
         "line": {
          "color": "#636efa",
          "dash": "dot"
         },
         "mode": "lines",
         "name": "Länstrafiken Västerbotten, estimated",
         "orientation": "v",
         "showlegend": true,
         "type": "scatter",
         "x": [
          2017,
          2018,
          2019
         ],
         "xaxis": "x",
         "y": [
          0.146,
          0.143,
          0.135
         ],
         "yaxis": "y"
        },
        {
         "hovertemplate": "PTA=Länstrafiken i Jämtlands län<br>type=recorded<br>year=%{x}<br>market_share=%{y}<extra></extra>",
         "legendgroup": "Länstrafiken i Jämtlands län, recorded",
         "line": {
          "color": "#EF553B",
          "dash": "solid"
         },
         "mode": "lines",
         "name": "Länstrafiken i Jämtlands län, recorded",
         "orientation": "v",
         "showlegend": true,
         "type": "scatter",
         "x": [
          2017,
          2018,
          2019
         ],
         "xaxis": "x",
         "y": [
          0.12,
          0.13,
          0.14
         ],
         "yaxis": "y"
        },
        {
         "hovertemplate": "PTA=Länstrafiken i Jämtlands län<br>type=estimated<br>year=%{x}<br>market_share=%{y}<extra></extra>",
         "legendgroup": "Länstrafiken i Jämtlands län, estimated",
         "line": {
          "color": "#EF553B",
          "dash": "dot"
         },
         "mode": "lines",
         "name": "Länstrafiken i Jämtlands län, estimated",
         "orientation": "v",
         "showlegend": true,
         "type": "scatter",
         "x": [
          2017,
          2018,
          2019
         ],
         "xaxis": "x",
         "y": [
          0.145,
          0.139,
          0.131
         ],
         "yaxis": "y"
        },
        {
         "hovertemplate": "PTA=Länstrafiken i Norrbotten<br>type=recorded<br>year=%{x}<br>market_share=%{y}<extra></extra>",
         "legendgroup": "Länstrafiken i Norrbotten, recorded",
         "line": {
          "color": "#00cc96",
          "dash": "solid"
         },
         "mode": "lines",
         "name": "Länstrafiken i Norrbotten, recorded",
         "orientation": "v",
         "showlegend": true,
         "type": "scatter",
         "x": [
          2017,
          2018,
          2019
         ],
         "xaxis": "x",
         "y": [
          0.07,
          0.06,
          0.09
         ],
         "yaxis": "y"
        },
        {
         "hovertemplate": "PTA=Länstrafiken i Norrbotten<br>type=estimated<br>year=%{x}<br>market_share=%{y}<extra></extra>",
         "legendgroup": "Länstrafiken i Norrbotten, estimated",
         "line": {
          "color": "#00cc96",
          "dash": "dot"
         },
         "mode": "lines",
         "name": "Länstrafiken i Norrbotten, estimated",
         "orientation": "v",
         "showlegend": true,
         "type": "scatter",
         "x": [
          2017,
          2018,
          2019
         ],
         "xaxis": "x",
         "y": [
          0.153,
          0.153,
          0.137
         ],
         "yaxis": "y"
        },
        {
         "hovertemplate": "PTA=Länstrafiken Örebro<br>type=recorded<br>year=%{x}<br>market_share=%{y}<extra></extra>",
         "legendgroup": "Länstrafiken Örebro, recorded",
         "line": {
          "color": "#ab63fa",
          "dash": "solid"
         },
         "mode": "lines",
         "name": "Länstrafiken Örebro, recorded",
         "orientation": "v",
         "showlegend": true,
         "type": "scatter",
         "x": [
          2017,
          2018,
          2019
         ],
         "xaxis": "x",
         "y": [
          0.13,
          0.16,
          0.17
         ],
         "yaxis": "y"
        },
        {
         "hovertemplate": "PTA=Länstrafiken Örebro<br>type=estimated<br>year=%{x}<br>market_share=%{y}<extra></extra>",
         "legendgroup": "Länstrafiken Örebro, estimated",
         "line": {
          "color": "#ab63fa",
          "dash": "dot"
         },
         "mode": "lines",
         "name": "Länstrafiken Örebro, estimated",
         "orientation": "v",
         "showlegend": true,
         "type": "scatter",
         "x": [
          2017,
          2018,
          2019
         ],
         "xaxis": "x",
         "y": [
          0.152,
          0.15,
          0.134
         ],
         "yaxis": "y"
        },
        {
         "hovertemplate": "PTA=Nationellt snitt<br>type=recorded<br>year=%{x}<br>market_share=%{y}<extra></extra>",
         "legendgroup": "Nationellt snitt, recorded",
         "line": {
          "color": "#FFA15A",
          "dash": "solid"
         },
         "mode": "lines",
         "name": "Nationellt snitt, recorded",
         "orientation": "v",
         "showlegend": true,
         "type": "scatter",
         "x": [
          2017,
          2018,
          2019
         ],
         "xaxis": "x",
         "y": [
          0.27,
          0.31,
          0.31
         ],
         "yaxis": "y"
        },
        {
         "hovertemplate": "PTA=Nationellt snitt<br>type=estimated<br>year=%{x}<br>market_share=%{y}<extra></extra>",
         "legendgroup": "Nationellt snitt, estimated",
         "line": {
          "color": "#FFA15A",
          "dash": "dot"
         },
         "mode": "lines",
         "name": "Nationellt snitt, estimated",
         "orientation": "v",
         "showlegend": true,
         "type": "scatter",
         "x": [
          2017,
          2018,
          2019
         ],
         "xaxis": "x",
         "y": [
          0.295,
          0.291,
          0.284
         ],
         "yaxis": "y"
        },
        {
         "hovertemplate": "PTA=SL<br>type=recorded<br>year=%{x}<br>market_share=%{y}<extra></extra>",
         "legendgroup": "SL, recorded",
         "line": {
          "color": "#19d3f3",
          "dash": "solid"
         },
         "mode": "lines",
         "name": "SL, recorded",
         "orientation": "v",
         "showlegend": true,
         "type": "scatter",
         "x": [
          2017,
          2018,
          2019
         ],
         "xaxis": "x",
         "y": [
          0.56,
          0.57,
          0.56
         ],
         "yaxis": "y"
        },
        {
         "hovertemplate": "PTA=SL<br>type=estimated<br>year=%{x}<br>market_share=%{y}<extra></extra>",
         "legendgroup": "SL, estimated",
         "line": {
          "color": "#19d3f3",
          "dash": "dot"
         },
         "mode": "lines",
         "name": "SL, estimated",
         "orientation": "v",
         "showlegend": true,
         "type": "scatter",
         "x": [
          2017,
          2018,
          2019
         ],
         "xaxis": "x",
         "y": [
          0.555,
          0.553,
          0.56
         ],
         "yaxis": "y"
        },
        {
         "hovertemplate": "PTA=Skånetrafiken<br>type=recorded<br>year=%{x}<br>market_share=%{y}<extra></extra>",
         "legendgroup": "Skånetrafiken, recorded",
         "line": {
          "color": "#FF6692",
          "dash": "solid"
         },
         "mode": "lines",
         "name": "Skånetrafiken, recorded",
         "orientation": "v",
         "showlegend": true,
         "type": "scatter",
         "x": [
          2017,
          2018,
          2019
         ],
         "xaxis": "x",
         "y": [
          0.32,
          0.3,
          0.32
         ],
         "yaxis": "y"
        },
        {
         "hovertemplate": "PTA=Skånetrafiken<br>type=estimated<br>year=%{x}<br>market_share=%{y}<extra></extra>",
         "legendgroup": "Skånetrafiken, estimated",
         "line": {
          "color": "#FF6692",
          "dash": "dot"
         },
         "mode": "lines",
         "name": "Skånetrafiken, estimated",
         "orientation": "v",
         "showlegend": true,
         "type": "scatter",
         "x": [
          2017,
          2018,
          2019
         ],
         "xaxis": "x",
         "y": [
          0.31,
          0.306,
          0.303
         ],
         "yaxis": "y"
        },
        {
         "hovertemplate": "PTA=UL<br>type=recorded<br>year=%{x}<br>market_share=%{y}<extra></extra>",
         "legendgroup": "UL, recorded",
         "line": {
          "color": "#B6E880",
          "dash": "solid"
         },
         "mode": "lines",
         "name": "UL, recorded",
         "orientation": "v",
         "showlegend": true,
         "type": "scatter",
         "x": [
          2017,
          2018,
          2019
         ],
         "xaxis": "x",
         "y": [
          0.29,
          0.31,
          0.33
         ],
         "yaxis": "y"
        },
        {
         "hovertemplate": "PTA=UL<br>type=estimated<br>year=%{x}<br>market_share=%{y}<extra></extra>",
         "legendgroup": "UL, estimated",
         "line": {
          "color": "#B6E880",
          "dash": "dot"
         },
         "mode": "lines",
         "name": "UL, estimated",
         "orientation": "v",
         "showlegend": true,
         "type": "scatter",
         "x": [
          2017,
          2018,
          2019
         ],
         "xaxis": "x",
         "y": [
          0.308,
          0.303,
          0.298
         ],
         "yaxis": "y"
        },
        {
         "hovertemplate": "PTA=VL<br>type=recorded<br>year=%{x}<br>market_share=%{y}<extra></extra>",
         "legendgroup": "VL, recorded",
         "line": {
          "color": "#FF97FF",
          "dash": "solid"
         },
         "mode": "lines",
         "name": "VL, recorded",
         "orientation": "v",
         "showlegend": true,
         "type": "scatter",
         "x": [
          2017,
          2018,
          2019
         ],
         "xaxis": "x",
         "y": [
          0.17,
          0.19,
          0.16
         ],
         "yaxis": "y"
        },
        {
         "hovertemplate": "PTA=VL<br>type=estimated<br>year=%{x}<br>market_share=%{y}<extra></extra>",
         "legendgroup": "VL, estimated",
         "line": {
          "color": "#FF97FF",
          "dash": "dot"
         },
         "mode": "lines",
         "name": "VL, estimated",
         "orientation": "v",
         "showlegend": true,
         "type": "scatter",
         "x": [
          2017,
          2018,
          2019
         ],
         "xaxis": "x",
         "y": [
          0.15,
          0.15,
          0.139
         ],
         "yaxis": "y"
        },
        {
         "hovertemplate": "PTA=Värmlandstrafik<br>type=recorded<br>year=%{x}<br>market_share=%{y}<extra></extra>",
         "legendgroup": "Värmlandstrafik, recorded",
         "line": {
          "color": "#FECB52",
          "dash": "solid"
         },
         "mode": "lines",
         "name": "Värmlandstrafik, recorded",
         "orientation": "v",
         "showlegend": true,
         "type": "scatter",
         "x": [
          2017,
          2018,
          2019
         ],
         "xaxis": "x",
         "y": [
          0.1,
          0.1,
          0.12
         ],
         "yaxis": "y"
        },
        {
         "hovertemplate": "PTA=Värmlandstrafik<br>type=estimated<br>year=%{x}<br>market_share=%{y}<extra></extra>",
         "legendgroup": "Värmlandstrafik, estimated",
         "line": {
          "color": "#FECB52",
          "dash": "dot"
         },
         "mode": "lines",
         "name": "Värmlandstrafik, estimated",
         "orientation": "v",
         "showlegend": true,
         "type": "scatter",
         "x": [
          2017,
          2018,
          2019
         ],
         "xaxis": "x",
         "y": [
          0.153,
          0.151,
          0.137
         ],
         "yaxis": "y"
        },
        {
         "hovertemplate": "PTA=Västtrafik<br>type=recorded<br>year=%{x}<br>market_share=%{y}<extra></extra>",
         "legendgroup": "Västtrafik, recorded",
         "line": {
          "color": "#636efa",
          "dash": "solid"
         },
         "mode": "lines",
         "name": "Västtrafik, recorded",
         "orientation": "v",
         "showlegend": true,
         "type": "scatter",
         "x": [
          2017,
          2018,
          2019
         ],
         "xaxis": "x",
         "y": [
          0.32,
          0.33,
          0.32
         ],
         "yaxis": "y"
        },
        {
         "hovertemplate": "PTA=Västtrafik<br>type=estimated<br>year=%{x}<br>market_share=%{y}<extra></extra>",
         "legendgroup": "Västtrafik, estimated",
         "line": {
          "color": "#636efa",
          "dash": "dot"
         },
         "mode": "lines",
         "name": "Västtrafik, estimated",
         "orientation": "v",
         "showlegend": true,
         "type": "scatter",
         "x": [
          2017,
          2018,
          2019
         ],
         "xaxis": "x",
         "y": [
          0.32,
          0.317,
          0.313
         ],
         "yaxis": "y"
        },
        {
         "hovertemplate": "PTA=X-Trafik<br>type=recorded<br>year=%{x}<br>market_share=%{y}<extra></extra>",
         "legendgroup": "X-Trafik, recorded",
         "line": {
          "color": "#EF553B",
          "dash": "solid"
         },
         "mode": "lines",
         "name": "X-Trafik, recorded",
         "orientation": "v",
         "showlegend": true,
         "type": "scatter",
         "x": [
          2017,
          2018,
          2019
         ],
         "xaxis": "x",
         "y": [
          0.15,
          0.16,
          0.17
         ],
         "yaxis": "y"
        },
        {
         "hovertemplate": "PTA=X-Trafik<br>type=estimated<br>year=%{x}<br>market_share=%{y}<extra></extra>",
         "legendgroup": "X-Trafik, estimated",
         "line": {
          "color": "#EF553B",
          "dash": "dot"
         },
         "mode": "lines",
         "name": "X-Trafik, estimated",
         "orientation": "v",
         "showlegend": true,
         "type": "scatter",
         "x": [
          2017,
          2018,
          2019
         ],
         "xaxis": "x",
         "y": [
          0.155,
          0.15,
          0.141
         ],
         "yaxis": "y"
        },
        {
         "hovertemplate": "PTA=Östgötatrafiken<br>type=recorded<br>year=%{x}<br>market_share=%{y}<extra></extra>",
         "legendgroup": "Östgötatrafiken, recorded",
         "line": {
          "color": "#00cc96",
          "dash": "solid"
         },
         "mode": "lines",
         "name": "Östgötatrafiken, recorded",
         "orientation": "v",
         "showlegend": true,
         "type": "scatter",
         "x": [
          2017,
          2018,
          2019
         ],
         "xaxis": "x",
         "y": [
          0.23,
          0.21,
          0.19
         ],
         "yaxis": "y"
        },
        {
         "hovertemplate": "PTA=Östgötatrafiken<br>type=estimated<br>year=%{x}<br>market_share=%{y}<extra></extra>",
         "legendgroup": "Östgötatrafiken, estimated",
         "line": {
          "color": "#00cc96",
          "dash": "dot"
         },
         "mode": "lines",
         "name": "Östgötatrafiken, estimated",
         "orientation": "v",
         "showlegend": true,
         "type": "scatter",
         "x": [
          2017,
          2018,
          2019
         ],
         "xaxis": "x",
         "y": [
          0.206,
          0.206,
          0.198
         ],
         "yaxis": "y"
        }
       ],
       "layout": {
        "autosize": true,
        "legend": {
         "title": {
          "text": "PTA, type"
         },
         "tracegroupgap": 0
        },
        "template": {
         "data": {
          "bar": [
           {
            "error_x": {
             "color": "#2a3f5f"
            },
            "error_y": {
             "color": "#2a3f5f"
            },
            "marker": {
             "line": {
              "color": "#E5ECF6",
              "width": 0.5
             }
            },
            "type": "bar"
           }
          ],
          "barpolar": [
           {
            "marker": {
             "line": {
              "color": "#E5ECF6",
              "width": 0.5
             }
            },
            "type": "barpolar"
           }
          ],
          "carpet": [
           {
            "aaxis": {
             "endlinecolor": "#2a3f5f",
             "gridcolor": "white",
             "linecolor": "white",
             "minorgridcolor": "white",
             "startlinecolor": "#2a3f5f"
            },
            "baxis": {
             "endlinecolor": "#2a3f5f",
             "gridcolor": "white",
             "linecolor": "white",
             "minorgridcolor": "white",
             "startlinecolor": "#2a3f5f"
            },
            "type": "carpet"
           }
          ],
          "choropleth": [
           {
            "colorbar": {
             "outlinewidth": 0,
             "ticks": ""
            },
            "type": "choropleth"
           }
          ],
          "contour": [
           {
            "colorbar": {
             "outlinewidth": 0,
             "ticks": ""
            },
            "colorscale": [
             [
              0,
              "#0d0887"
             ],
             [
              0.1111111111111111,
              "#46039f"
             ],
             [
              0.2222222222222222,
              "#7201a8"
             ],
             [
              0.3333333333333333,
              "#9c179e"
             ],
             [
              0.4444444444444444,
              "#bd3786"
             ],
             [
              0.5555555555555556,
              "#d8576b"
             ],
             [
              0.6666666666666666,
              "#ed7953"
             ],
             [
              0.7777777777777778,
              "#fb9f3a"
             ],
             [
              0.8888888888888888,
              "#fdca26"
             ],
             [
              1,
              "#f0f921"
             ]
            ],
            "type": "contour"
           }
          ],
          "contourcarpet": [
           {
            "colorbar": {
             "outlinewidth": 0,
             "ticks": ""
            },
            "type": "contourcarpet"
           }
          ],
          "heatmap": [
           {
            "colorbar": {
             "outlinewidth": 0,
             "ticks": ""
            },
            "colorscale": [
             [
              0,
              "#0d0887"
             ],
             [
              0.1111111111111111,
              "#46039f"
             ],
             [
              0.2222222222222222,
              "#7201a8"
             ],
             [
              0.3333333333333333,
              "#9c179e"
             ],
             [
              0.4444444444444444,
              "#bd3786"
             ],
             [
              0.5555555555555556,
              "#d8576b"
             ],
             [
              0.6666666666666666,
              "#ed7953"
             ],
             [
              0.7777777777777778,
              "#fb9f3a"
             ],
             [
              0.8888888888888888,
              "#fdca26"
             ],
             [
              1,
              "#f0f921"
             ]
            ],
            "type": "heatmap"
           }
          ],
          "heatmapgl": [
           {
            "colorbar": {
             "outlinewidth": 0,
             "ticks": ""
            },
            "colorscale": [
             [
              0,
              "#0d0887"
             ],
             [
              0.1111111111111111,
              "#46039f"
             ],
             [
              0.2222222222222222,
              "#7201a8"
             ],
             [
              0.3333333333333333,
              "#9c179e"
             ],
             [
              0.4444444444444444,
              "#bd3786"
             ],
             [
              0.5555555555555556,
              "#d8576b"
             ],
             [
              0.6666666666666666,
              "#ed7953"
             ],
             [
              0.7777777777777778,
              "#fb9f3a"
             ],
             [
              0.8888888888888888,
              "#fdca26"
             ],
             [
              1,
              "#f0f921"
             ]
            ],
            "type": "heatmapgl"
           }
          ],
          "histogram": [
           {
            "marker": {
             "colorbar": {
              "outlinewidth": 0,
              "ticks": ""
             }
            },
            "type": "histogram"
           }
          ],
          "histogram2d": [
           {
            "colorbar": {
             "outlinewidth": 0,
             "ticks": ""
            },
            "colorscale": [
             [
              0,
              "#0d0887"
             ],
             [
              0.1111111111111111,
              "#46039f"
             ],
             [
              0.2222222222222222,
              "#7201a8"
             ],
             [
              0.3333333333333333,
              "#9c179e"
             ],
             [
              0.4444444444444444,
              "#bd3786"
             ],
             [
              0.5555555555555556,
              "#d8576b"
             ],
             [
              0.6666666666666666,
              "#ed7953"
             ],
             [
              0.7777777777777778,
              "#fb9f3a"
             ],
             [
              0.8888888888888888,
              "#fdca26"
             ],
             [
              1,
              "#f0f921"
             ]
            ],
            "type": "histogram2d"
           }
          ],
          "histogram2dcontour": [
           {
            "colorbar": {
             "outlinewidth": 0,
             "ticks": ""
            },
            "colorscale": [
             [
              0,
              "#0d0887"
             ],
             [
              0.1111111111111111,
              "#46039f"
             ],
             [
              0.2222222222222222,
              "#7201a8"
             ],
             [
              0.3333333333333333,
              "#9c179e"
             ],
             [
              0.4444444444444444,
              "#bd3786"
             ],
             [
              0.5555555555555556,
              "#d8576b"
             ],
             [
              0.6666666666666666,
              "#ed7953"
             ],
             [
              0.7777777777777778,
              "#fb9f3a"
             ],
             [
              0.8888888888888888,
              "#fdca26"
             ],
             [
              1,
              "#f0f921"
             ]
            ],
            "type": "histogram2dcontour"
           }
          ],
          "mesh3d": [
           {
            "colorbar": {
             "outlinewidth": 0,
             "ticks": ""
            },
            "type": "mesh3d"
           }
          ],
          "parcoords": [
           {
            "line": {
             "colorbar": {
              "outlinewidth": 0,
              "ticks": ""
             }
            },
            "type": "parcoords"
           }
          ],
          "pie": [
           {
            "automargin": true,
            "type": "pie"
           }
          ],
          "scatter": [
           {
            "marker": {
             "colorbar": {
              "outlinewidth": 0,
              "ticks": ""
             }
            },
            "type": "scatter"
           }
          ],
          "scatter3d": [
           {
            "line": {
             "colorbar": {
              "outlinewidth": 0,
              "ticks": ""
             }
            },
            "marker": {
             "colorbar": {
              "outlinewidth": 0,
              "ticks": ""
             }
            },
            "type": "scatter3d"
           }
          ],
          "scattercarpet": [
           {
            "marker": {
             "colorbar": {
              "outlinewidth": 0,
              "ticks": ""
             }
            },
            "type": "scattercarpet"
           }
          ],
          "scattergeo": [
           {
            "marker": {
             "colorbar": {
              "outlinewidth": 0,
              "ticks": ""
             }
            },
            "type": "scattergeo"
           }
          ],
          "scattergl": [
           {
            "marker": {
             "colorbar": {
              "outlinewidth": 0,
              "ticks": ""
             }
            },
            "type": "scattergl"
           }
          ],
          "scattermapbox": [
           {
            "marker": {
             "colorbar": {
              "outlinewidth": 0,
              "ticks": ""
             }
            },
            "type": "scattermapbox"
           }
          ],
          "scatterpolar": [
           {
            "marker": {
             "colorbar": {
              "outlinewidth": 0,
              "ticks": ""
             }
            },
            "type": "scatterpolar"
           }
          ],
          "scatterpolargl": [
           {
            "marker": {
             "colorbar": {
              "outlinewidth": 0,
              "ticks": ""
             }
            },
            "type": "scatterpolargl"
           }
          ],
          "scatterternary": [
           {
            "marker": {
             "colorbar": {
              "outlinewidth": 0,
              "ticks": ""
             }
            },
            "type": "scatterternary"
           }
          ],
          "surface": [
           {
            "colorbar": {
             "outlinewidth": 0,
             "ticks": ""
            },
            "colorscale": [
             [
              0,
              "#0d0887"
             ],
             [
              0.1111111111111111,
              "#46039f"
             ],
             [
              0.2222222222222222,
              "#7201a8"
             ],
             [
              0.3333333333333333,
              "#9c179e"
             ],
             [
              0.4444444444444444,
              "#bd3786"
             ],
             [
              0.5555555555555556,
              "#d8576b"
             ],
             [
              0.6666666666666666,
              "#ed7953"
             ],
             [
              0.7777777777777778,
              "#fb9f3a"
             ],
             [
              0.8888888888888888,
              "#fdca26"
             ],
             [
              1,
              "#f0f921"
             ]
            ],
            "type": "surface"
           }
          ],
          "table": [
           {
            "cells": {
             "fill": {
              "color": "#EBF0F8"
             },
             "line": {
              "color": "white"
             }
            },
            "header": {
             "fill": {
              "color": "#C8D4E3"
             },
             "line": {
              "color": "white"
             }
            },
            "type": "table"
           }
          ]
         },
         "layout": {
          "annotationdefaults": {
           "arrowcolor": "#2a3f5f",
           "arrowhead": 0,
           "arrowwidth": 1
          },
          "autotypenumbers": "strict",
          "coloraxis": {
           "colorbar": {
            "outlinewidth": 0,
            "ticks": ""
           }
          },
          "colorscale": {
           "diverging": [
            [
             0,
             "#8e0152"
            ],
            [
             0.1,
             "#c51b7d"
            ],
            [
             0.2,
             "#de77ae"
            ],
            [
             0.3,
             "#f1b6da"
            ],
            [
             0.4,
             "#fde0ef"
            ],
            [
             0.5,
             "#f7f7f7"
            ],
            [
             0.6,
             "#e6f5d0"
            ],
            [
             0.7,
             "#b8e186"
            ],
            [
             0.8,
             "#7fbc41"
            ],
            [
             0.9,
             "#4d9221"
            ],
            [
             1,
             "#276419"
            ]
           ],
           "sequential": [
            [
             0,
             "#0d0887"
            ],
            [
             0.1111111111111111,
             "#46039f"
            ],
            [
             0.2222222222222222,
             "#7201a8"
            ],
            [
             0.3333333333333333,
             "#9c179e"
            ],
            [
             0.4444444444444444,
             "#bd3786"
            ],
            [
             0.5555555555555556,
             "#d8576b"
            ],
            [
             0.6666666666666666,
             "#ed7953"
            ],
            [
             0.7777777777777778,
             "#fb9f3a"
            ],
            [
             0.8888888888888888,
             "#fdca26"
            ],
            [
             1,
             "#f0f921"
            ]
           ],
           "sequentialminus": [
            [
             0,
             "#0d0887"
            ],
            [
             0.1111111111111111,
             "#46039f"
            ],
            [
             0.2222222222222222,
             "#7201a8"
            ],
            [
             0.3333333333333333,
             "#9c179e"
            ],
            [
             0.4444444444444444,
             "#bd3786"
            ],
            [
             0.5555555555555556,
             "#d8576b"
            ],
            [
             0.6666666666666666,
             "#ed7953"
            ],
            [
             0.7777777777777778,
             "#fb9f3a"
            ],
            [
             0.8888888888888888,
             "#fdca26"
            ],
            [
             1,
             "#f0f921"
            ]
           ]
          },
          "colorway": [
           "#636efa",
           "#EF553B",
           "#00cc96",
           "#ab63fa",
           "#FFA15A",
           "#19d3f3",
           "#FF6692",
           "#B6E880",
           "#FF97FF",
           "#FECB52"
          ],
          "font": {
           "color": "#2a3f5f"
          },
          "geo": {
           "bgcolor": "white",
           "lakecolor": "white",
           "landcolor": "#E5ECF6",
           "showlakes": true,
           "showland": true,
           "subunitcolor": "white"
          },
          "hoverlabel": {
           "align": "left"
          },
          "hovermode": "closest",
          "mapbox": {
           "style": "light"
          },
          "paper_bgcolor": "white",
          "plot_bgcolor": "#E5ECF6",
          "polar": {
           "angularaxis": {
            "gridcolor": "white",
            "linecolor": "white",
            "ticks": ""
           },
           "bgcolor": "#E5ECF6",
           "radialaxis": {
            "gridcolor": "white",
            "linecolor": "white",
            "ticks": ""
           }
          },
          "scene": {
           "xaxis": {
            "backgroundcolor": "#E5ECF6",
            "gridcolor": "white",
            "gridwidth": 2,
            "linecolor": "white",
            "showbackground": true,
            "ticks": "",
            "zerolinecolor": "white"
           },
           "yaxis": {
            "backgroundcolor": "#E5ECF6",
            "gridcolor": "white",
            "gridwidth": 2,
            "linecolor": "white",
            "showbackground": true,
            "ticks": "",
            "zerolinecolor": "white"
           },
           "zaxis": {
            "backgroundcolor": "#E5ECF6",
            "gridcolor": "white",
            "gridwidth": 2,
            "linecolor": "white",
            "showbackground": true,
            "ticks": "",
            "zerolinecolor": "white"
           }
          },
          "shapedefaults": {
           "line": {
            "color": "#2a3f5f"
           }
          },
          "ternary": {
           "aaxis": {
            "gridcolor": "white",
            "linecolor": "white",
            "ticks": ""
           },
           "baxis": {
            "gridcolor": "white",
            "linecolor": "white",
            "ticks": ""
           },
           "bgcolor": "#E5ECF6",
           "caxis": {
            "gridcolor": "white",
            "linecolor": "white",
            "ticks": ""
           }
          },
          "title": {
           "x": 0.05
          },
          "xaxis": {
           "automargin": true,
           "gridcolor": "white",
           "linecolor": "white",
           "ticks": "",
           "title": {
            "standoff": 15
           },
           "zerolinecolor": "white",
           "zerolinewidth": 2
          },
          "yaxis": {
           "automargin": true,
           "gridcolor": "white",
           "linecolor": "white",
           "ticks": "",
           "title": {
            "standoff": 15
           },
           "zerolinecolor": "white",
           "zerolinewidth": 2
          }
         }
        },
        "title": {
         "text": "Market share for each PTA"
        },
        "xaxis": {
         "anchor": "y",
         "autorange": true,
         "domain": [
          0,
          1
         ],
         "range": [
          2017,
          2019
         ],
         "title": {
          "text": "year"
         },
         "type": "linear"
        },
        "yaxis": {
         "anchor": "x",
         "autorange": true,
         "domain": [
          0,
          1
         ],
         "range": [
          0.03166666666666666,
          0.5983333333333333
         ],
         "title": {
          "text": "market_share"
         },
         "type": "linear"
        }
       }
      },
      "image/png": "[encoded data removed]",
      "text/html": [
       "<div>                            <div id=\"5656b1ac-b63c-4efe-85df-b8c04ea9753e\" class=\"plotly-graph-div\" style=\"height:525px; width:100%;\"></div>            <script type=\"text/javascript\">                require([\"plotly\"], function(Plotly) {                    window.PLOTLYENV=window.PLOTLYENV || {};                                    if (document.getElementById(\"5656b1ac-b63c-4efe-85df-b8c04ea9753e\")) {                    Plotly.newPlot(                        \"5656b1ac-b63c-4efe-85df-b8c04ea9753e\",                        [{\"hovertemplate\": \"PTA=Blekingetrafiken<br>type=recorded<br>year=%{x}<br>market_share=%{y}<extra></extra>\", \"legendgroup\": \"Blekingetrafiken, recorded\", \"line\": {\"color\": \"#636efa\", \"dash\": \"solid\"}, \"mode\": \"lines\", \"name\": \"Blekingetrafiken, recorded\", \"orientation\": \"v\", \"showlegend\": true, \"type\": \"scatter\", \"x\": [2017, 2018, 2019], \"xaxis\": \"x\", \"y\": [0.16, 0.16, 0.2], \"yaxis\": \"y\"}, {\"hovertemplate\": \"PTA=Blekingetrafiken<br>type=estimated<br>year=%{x}<br>market_share=%{y}<extra></extra>\", \"legendgroup\": \"Blekingetrafiken, estimated\", \"line\": {\"color\": \"#636efa\", \"dash\": \"dot\"}, \"mode\": \"lines\", \"name\": \"Blekingetrafiken, estimated\", \"orientation\": \"v\", \"showlegend\": true, \"type\": \"scatter\", \"x\": [2017, 2018, 2019], \"xaxis\": \"x\", \"y\": [0.16, 0.155, 0.145], \"yaxis\": \"y\"}, {\"hovertemplate\": \"PTA=Dalatrafik<br>type=recorded<br>year=%{x}<br>market_share=%{y}<extra></extra>\", \"legendgroup\": \"Dalatrafik, recorded\", \"line\": {\"color\": \"#EF553B\", \"dash\": \"solid\"}, \"mode\": \"lines\", \"name\": \"Dalatrafik, recorded\", \"orientation\": \"v\", \"showlegend\": true, \"type\": \"scatter\", \"x\": [2017, 2018, 2019], \"xaxis\": \"x\", \"y\": [0.1, 0.11, 0.12], \"yaxis\": \"y\"}, {\"hovertemplate\": \"PTA=Dalatrafik<br>type=estimated<br>year=%{x}<br>market_share=%{y}<extra></extra>\", \"legendgroup\": \"Dalatrafik, estimated\", \"line\": {\"color\": \"#EF553B\", \"dash\": \"dot\"}, \"mode\": \"lines\", \"name\": \"Dalatrafik, estimated\", \"orientation\": \"v\", \"showlegend\": true, \"type\": \"scatter\", \"x\": [2017, 2018, 2019], \"xaxis\": \"x\", \"y\": [0.144, 0.14, 0.13], \"yaxis\": \"y\"}, {\"hovertemplate\": \"PTA=Din Tur<br>type=recorded<br>year=%{x}<br>market_share=%{y}<extra></extra>\", \"legendgroup\": \"Din Tur, recorded\", \"line\": {\"color\": \"#00cc96\", \"dash\": \"solid\"}, \"mode\": \"lines\", \"name\": \"Din Tur, recorded\", \"orientation\": \"v\", \"showlegend\": true, \"type\": \"scatter\", \"x\": [2017, 2018, 2019], \"xaxis\": \"x\", \"y\": [0.11, 0.12, 0.12], \"yaxis\": \"y\"}, {\"hovertemplate\": \"PTA=Din Tur<br>type=estimated<br>year=%{x}<br>market_share=%{y}<extra></extra>\", \"legendgroup\": \"Din Tur, estimated\", \"line\": {\"color\": \"#00cc96\", \"dash\": \"dot\"}, \"mode\": \"lines\", \"name\": \"Din Tur, estimated\", \"orientation\": \"v\", \"showlegend\": true, \"type\": \"scatter\", \"x\": [2017, 2018, 2019], \"xaxis\": \"x\", \"y\": [0.149, 0.146, 0.133], \"yaxis\": \"y\"}, {\"hovertemplate\": \"PTA=Hallandstrafiken<br>type=recorded<br>year=%{x}<br>market_share=%{y}<extra></extra>\", \"legendgroup\": \"Hallandstrafiken, recorded\", \"line\": {\"color\": \"#ab63fa\", \"dash\": \"solid\"}, \"mode\": \"lines\", \"name\": \"Hallandstrafiken, recorded\", \"orientation\": \"v\", \"showlegend\": true, \"type\": \"scatter\", \"x\": [2017, 2018, 2019], \"xaxis\": \"x\", \"y\": [0.14, 0.15, 0.15], \"yaxis\": \"y\"}, {\"hovertemplate\": \"PTA=Hallandstrafiken<br>type=estimated<br>year=%{x}<br>market_share=%{y}<extra></extra>\", \"legendgroup\": \"Hallandstrafiken, estimated\", \"line\": {\"color\": \"#ab63fa\", \"dash\": \"dot\"}, \"mode\": \"lines\", \"name\": \"Hallandstrafiken, estimated\", \"orientation\": \"v\", \"showlegend\": true, \"type\": \"scatter\", \"x\": [2017, 2018, 2019], \"xaxis\": \"x\", \"y\": [0.152, 0.15, 0.139], \"yaxis\": \"y\"}, {\"hovertemplate\": \"PTA=J\\u00f6nk\\u00f6pings L\\u00e4nstrafik<br>type=recorded<br>year=%{x}<br>market_share=%{y}<extra></extra>\", \"legendgroup\": \"J\\u00f6nk\\u00f6pings L\\u00e4nstrafik, recorded\", \"line\": {\"color\": \"#FFA15A\", \"dash\": \"solid\"}, \"mode\": \"lines\", \"name\": \"J\\u00f6nk\\u00f6pings L\\u00e4nstrafik, recorded\", \"orientation\": \"v\", \"showlegend\": true, \"type\": \"scatter\", \"x\": [2017, 2018, 2019], \"xaxis\": \"x\", \"y\": [0.17, 0.16, 0.16], \"yaxis\": \"y\"}, {\"hovertemplate\": \"PTA=J\\u00f6nk\\u00f6pings L\\u00e4nstrafik<br>type=estimated<br>year=%{x}<br>market_share=%{y}<extra></extra>\", \"legendgroup\": \"J\\u00f6nk\\u00f6pings L\\u00e4nstrafik, estimated\", \"line\": {\"color\": \"#FFA15A\", \"dash\": \"dot\"}, \"mode\": \"lines\", \"name\": \"J\\u00f6nk\\u00f6pings L\\u00e4nstrafik, estimated\", \"orientation\": \"v\", \"showlegend\": true, \"type\": \"scatter\", \"x\": [2017, 2018, 2019], \"xaxis\": \"x\", \"y\": [0.15, 0.148, 0.138], \"yaxis\": \"y\"}, {\"hovertemplate\": \"PTA=Kalmar L\\u00e4nstrafik<br>type=recorded<br>year=%{x}<br>market_share=%{y}<extra></extra>\", \"legendgroup\": \"Kalmar L\\u00e4nstrafik, recorded\", \"line\": {\"color\": \"#19d3f3\", \"dash\": \"solid\"}, \"mode\": \"lines\", \"name\": \"Kalmar L\\u00e4nstrafik, recorded\", \"orientation\": \"v\", \"showlegend\": true, \"type\": \"scatter\", \"x\": [2017, 2018, 2019], \"xaxis\": \"x\", \"y\": [0.15, 0.12, 0.14], \"yaxis\": \"y\"}, {\"hovertemplate\": \"PTA=Kalmar L\\u00e4nstrafik<br>type=estimated<br>year=%{x}<br>market_share=%{y}<extra></extra>\", \"legendgroup\": \"Kalmar L\\u00e4nstrafik, estimated\", \"line\": {\"color\": \"#19d3f3\", \"dash\": \"dot\"}, \"mode\": \"lines\", \"name\": \"Kalmar L\\u00e4nstrafik, estimated\", \"orientation\": \"v\", \"showlegend\": true, \"type\": \"scatter\", \"x\": [2017, 2018, 2019], \"xaxis\": \"x\", \"y\": [0.148, 0.146, 0.135], \"yaxis\": \"y\"}, {\"hovertemplate\": \"PTA=Karlstadsbuss<br>type=recorded<br>year=%{x}<br>market_share=%{y}<extra></extra>\", \"legendgroup\": \"Karlstadsbuss, recorded\", \"line\": {\"color\": \"#FF6692\", \"dash\": \"solid\"}, \"mode\": \"lines\", \"name\": \"Karlstadsbuss, recorded\", \"orientation\": \"v\", \"showlegend\": true, \"type\": \"scatter\", \"x\": [2017, 2018, 2019], \"xaxis\": \"x\", \"y\": [0.21, 0.24, 0.24], \"yaxis\": \"y\"}, {\"hovertemplate\": \"PTA=Karlstadsbuss<br>type=estimated<br>year=%{x}<br>market_share=%{y}<extra></extra>\", \"legendgroup\": \"Karlstadsbuss, estimated\", \"line\": {\"color\": \"#FF6692\", \"dash\": \"dot\"}, \"mode\": \"lines\", \"name\": \"Karlstadsbuss, estimated\", \"orientation\": \"v\", \"showlegend\": true, \"type\": \"scatter\", \"x\": [2017, 2018, 2019], \"xaxis\": \"x\", \"y\": [0.226, 0.226, 0.217], \"yaxis\": \"y\"}, {\"hovertemplate\": \"PTA=Kollektivtrafiken Gotland<br>type=recorded<br>year=%{x}<br>market_share=%{y}<extra></extra>\", \"legendgroup\": \"Kollektivtrafiken Gotland, recorded\", \"line\": {\"color\": \"#B6E880\", \"dash\": \"solid\"}, \"mode\": \"lines\", \"name\": \"Kollektivtrafiken Gotland, recorded\", \"orientation\": \"v\", \"showlegend\": true, \"type\": \"scatter\", \"x\": [2017, 2018, 2019], \"xaxis\": \"x\", \"y\": [0.08, 0.07, 0.09], \"yaxis\": \"y\"}, {\"hovertemplate\": \"PTA=Kollektivtrafiken Gotland<br>type=estimated<br>year=%{x}<br>market_share=%{y}<extra></extra>\", \"legendgroup\": \"Kollektivtrafiken Gotland, estimated\", \"line\": {\"color\": \"#B6E880\", \"dash\": \"dot\"}, \"mode\": \"lines\", \"name\": \"Kollektivtrafiken Gotland, estimated\", \"orientation\": \"v\", \"showlegend\": true, \"type\": \"scatter\", \"x\": [2017, 2018, 2019], \"xaxis\": \"x\", \"y\": [0.145, 0.142, 0.127], \"yaxis\": \"y\"}, {\"hovertemplate\": \"PTA=Lule\\u00e5 Lokaltrafik<br>type=recorded<br>year=%{x}<br>market_share=%{y}<extra></extra>\", \"legendgroup\": \"Lule\\u00e5 Lokaltrafik, recorded\", \"line\": {\"color\": \"#FF97FF\", \"dash\": \"solid\"}, \"mode\": \"lines\", \"name\": \"Lule\\u00e5 Lokaltrafik, recorded\", \"orientation\": \"v\", \"showlegend\": true, \"type\": \"scatter\", \"x\": [2017, 2018, 2019], \"xaxis\": \"x\", \"y\": [0.22, 0.22, 0.21], \"yaxis\": \"y\"}, {\"hovertemplate\": \"PTA=Lule\\u00e5 Lokaltrafik<br>type=estimated<br>year=%{x}<br>market_share=%{y}<extra></extra>\", \"legendgroup\": \"Lule\\u00e5 Lokaltrafik, estimated\", \"line\": {\"color\": \"#FF97FF\", \"dash\": \"dot\"}, \"mode\": \"lines\", \"name\": \"Lule\\u00e5 Lokaltrafik, estimated\", \"orientation\": \"v\", \"showlegend\": true, \"type\": \"scatter\", \"x\": [2017, 2018, 2019], \"xaxis\": \"x\", \"y\": [0.216, 0.211, 0.203], \"yaxis\": \"y\"}, {\"hovertemplate\": \"PTA=L\\u00e4nstrafiken Kronoberg<br>type=recorded<br>year=%{x}<br>market_share=%{y}<extra></extra>\", \"legendgroup\": \"L\\u00e4nstrafiken Kronoberg, recorded\", \"line\": {\"color\": \"#FECB52\", \"dash\": \"solid\"}, \"mode\": \"lines\", \"name\": \"L\\u00e4nstrafiken Kronoberg, recorded\", \"orientation\": \"v\", \"showlegend\": true, \"type\": \"scatter\", \"x\": [2017, 2018, 2019], \"xaxis\": \"x\", \"y\": [0.14, 0.15, 0.14], \"yaxis\": \"y\"}, {\"hovertemplate\": \"PTA=L\\u00e4nstrafiken Kronoberg<br>type=estimated<br>year=%{x}<br>market_share=%{y}<extra></extra>\", \"legendgroup\": \"L\\u00e4nstrafiken Kronoberg, estimated\", \"line\": {\"color\": \"#FECB52\", \"dash\": \"dot\"}, \"mode\": \"lines\", \"name\": \"L\\u00e4nstrafiken Kronoberg, estimated\", \"orientation\": \"v\", \"showlegend\": true, \"type\": \"scatter\", \"x\": [2017, 2018, 2019], \"xaxis\": \"x\", \"y\": [0.152, 0.149, 0.137], \"yaxis\": \"y\"}, {\"hovertemplate\": \"PTA=L\\u00e4nstrafiken V\\u00e4sterbotten<br>type=recorded<br>year=%{x}<br>market_share=%{y}<extra></extra>\", \"legendgroup\": \"L\\u00e4nstrafiken V\\u00e4sterbotten, recorded\", \"line\": {\"color\": \"#636efa\", \"dash\": \"solid\"}, \"mode\": \"lines\", \"name\": \"L\\u00e4nstrafiken V\\u00e4sterbotten, recorded\", \"orientation\": \"v\", \"showlegend\": true, \"type\": \"scatter\", \"x\": [2017, 2018, 2019], \"xaxis\": \"x\", \"y\": [0.15, 0.18, 0.17], \"yaxis\": \"y\"}, {\"hovertemplate\": \"PTA=L\\u00e4nstrafiken V\\u00e4sterbotten<br>type=estimated<br>year=%{x}<br>market_share=%{y}<extra></extra>\", \"legendgroup\": \"L\\u00e4nstrafiken V\\u00e4sterbotten, estimated\", \"line\": {\"color\": \"#636efa\", \"dash\": \"dot\"}, \"mode\": \"lines\", \"name\": \"L\\u00e4nstrafiken V\\u00e4sterbotten, estimated\", \"orientation\": \"v\", \"showlegend\": true, \"type\": \"scatter\", \"x\": [2017, 2018, 2019], \"xaxis\": \"x\", \"y\": [0.146, 0.143, 0.135], \"yaxis\": \"y\"}, {\"hovertemplate\": \"PTA=L\\u00e4nstrafiken i J\\u00e4mtlands l\\u00e4n<br>type=recorded<br>year=%{x}<br>market_share=%{y}<extra></extra>\", \"legendgroup\": \"L\\u00e4nstrafiken i J\\u00e4mtlands l\\u00e4n, recorded\", \"line\": {\"color\": \"#EF553B\", \"dash\": \"solid\"}, \"mode\": \"lines\", \"name\": \"L\\u00e4nstrafiken i J\\u00e4mtlands l\\u00e4n, recorded\", \"orientation\": \"v\", \"showlegend\": true, \"type\": \"scatter\", \"x\": [2017, 2018, 2019], \"xaxis\": \"x\", \"y\": [0.12, 0.13, 0.14], \"yaxis\": \"y\"}, {\"hovertemplate\": \"PTA=L\\u00e4nstrafiken i J\\u00e4mtlands l\\u00e4n<br>type=estimated<br>year=%{x}<br>market_share=%{y}<extra></extra>\", \"legendgroup\": \"L\\u00e4nstrafiken i J\\u00e4mtlands l\\u00e4n, estimated\", \"line\": {\"color\": \"#EF553B\", \"dash\": \"dot\"}, \"mode\": \"lines\", \"name\": \"L\\u00e4nstrafiken i J\\u00e4mtlands l\\u00e4n, estimated\", \"orientation\": \"v\", \"showlegend\": true, \"type\": \"scatter\", \"x\": [2017, 2018, 2019], \"xaxis\": \"x\", \"y\": [0.145, 0.139, 0.131], \"yaxis\": \"y\"}, {\"hovertemplate\": \"PTA=L\\u00e4nstrafiken i Norrbotten<br>type=recorded<br>year=%{x}<br>market_share=%{y}<extra></extra>\", \"legendgroup\": \"L\\u00e4nstrafiken i Norrbotten, recorded\", \"line\": {\"color\": \"#00cc96\", \"dash\": \"solid\"}, \"mode\": \"lines\", \"name\": \"L\\u00e4nstrafiken i Norrbotten, recorded\", \"orientation\": \"v\", \"showlegend\": true, \"type\": \"scatter\", \"x\": [2017, 2018, 2019], \"xaxis\": \"x\", \"y\": [0.07, 0.06, 0.09], \"yaxis\": \"y\"}, {\"hovertemplate\": \"PTA=L\\u00e4nstrafiken i Norrbotten<br>type=estimated<br>year=%{x}<br>market_share=%{y}<extra></extra>\", \"legendgroup\": \"L\\u00e4nstrafiken i Norrbotten, estimated\", \"line\": {\"color\": \"#00cc96\", \"dash\": \"dot\"}, \"mode\": \"lines\", \"name\": \"L\\u00e4nstrafiken i Norrbotten, estimated\", \"orientation\": \"v\", \"showlegend\": true, \"type\": \"scatter\", \"x\": [2017, 2018, 2019], \"xaxis\": \"x\", \"y\": [0.153, 0.153, 0.137], \"yaxis\": \"y\"}, {\"hovertemplate\": \"PTA=L\\u00e4nstrafiken \\u00d6rebro<br>type=recorded<br>year=%{x}<br>market_share=%{y}<extra></extra>\", \"legendgroup\": \"L\\u00e4nstrafiken \\u00d6rebro, recorded\", \"line\": {\"color\": \"#ab63fa\", \"dash\": \"solid\"}, \"mode\": \"lines\", \"name\": \"L\\u00e4nstrafiken \\u00d6rebro, recorded\", \"orientation\": \"v\", \"showlegend\": true, \"type\": \"scatter\", \"x\": [2017, 2018, 2019], \"xaxis\": \"x\", \"y\": [0.13, 0.16, 0.17], \"yaxis\": \"y\"}, {\"hovertemplate\": \"PTA=L\\u00e4nstrafiken \\u00d6rebro<br>type=estimated<br>year=%{x}<br>market_share=%{y}<extra></extra>\", \"legendgroup\": \"L\\u00e4nstrafiken \\u00d6rebro, estimated\", \"line\": {\"color\": \"#ab63fa\", \"dash\": \"dot\"}, \"mode\": \"lines\", \"name\": \"L\\u00e4nstrafiken \\u00d6rebro, estimated\", \"orientation\": \"v\", \"showlegend\": true, \"type\": \"scatter\", \"x\": [2017, 2018, 2019], \"xaxis\": \"x\", \"y\": [0.152, 0.15, 0.134], \"yaxis\": \"y\"}, {\"hovertemplate\": \"PTA=Nationellt snitt<br>type=recorded<br>year=%{x}<br>market_share=%{y}<extra></extra>\", \"legendgroup\": \"Nationellt snitt, recorded\", \"line\": {\"color\": \"#FFA15A\", \"dash\": \"solid\"}, \"mode\": \"lines\", \"name\": \"Nationellt snitt, recorded\", \"orientation\": \"v\", \"showlegend\": true, \"type\": \"scatter\", \"x\": [2017, 2018, 2019], \"xaxis\": \"x\", \"y\": [0.27, 0.31, 0.31], \"yaxis\": \"y\"}, {\"hovertemplate\": \"PTA=Nationellt snitt<br>type=estimated<br>year=%{x}<br>market_share=%{y}<extra></extra>\", \"legendgroup\": \"Nationellt snitt, estimated\", \"line\": {\"color\": \"#FFA15A\", \"dash\": \"dot\"}, \"mode\": \"lines\", \"name\": \"Nationellt snitt, estimated\", \"orientation\": \"v\", \"showlegend\": true, \"type\": \"scatter\", \"x\": [2017, 2018, 2019], \"xaxis\": \"x\", \"y\": [0.295, 0.291, 0.284], \"yaxis\": \"y\"}, {\"hovertemplate\": \"PTA=SL<br>type=recorded<br>year=%{x}<br>market_share=%{y}<extra></extra>\", \"legendgroup\": \"SL, recorded\", \"line\": {\"color\": \"#19d3f3\", \"dash\": \"solid\"}, \"mode\": \"lines\", \"name\": \"SL, recorded\", \"orientation\": \"v\", \"showlegend\": true, \"type\": \"scatter\", \"x\": [2017, 2018, 2019], \"xaxis\": \"x\", \"y\": [0.56, 0.57, 0.56], \"yaxis\": \"y\"}, {\"hovertemplate\": \"PTA=SL<br>type=estimated<br>year=%{x}<br>market_share=%{y}<extra></extra>\", \"legendgroup\": \"SL, estimated\", \"line\": {\"color\": \"#19d3f3\", \"dash\": \"dot\"}, \"mode\": \"lines\", \"name\": \"SL, estimated\", \"orientation\": \"v\", \"showlegend\": true, \"type\": \"scatter\", \"x\": [2017, 2018, 2019], \"xaxis\": \"x\", \"y\": [0.555, 0.553, 0.56], \"yaxis\": \"y\"}, {\"hovertemplate\": \"PTA=Sk\\u00e5netrafiken<br>type=recorded<br>year=%{x}<br>market_share=%{y}<extra></extra>\", \"legendgroup\": \"Sk\\u00e5netrafiken, recorded\", \"line\": {\"color\": \"#FF6692\", \"dash\": \"solid\"}, \"mode\": \"lines\", \"name\": \"Sk\\u00e5netrafiken, recorded\", \"orientation\": \"v\", \"showlegend\": true, \"type\": \"scatter\", \"x\": [2017, 2018, 2019], \"xaxis\": \"x\", \"y\": [0.32, 0.3, 0.32], \"yaxis\": \"y\"}, {\"hovertemplate\": \"PTA=Sk\\u00e5netrafiken<br>type=estimated<br>year=%{x}<br>market_share=%{y}<extra></extra>\", \"legendgroup\": \"Sk\\u00e5netrafiken, estimated\", \"line\": {\"color\": \"#FF6692\", \"dash\": \"dot\"}, \"mode\": \"lines\", \"name\": \"Sk\\u00e5netrafiken, estimated\", \"orientation\": \"v\", \"showlegend\": true, \"type\": \"scatter\", \"x\": [2017, 2018, 2019], \"xaxis\": \"x\", \"y\": [0.31, 0.306, 0.303], \"yaxis\": \"y\"}, {\"hovertemplate\": \"PTA=UL<br>type=recorded<br>year=%{x}<br>market_share=%{y}<extra></extra>\", \"legendgroup\": \"UL, recorded\", \"line\": {\"color\": \"#B6E880\", \"dash\": \"solid\"}, \"mode\": \"lines\", \"name\": \"UL, recorded\", \"orientation\": \"v\", \"showlegend\": true, \"type\": \"scatter\", \"x\": [2017, 2018, 2019], \"xaxis\": \"x\", \"y\": [0.29, 0.31, 0.33], \"yaxis\": \"y\"}, {\"hovertemplate\": \"PTA=UL<br>type=estimated<br>year=%{x}<br>market_share=%{y}<extra></extra>\", \"legendgroup\": \"UL, estimated\", \"line\": {\"color\": \"#B6E880\", \"dash\": \"dot\"}, \"mode\": \"lines\", \"name\": \"UL, estimated\", \"orientation\": \"v\", \"showlegend\": true, \"type\": \"scatter\", \"x\": [2017, 2018, 2019], \"xaxis\": \"x\", \"y\": [0.308, 0.303, 0.298], \"yaxis\": \"y\"}, {\"hovertemplate\": \"PTA=VL<br>type=recorded<br>year=%{x}<br>market_share=%{y}<extra></extra>\", \"legendgroup\": \"VL, recorded\", \"line\": {\"color\": \"#FF97FF\", \"dash\": \"solid\"}, \"mode\": \"lines\", \"name\": \"VL, recorded\", \"orientation\": \"v\", \"showlegend\": true, \"type\": \"scatter\", \"x\": [2017, 2018, 2019], \"xaxis\": \"x\", \"y\": [0.17, 0.19, 0.16], \"yaxis\": \"y\"}, {\"hovertemplate\": \"PTA=VL<br>type=estimated<br>year=%{x}<br>market_share=%{y}<extra></extra>\", \"legendgroup\": \"VL, estimated\", \"line\": {\"color\": \"#FF97FF\", \"dash\": \"dot\"}, \"mode\": \"lines\", \"name\": \"VL, estimated\", \"orientation\": \"v\", \"showlegend\": true, \"type\": \"scatter\", \"x\": [2017, 2018, 2019], \"xaxis\": \"x\", \"y\": [0.15, 0.15, 0.139], \"yaxis\": \"y\"}, {\"hovertemplate\": \"PTA=V\\u00e4rmlandstrafik<br>type=recorded<br>year=%{x}<br>market_share=%{y}<extra></extra>\", \"legendgroup\": \"V\\u00e4rmlandstrafik, recorded\", \"line\": {\"color\": \"#FECB52\", \"dash\": \"solid\"}, \"mode\": \"lines\", \"name\": \"V\\u00e4rmlandstrafik, recorded\", \"orientation\": \"v\", \"showlegend\": true, \"type\": \"scatter\", \"x\": [2017, 2018, 2019], \"xaxis\": \"x\", \"y\": [0.1, 0.1, 0.12], \"yaxis\": \"y\"}, {\"hovertemplate\": \"PTA=V\\u00e4rmlandstrafik<br>type=estimated<br>year=%{x}<br>market_share=%{y}<extra></extra>\", \"legendgroup\": \"V\\u00e4rmlandstrafik, estimated\", \"line\": {\"color\": \"#FECB52\", \"dash\": \"dot\"}, \"mode\": \"lines\", \"name\": \"V\\u00e4rmlandstrafik, estimated\", \"orientation\": \"v\", \"showlegend\": true, \"type\": \"scatter\", \"x\": [2017, 2018, 2019], \"xaxis\": \"x\", \"y\": [0.153, 0.151, 0.137], \"yaxis\": \"y\"}, {\"hovertemplate\": \"PTA=V\\u00e4sttrafik<br>type=recorded<br>year=%{x}<br>market_share=%{y}<extra></extra>\", \"legendgroup\": \"V\\u00e4sttrafik, recorded\", \"line\": {\"color\": \"#636efa\", \"dash\": \"solid\"}, \"mode\": \"lines\", \"name\": \"V\\u00e4sttrafik, recorded\", \"orientation\": \"v\", \"showlegend\": true, \"type\": \"scatter\", \"x\": [2017, 2018, 2019], \"xaxis\": \"x\", \"y\": [0.32, 0.33, 0.32], \"yaxis\": \"y\"}, {\"hovertemplate\": \"PTA=V\\u00e4sttrafik<br>type=estimated<br>year=%{x}<br>market_share=%{y}<extra></extra>\", \"legendgroup\": \"V\\u00e4sttrafik, estimated\", \"line\": {\"color\": \"#636efa\", \"dash\": \"dot\"}, \"mode\": \"lines\", \"name\": \"V\\u00e4sttrafik, estimated\", \"orientation\": \"v\", \"showlegend\": true, \"type\": \"scatter\", \"x\": [2017, 2018, 2019], \"xaxis\": \"x\", \"y\": [0.32, 0.317, 0.313], \"yaxis\": \"y\"}, {\"hovertemplate\": \"PTA=X-Trafik<br>type=recorded<br>year=%{x}<br>market_share=%{y}<extra></extra>\", \"legendgroup\": \"X-Trafik, recorded\", \"line\": {\"color\": \"#EF553B\", \"dash\": \"solid\"}, \"mode\": \"lines\", \"name\": \"X-Trafik, recorded\", \"orientation\": \"v\", \"showlegend\": true, \"type\": \"scatter\", \"x\": [2017, 2018, 2019], \"xaxis\": \"x\", \"y\": [0.15, 0.16, 0.17], \"yaxis\": \"y\"}, {\"hovertemplate\": \"PTA=X-Trafik<br>type=estimated<br>year=%{x}<br>market_share=%{y}<extra></extra>\", \"legendgroup\": \"X-Trafik, estimated\", \"line\": {\"color\": \"#EF553B\", \"dash\": \"dot\"}, \"mode\": \"lines\", \"name\": \"X-Trafik, estimated\", \"orientation\": \"v\", \"showlegend\": true, \"type\": \"scatter\", \"x\": [2017, 2018, 2019], \"xaxis\": \"x\", \"y\": [0.155, 0.15, 0.141], \"yaxis\": \"y\"}, {\"hovertemplate\": \"PTA=\\u00d6stg\\u00f6tatrafiken<br>type=recorded<br>year=%{x}<br>market_share=%{y}<extra></extra>\", \"legendgroup\": \"\\u00d6stg\\u00f6tatrafiken, recorded\", \"line\": {\"color\": \"#00cc96\", \"dash\": \"solid\"}, \"mode\": \"lines\", \"name\": \"\\u00d6stg\\u00f6tatrafiken, recorded\", \"orientation\": \"v\", \"showlegend\": true, \"type\": \"scatter\", \"x\": [2017, 2018, 2019], \"xaxis\": \"x\", \"y\": [0.23, 0.21, 0.19], \"yaxis\": \"y\"}, {\"hovertemplate\": \"PTA=\\u00d6stg\\u00f6tatrafiken<br>type=estimated<br>year=%{x}<br>market_share=%{y}<extra></extra>\", \"legendgroup\": \"\\u00d6stg\\u00f6tatrafiken, estimated\", \"line\": {\"color\": \"#00cc96\", \"dash\": \"dot\"}, \"mode\": \"lines\", \"name\": \"\\u00d6stg\\u00f6tatrafiken, estimated\", \"orientation\": \"v\", \"showlegend\": true, \"type\": \"scatter\", \"x\": [2017, 2018, 2019], \"xaxis\": \"x\", \"y\": [0.206, 0.206, 0.198], \"yaxis\": \"y\"}],                        {\"legend\": {\"title\": {\"text\": \"PTA, type\"}, \"tracegroupgap\": 0}, \"template\": {\"data\": {\"bar\": [{\"error_x\": {\"color\": \"#2a3f5f\"}, \"error_y\": {\"color\": \"#2a3f5f\"}, \"marker\": {\"line\": {\"color\": \"#E5ECF6\", \"width\": 0.5}}, \"type\": \"bar\"}], \"barpolar\": [{\"marker\": {\"line\": {\"color\": \"#E5ECF6\", \"width\": 0.5}}, \"type\": \"barpolar\"}], \"carpet\": [{\"aaxis\": {\"endlinecolor\": \"#2a3f5f\", \"gridcolor\": \"white\", \"linecolor\": \"white\", \"minorgridcolor\": \"white\", \"startlinecolor\": \"#2a3f5f\"}, \"baxis\": {\"endlinecolor\": \"#2a3f5f\", \"gridcolor\": \"white\", \"linecolor\": \"white\", \"minorgridcolor\": \"white\", \"startlinecolor\": \"#2a3f5f\"}, \"type\": \"carpet\"}], \"choropleth\": [{\"colorbar\": {\"outlinewidth\": 0, \"ticks\": \"\"}, \"type\": \"choropleth\"}], \"contour\": [{\"colorbar\": {\"outlinewidth\": 0, \"ticks\": \"\"}, \"colorscale\": [[0.0, \"#0d0887\"], [0.1111111111111111, \"#46039f\"], [0.2222222222222222, \"#7201a8\"], [0.3333333333333333, \"#9c179e\"], [0.4444444444444444, \"#bd3786\"], [0.5555555555555556, \"#d8576b\"], [0.6666666666666666, \"#ed7953\"], [0.7777777777777778, \"#fb9f3a\"], [0.8888888888888888, \"#fdca26\"], [1.0, \"#f0f921\"]], \"type\": \"contour\"}], \"contourcarpet\": [{\"colorbar\": {\"outlinewidth\": 0, \"ticks\": \"\"}, \"type\": \"contourcarpet\"}], \"heatmap\": [{\"colorbar\": {\"outlinewidth\": 0, \"ticks\": \"\"}, \"colorscale\": [[0.0, \"#0d0887\"], [0.1111111111111111, \"#46039f\"], [0.2222222222222222, \"#7201a8\"], [0.3333333333333333, \"#9c179e\"], [0.4444444444444444, \"#bd3786\"], [0.5555555555555556, \"#d8576b\"], [0.6666666666666666, \"#ed7953\"], [0.7777777777777778, \"#fb9f3a\"], [0.8888888888888888, \"#fdca26\"], [1.0, \"#f0f921\"]], \"type\": \"heatmap\"}], \"heatmapgl\": [{\"colorbar\": {\"outlinewidth\": 0, \"ticks\": \"\"}, \"colorscale\": [[0.0, \"#0d0887\"], [0.1111111111111111, \"#46039f\"], [0.2222222222222222, \"#7201a8\"], [0.3333333333333333, \"#9c179e\"], [0.4444444444444444, \"#bd3786\"], [0.5555555555555556, \"#d8576b\"], [0.6666666666666666, \"#ed7953\"], [0.7777777777777778, \"#fb9f3a\"], [0.8888888888888888, \"#fdca26\"], [1.0, \"#f0f921\"]], \"type\": \"heatmapgl\"}], \"histogram\": [{\"marker\": {\"colorbar\": {\"outlinewidth\": 0, \"ticks\": \"\"}}, \"type\": \"histogram\"}], \"histogram2d\": [{\"colorbar\": {\"outlinewidth\": 0, \"ticks\": \"\"}, \"colorscale\": [[0.0, \"#0d0887\"], [0.1111111111111111, \"#46039f\"], [0.2222222222222222, \"#7201a8\"], [0.3333333333333333, \"#9c179e\"], [0.4444444444444444, \"#bd3786\"], [0.5555555555555556, \"#d8576b\"], [0.6666666666666666, \"#ed7953\"], [0.7777777777777778, \"#fb9f3a\"], [0.8888888888888888, \"#fdca26\"], [1.0, \"#f0f921\"]], \"type\": \"histogram2d\"}], \"histogram2dcontour\": [{\"colorbar\": {\"outlinewidth\": 0, \"ticks\": \"\"}, \"colorscale\": [[0.0, \"#0d0887\"], [0.1111111111111111, \"#46039f\"], [0.2222222222222222, \"#7201a8\"], [0.3333333333333333, \"#9c179e\"], [0.4444444444444444, \"#bd3786\"], [0.5555555555555556, \"#d8576b\"], [0.6666666666666666, \"#ed7953\"], [0.7777777777777778, \"#fb9f3a\"], [0.8888888888888888, \"#fdca26\"], [1.0, \"#f0f921\"]], \"type\": \"histogram2dcontour\"}], \"mesh3d\": [{\"colorbar\": {\"outlinewidth\": 0, \"ticks\": \"\"}, \"type\": \"mesh3d\"}], \"parcoords\": [{\"line\": {\"colorbar\": {\"outlinewidth\": 0, \"ticks\": \"\"}}, \"type\": \"parcoords\"}], \"pie\": [{\"automargin\": true, \"type\": \"pie\"}], \"scatter\": [{\"marker\": {\"colorbar\": {\"outlinewidth\": 0, \"ticks\": \"\"}}, \"type\": \"scatter\"}], \"scatter3d\": [{\"line\": {\"colorbar\": {\"outlinewidth\": 0, \"ticks\": \"\"}}, \"marker\": {\"colorbar\": {\"outlinewidth\": 0, \"ticks\": \"\"}}, \"type\": \"scatter3d\"}], \"scattercarpet\": [{\"marker\": {\"colorbar\": {\"outlinewidth\": 0, \"ticks\": \"\"}}, \"type\": \"scattercarpet\"}], \"scattergeo\": [{\"marker\": {\"colorbar\": {\"outlinewidth\": 0, \"ticks\": \"\"}}, \"type\": \"scattergeo\"}], \"scattergl\": [{\"marker\": {\"colorbar\": {\"outlinewidth\": 0, \"ticks\": \"\"}}, \"type\": \"scattergl\"}], \"scattermapbox\": [{\"marker\": {\"colorbar\": {\"outlinewidth\": 0, \"ticks\": \"\"}}, \"type\": \"scattermapbox\"}], \"scatterpolar\": [{\"marker\": {\"colorbar\": {\"outlinewidth\": 0, \"ticks\": \"\"}}, \"type\": \"scatterpolar\"}], \"scatterpolargl\": [{\"marker\": {\"colorbar\": {\"outlinewidth\": 0, \"ticks\": \"\"}}, \"type\": \"scatterpolargl\"}], \"scatterternary\": [{\"marker\": {\"colorbar\": {\"outlinewidth\": 0, \"ticks\": \"\"}}, \"type\": \"scatterternary\"}], \"surface\": [{\"colorbar\": {\"outlinewidth\": 0, \"ticks\": \"\"}, \"colorscale\": [[0.0, \"#0d0887\"], [0.1111111111111111, \"#46039f\"], [0.2222222222222222, \"#7201a8\"], [0.3333333333333333, \"#9c179e\"], [0.4444444444444444, \"#bd3786\"], [0.5555555555555556, \"#d8576b\"], [0.6666666666666666, \"#ed7953\"], [0.7777777777777778, \"#fb9f3a\"], [0.8888888888888888, \"#fdca26\"], [1.0, \"#f0f921\"]], \"type\": \"surface\"}], \"table\": [{\"cells\": {\"fill\": {\"color\": \"#EBF0F8\"}, \"line\": {\"color\": \"white\"}}, \"header\": {\"fill\": {\"color\": \"#C8D4E3\"}, \"line\": {\"color\": \"white\"}}, \"type\": \"table\"}]}, \"layout\": {\"annotationdefaults\": {\"arrowcolor\": \"#2a3f5f\", \"arrowhead\": 0, \"arrowwidth\": 1}, \"autotypenumbers\": \"strict\", \"coloraxis\": {\"colorbar\": {\"outlinewidth\": 0, \"ticks\": \"\"}}, \"colorscale\": {\"diverging\": [[0, \"#8e0152\"], [0.1, \"#c51b7d\"], [0.2, \"#de77ae\"], [0.3, \"#f1b6da\"], [0.4, \"#fde0ef\"], [0.5, \"#f7f7f7\"], [0.6, \"#e6f5d0\"], [0.7, \"#b8e186\"], [0.8, \"#7fbc41\"], [0.9, \"#4d9221\"], [1, \"#276419\"]], \"sequential\": [[0.0, \"#0d0887\"], [0.1111111111111111, \"#46039f\"], [0.2222222222222222, \"#7201a8\"], [0.3333333333333333, \"#9c179e\"], [0.4444444444444444, \"#bd3786\"], [0.5555555555555556, \"#d8576b\"], [0.6666666666666666, \"#ed7953\"], [0.7777777777777778, \"#fb9f3a\"], [0.8888888888888888, \"#fdca26\"], [1.0, \"#f0f921\"]], \"sequentialminus\": [[0.0, \"#0d0887\"], [0.1111111111111111, \"#46039f\"], [0.2222222222222222, \"#7201a8\"], [0.3333333333333333, \"#9c179e\"], [0.4444444444444444, \"#bd3786\"], [0.5555555555555556, \"#d8576b\"], [0.6666666666666666, \"#ed7953\"], [0.7777777777777778, \"#fb9f3a\"], [0.8888888888888888, \"#fdca26\"], [1.0, \"#f0f921\"]]}, \"colorway\": [\"#636efa\", \"#EF553B\", \"#00cc96\", \"#ab63fa\", \"#FFA15A\", \"#19d3f3\", \"#FF6692\", \"#B6E880\", \"#FF97FF\", \"#FECB52\"], \"font\": {\"color\": \"#2a3f5f\"}, \"geo\": {\"bgcolor\": \"white\", \"lakecolor\": \"white\", \"landcolor\": \"#E5ECF6\", \"showlakes\": true, \"showland\": true, \"subunitcolor\": \"white\"}, \"hoverlabel\": {\"align\": \"left\"}, \"hovermode\": \"closest\", \"mapbox\": {\"style\": \"light\"}, \"paper_bgcolor\": \"white\", \"plot_bgcolor\": \"#E5ECF6\", \"polar\": {\"angularaxis\": {\"gridcolor\": \"white\", \"linecolor\": \"white\", \"ticks\": \"\"}, \"bgcolor\": \"#E5ECF6\", \"radialaxis\": {\"gridcolor\": \"white\", \"linecolor\": \"white\", \"ticks\": \"\"}}, \"scene\": {\"xaxis\": {\"backgroundcolor\": \"#E5ECF6\", \"gridcolor\": \"white\", \"gridwidth\": 2, \"linecolor\": \"white\", \"showbackground\": true, \"ticks\": \"\", \"zerolinecolor\": \"white\"}, \"yaxis\": {\"backgroundcolor\": \"#E5ECF6\", \"gridcolor\": \"white\", \"gridwidth\": 2, \"linecolor\": \"white\", \"showbackground\": true, \"ticks\": \"\", \"zerolinecolor\": \"white\"}, \"zaxis\": {\"backgroundcolor\": \"#E5ECF6\", \"gridcolor\": \"white\", \"gridwidth\": 2, \"linecolor\": \"white\", \"showbackground\": true, \"ticks\": \"\", \"zerolinecolor\": \"white\"}}, \"shapedefaults\": {\"line\": {\"color\": \"#2a3f5f\"}}, \"ternary\": {\"aaxis\": {\"gridcolor\": \"white\", \"linecolor\": \"white\", \"ticks\": \"\"}, \"baxis\": {\"gridcolor\": \"white\", \"linecolor\": \"white\", \"ticks\": \"\"}, \"bgcolor\": \"#E5ECF6\", \"caxis\": {\"gridcolor\": \"white\", \"linecolor\": \"white\", \"ticks\": \"\"}}, \"title\": {\"x\": 0.05}, \"xaxis\": {\"automargin\": true, \"gridcolor\": \"white\", \"linecolor\": \"white\", \"ticks\": \"\", \"title\": {\"standoff\": 15}, \"zerolinecolor\": \"white\", \"zerolinewidth\": 2}, \"yaxis\": {\"automargin\": true, \"gridcolor\": \"white\", \"linecolor\": \"white\", \"ticks\": \"\", \"title\": {\"standoff\": 15}, \"zerolinecolor\": \"white\", \"zerolinewidth\": 2}}}, \"title\": {\"text\": \"Market share for each PTA\"}, \"xaxis\": {\"anchor\": \"y\", \"domain\": [0.0, 1.0], \"title\": {\"text\": \"year\"}}, \"yaxis\": {\"anchor\": \"x\", \"domain\": [0.0, 1.0], \"title\": {\"text\": \"market_share\"}}},                        {\"responsive\": true}                    ).then(function(){\n",
       "                            \n",
       "var gd = document.getElementById('5656b1ac-b63c-4efe-85df-b8c04ea9753e');\n",
       "var x = new MutationObserver(function (mutations, observer) {{\n",
       "        var display = window.getComputedStyle(gd).display;\n",
       "        if (!display || display === 'none') {{\n",
       "            console.log([gd, 'removed!']);\n",
       "            Plotly.purge(gd);\n",
       "            observer.disconnect();\n",
       "        }}\n",
       "}});\n",
       "\n",
       "// Listen for the removal of the full notebook cells\n",
       "var notebookContainer = gd.closest('#notebook-container');\n",
       "if (notebookContainer) {{\n",
       "    x.observe(notebookContainer, {childList: true});\n",
       "}}\n",
       "\n",
       "// Listen for the clearing of the current output cell\n",
       "var outputEl = gd.closest('.output');\n",
       "if (outputEl) {{\n",
       "    x.observe(outputEl, {childList: true});\n",
       "}}\n",
       "\n",
       "                        })                };                });            </script>        </div>"
      ]
     },
     "metadata": {},
     "output_type": "display_data"
    }
   ],
   "source": [
    "fig = px.line(concat_df2, x='year', y='market_share', color='PTA', title='Market share for each PTA',\n",
    "             line_dash='type',)\n",
    "fig.show()"
   ]
  },
  {
   "cell_type": "code",
   "execution_count": 140,
   "metadata": {},
   "outputs": [],
   "source": [
    "import ipywidgets as widgets\n",
    "\n",
    "punctuality2 = widgets.FloatSlider(\n",
    "    value=punctuality_init2,\n",
    "    min=punctuality_init2 - 0.1,\n",
    "    max=punctuality_init2 + 0.1,\n",
    "    step=0.01,\n",
    "    description='punctuality',\n",
    "    disabled=False,\n",
    "    continuous_update=False,\n",
    "    orientation='horizontal',\n",
    "    readout=True,\n",
    "    readout_format='.2f',\n",
    ")\n",
    "\n",
    "value2 = widgets.FloatSlider(\n",
    "    value=value_init2,\n",
    "    min=value_init2 - 0.1,\n",
    "    max=value_init2 + 0.1,\n",
    "    step=0.01,\n",
    "    description='value',\n",
    "    disabled=False,\n",
    "    continuous_update=False,\n",
    "    orientation='horizontal',\n",
    "    readout=True,\n",
    "    readout_format='.2f',\n",
    ")\n",
    "\n",
    "relevance2 = widgets.FloatSlider(\n",
    "    value=relevance_init2,\n",
    "    min=relevance_init2 - 0.1,\n",
    "    max=relevance_init2 + 0.1,\n",
    "    step=0.01,\n",
    "    description='relevance',\n",
    "    disabled=False,\n",
    "    continuous_update=False,\n",
    "    orientation='horizontal',\n",
    "    readout=True,\n",
    "    readout_format='.2f',\n",
    ")\n",
    "\n",
    "safety2 = widgets.FloatSlider(\n",
    "    value=safety_init2,\n",
    "    min=safety_init2 - 0.1,\n",
    "    max=safety_init2 + 0.1,\n",
    "    step=0.01,\n",
    "    description='safety',\n",
    "    disabled=False,\n",
    "    continuous_update=False,\n",
    "    orientation='horizontal',\n",
    "    readout=True,\n",
    "    readout_format='.2f',\n",
    ")"
   ]
  },
  {
   "cell_type": "code",
   "execution_count": 141,
   "metadata": {},
   "outputs": [
    {
     "data": {
      "application/vnd.jupyter.widget-view+json": {
       "model_id": "7104444aad07496fa84b04ff4f0671aa",
       "version_major": 2,
       "version_minor": 0
      },
      "text/plain": [
       "HBox(children=(VBox(children=(FloatSlider(value=0.52, continuous_update=False, description='punctuality', max=…"
      ]
     },
     "metadata": {},
     "output_type": "display_data"
    }
   ],
   "source": [
    "import pandas as pd\n",
    "from ipywidgets import interact, HBox, VBox, interactive_output\n",
    "\n",
    "x = df3[df3['year']==2019].sort_values(by='name')[df3.columns[1:-3]].values\n",
    "a2 = coef3[-4:].reshape(-1,1)\n",
    "b2 = coef3[:-4]\n",
    "w = df4[df4['year']==2019].sort_values(by='PTA')[df4.columns[1:-2]].values\n",
    "tmp = df2.sort_values(by=['year', 'PTA']).copy()\n",
    "\n",
    "def plot4(punctuality, value, relevance, safety):\n",
    "    X = np.empty((4,3))\n",
    "    X[:,2] = np.array([punctuality, value, relevance, safety])\n",
    "    X[:,1] = (x[:,1]/x[:,2])*X[:,2]\n",
    "    X[:,0] = (x[:,0]/x[:,2])*X[:,2]\n",
    "    \n",
    "    outputs = pd.DataFrame({\n",
    "    'PTA':tmp[tmp['year']==2019]['PTA'],\n",
    "    'value':b2 + w@np.sum(a2*X, axis=0)\n",
    "    })\n",
    "    outputs['value'] = outputs['value'].apply(lambda x:round(x, 3))\n",
    "    outputs = outputs.sort_values('value', \n",
    "#                                   ascending=False\n",
    "                                 )\n",
    "    \n",
    "    fig = px.bar(outputs, x='value', y='PTA',\n",
    "                width=500, height=700, range_x = [0, 1.0], text='value',\n",
    "                 orientation = 'h',\n",
    "#                  color='PTA',\n",
    "                title='Estimated market share')\n",
    "    fig.update_layout(showlegend=False)\n",
    "\n",
    "    return fig.show()\n",
    "\n",
    "out = widgets.interactive_output(plot4, \n",
    "                                 {'punctuality': punctuality2, 'value':value2, 'relevance': relevance2, 'safety': safety2})\n",
    "\n",
    "layout = widgets.Layout(display='flex',\n",
    "                flex_flow='raw',\n",
    "                align_items='center',\n",
    "                width='100%')\n",
    "display(HBox([VBox([punctuality2, value2, relevance2, safety2]), out], layout=layout))"
   ]
  },
  {
   "cell_type": "code",
   "execution_count": null,
   "metadata": {},
   "outputs": [],
   "source": []
  },
  {
   "cell_type": "code",
   "execution_count": null,
   "metadata": {},
   "outputs": [],
   "source": []
  }
 ],
 "metadata": {
  "kernelspec": {
   "display_name": "Python 3",
   "language": "python",
   "name": "python3"
  },
  "language_info": {
   "codemirror_mode": {
    "name": "ipython",
    "version": 3
   },
   "file_extension": ".py",
   "mimetype": "text/x-python",
   "name": "python",
   "nbconvert_exporter": "python",
   "pygments_lexer": "ipython3",
   "version": "3.8.5"
  }
 },
 "nbformat": 4,
 "nbformat_minor": 4
}
